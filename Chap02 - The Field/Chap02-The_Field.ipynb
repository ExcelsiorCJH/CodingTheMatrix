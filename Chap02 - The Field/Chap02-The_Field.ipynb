{
 "cells": [
  {
   "cell_type": "markdown",
   "metadata": {},
   "source": [
    "# Chapter02\n",
    "# 필드, 체 - Field\n",
    "> 추상대수학에서, 체(體, 독일어: Körper, 프랑스어: corps, 영어: field)는 사칙연산이 자유로이 시행될 수 있고, 산술의 잘 알려진 규칙들을 만족하는 대수 구조이다."
   ]
  },
  {
   "cell_type": "markdown",
   "metadata": {},
   "source": [
    "## 2.1 복소수에 대한 소개\n",
    "**복소수(complex number)**는 _실수(real number)_와 _허수(imaginary number)_의 합을 의미한다. <br />\n",
    "복소수는 $a+bi$ 형태로 나타낸다. $a$, $b$는 실수이며, $i$는 허수라고 부른다. \n",
    "* __실수(real number)__: 실직선 위의 점 또는 십진법 전개로 표현되는 수 체계이며, $-1, 0, \\frac{1}{2}, e, \\pi$ 등은 실수이다.\n",
    "* __허수(imaginary number)__: $0$을 포함하되 실수가 아닌 복소수를 의미하며 $i$라고 표기한다. <br />\n",
    "실수만 생각하면 $x^2=-1$의 해는 없지만 이를 해결하기 위해, $i$라는 허수를 도입하여 해결할 수 있다. \n",
    "$$i=\\sqrt { -1 } $$\n",
    "$$9i^2 = -9$$"
   ]
  },
  {
   "cell_type": "markdown",
   "metadata": {},
   "source": [
    "예를 들어, 식 $(x-1)^2 = -9$의 해는 $x-1=3i$로 설정하면, $x=1+3i$이다.<br />\n",
    "복소수는 _실수부(real part)_와 _허수부(imaginary part)_를 갖는다."
   ]
  },
  {
   "cell_type": "markdown",
   "metadata": {},
   "source": [
    "## 2.2 파이썬에서의 복소수\n",
    "파이썬은 복소수를 지원한다. [cmath](https://docs.python.org/3.5/library/cmath.html) 모듈을 이용해 파이썬에서 복소수를 다룰 수 있다."
   ]
  },
  {
   "cell_type": "code",
   "execution_count": 1,
   "metadata": {},
   "outputs": [],
   "source": [
    "from cmath import sqrt"
   ]
  },
  {
   "cell_type": "code",
   "execution_count": 2,
   "metadata": {},
   "outputs": [
    {
     "data": {
      "text/plain": [
       "3j"
      ]
     },
     "execution_count": 2,
     "metadata": {},
     "output_type": "execute_result"
    }
   ],
   "source": [
    "sqrt(-9)"
   ]
  },
  {
   "cell_type": "code",
   "execution_count": 4,
   "metadata": {},
   "outputs": [
    {
     "data": {
      "text/plain": [
       "2.0"
      ]
     },
     "execution_count": 4,
     "metadata": {},
     "output_type": "execute_result"
    }
   ],
   "source": [
    "z = 1 + 2j\n",
    "z.imag"
   ]
  },
  {
   "cell_type": "markdown",
   "metadata": {},
   "source": [
    "위의 예제에서도 알 수 있듯이, 허수는 `i`가 아닌 `j`라고 쓴다. 파이썬에서의 복소수는 아래와 같은 구조로 구성되어 있다.\n",
    "```\n",
    "z == z.real + z.imag*1j\n",
    "```\n",
    "실수부(real part)는 `z.real`, 허수부(imaginary part)는 `z.imag`로 구할 수 있다."
   ]
  },
  {
   "cell_type": "code",
   "execution_count": 3,
   "metadata": {},
   "outputs": [
    {
     "name": "stdout",
     "output_type": "stream",
     "text": [
      "real part: 1.0\n",
      "imaginary part: 3.0\n"
     ]
    }
   ],
   "source": [
    "z = 1 + 3j\n",
    "print('real part: {}'.format(z.real)) # 실수부\n",
    "print('imaginary part: {}'.format(z.imag)) # 허수부"
   ]
  },
  {
   "cell_type": "markdown",
   "metadata": {},
   "source": [
    "복소수에도 `+, -, *, /, **` 연산자를 쓸 수 있다."
   ]
  },
  {
   "cell_type": "code",
   "execution_count": 4,
   "metadata": {},
   "outputs": [
    {
     "data": {
      "text/plain": [
       "(11+23j)"
      ]
     },
     "execution_count": 4,
     "metadata": {},
     "output_type": "execute_result"
    }
   ],
   "source": [
    "(1 + 3j) + (10 + 20j)"
   ]
  },
  {
   "cell_type": "code",
   "execution_count": 5,
   "metadata": {},
   "outputs": [
    {
     "data": {
      "text/plain": [
       "(-9+0j)"
      ]
     },
     "execution_count": 5,
     "metadata": {},
     "output_type": "execute_result"
    }
   ],
   "source": [
    "3j**2"
   ]
  },
  {
   "cell_type": "code",
   "execution_count": 6,
   "metadata": {},
   "outputs": [
    {
     "data": {
      "text/plain": [
       "(-36+0j)"
      ]
     },
     "execution_count": 6,
     "metadata": {},
     "output_type": "execute_result"
    }
   ],
   "source": [
    "4*3j**2"
   ]
  },
  {
   "cell_type": "markdown",
   "metadata": {},
   "source": [
    "## 2.3 필드의 추상화\n",
    "선형대수학에서 개념, theorem, 프로시저 등이 실수뿐만 아니라 복소수와 다른 종류의 숫자에 대해서도 성립한다. \n",
    "* 개념, theorem, 프로시저를 산술 연산자 `+, -, *, /`에 대해 기술한다.\n",
    "* 이들 연산자는 교환법칙($a+b = b+a$), 결합법칙($a(b+c)=ab+ac$)와 같은 기본 법칙만을 만족한다고 가정한다.\n",
    "\n",
    "개념, theorem, 프로시저는 이들 기본 법칙에만 의존하므로, 필드(체)의 수 체계에 적용할 수 있다."
   ]
  },
  {
   "cell_type": "markdown",
   "metadata": {},
   "source": [
    "## 2.4 복소수 필드 $C$ 다루기\n",
    "파이썬에서 복소수 $z$는 두 개의 수 `z.real`(실수부) 과 `z.imag`(허수부)로 구성되어 있다. <br />\n",
    "이를 복소평면(complex plane) 위의 점으로 나타내면 아래의 그림과 같이 나타낼 수 있다.\n",
    "<img src=\"./images/complex_plane.PNG\" alt=\"복소평면\" width=\"40%\">"
   ]
  },
  {
   "cell_type": "code",
   "execution_count": 5,
   "metadata": {},
   "outputs": [],
   "source": [
    "from plotting import plot\n",
    "\n",
    "S = {2+2j, 3+2j, 1.75+1j, 2+1j, 2.25+1j, 2.5+1j, 2.75+1j, 3+1j, 3.25+1j}\n",
    "plot(S, 8)"
   ]
  },
  {
   "cell_type": "markdown",
   "metadata": {},
   "source": [
    "### 2.4.1 복소수의 절대값\n",
    "복소수 $z$의 절대값은 $\\left| z \\right|$로 쓰며 파이썬에서는 `abs(z)`로 표현한다. <br />\n",
    "아래의 그림과 같이 복소평면의 원점에서 대응하는 점까지의 *거리* 를 말한다.<br />\n",
    "피타고라스 정리에 의하면, $\\left| z \\right|^2 = (z.real)^2 + (z.imag)^2$ 이다.\n",
    "<img src=\"./images/abs_complex.PNG\" alt=\"복소평면\" width=\"40%\">"
   ]
  },
  {
   "cell_type": "code",
   "execution_count": 8,
   "metadata": {},
   "outputs": [
    {
     "data": {
      "text/plain": [
       "5.0"
      ]
     },
     "execution_count": 8,
     "metadata": {},
     "output_type": "execute_result"
    }
   ],
   "source": [
    "abs(3+4j)"
   ]
  },
  {
   "cell_type": "markdown",
   "metadata": {},
   "source": [
    "복소수 $z$의 **켤레(공액, conjugate) 복소수**는 $\\bar { z } $로 쓰며, `z.real - z.imag`로 정의된다.<br />\n",
    "파이썬에서는 `z.conugate()`로 켤레복소수를 얻을 수 있다."
   ]
  },
  {
   "cell_type": "code",
   "execution_count": 9,
   "metadata": {},
   "outputs": [
    {
     "data": {
      "text/plain": [
       "(3-4j)"
      ]
     },
     "execution_count": 9,
     "metadata": {},
     "output_type": "execute_result"
    }
   ],
   "source": [
    "(3+4j).conjugate()"
   ]
  },
  {
   "cell_type": "markdown",
   "metadata": {},
   "source": [
    "$\\left| z \\right|^2$를 $z$와 $\\bar { z }$를 이용하여 나타내면 아래와 같다.\n",
    "$$\\left| z \\right|^2 = z\\cdot \\bar { z }$$\n",
    "<img src=\"./images/proof01.png\">"
   ]
  },
  {
   "cell_type": "markdown",
   "metadata": {},
   "source": [
    "### 2.4.2 복소수 덧셈하기\n",
    "아래의 복소수 집합 $S$에, 각 복소수 $z$에 $1+2i$를 더해보자. 즉, 다음 함수를 $S$의 각 원소에 적용하여 $S_trans$라는 새로운 집합을 만든다.\n",
    "$$f(z)=1+2i+z$$"
   ]
  },
  {
   "cell_type": "code",
   "execution_count": 10,
   "metadata": {},
   "outputs": [],
   "source": [
    "S = {2+2j, 3+2j, 1.75+1j, 2+1j, 2.25+1j, 2.5+1j, 2.75+1j, 3+1j, 3.25+1j}\n",
    "S_trans = {z+(1+2j) for z in S}"
   ]
  },
  {
   "cell_type": "code",
   "execution_count": 11,
   "metadata": {},
   "outputs": [],
   "source": [
    "plot(S_trans, 8)"
   ]
  },
  {
   "cell_type": "markdown",
   "metadata": {},
   "source": [
    "위의 함수 $f(z)$는 실수좌표($x$축)를 $1$만큼, 허수좌표($y$축)을 $2$만큼 증가시킨다. 즉, 아래의 그림과 같이 그래프에서 오른쪽으로 1칸, 위쪽으로 2칸 이동한 것과 같다.\n",
    "<img src=\"./images/translation.png\" alt=\"평행이동\" width=\"40%\">"
   ]
  },
  {
   "cell_type": "markdown",
   "metadata": {},
   "source": [
    "복소수의 평행이동을 다음과 같이 나타낼 수 있다. $z_0$은 복소수를 나타낸다.\n",
    "$$f(z)=z_0+z$$\n",
    "<img src=\"./images/translation02.png\" alt=\"평행이동\" width=\"40%\">"
   ]
  },
  {
   "cell_type": "markdown",
   "metadata": {},
   "source": [
    "### 평행이동 합성하기, 화살표 더하기\n",
    "$f_1(z)=z_1+z$와 $f_2(z)=z_2+z$를 합성하면,\n",
    "$$\\begin{eqnarray} ({ f }_{ 2 }\\circ { f }_{ 1 })(z) & = & { f }_{ 2 }\\left( { f }_{ 1 }\\left( z \\right)  \\right)  \\\\  & = & { f }_{ 2 }\\left( { z }_{ 1 }+{ z } \\right)  \\\\  & = & { z }_{ 2 }+{ z }_{ 1 }+z \\end{eqnarray}$$\n",
    "<img src=\"./images/translation03.png\" alt=\"평행이동\" width=\"40%\">"
   ]
  },
  {
   "cell_type": "markdown",
   "metadata": {},
   "source": [
    "### 2.4.3 양의 실수로 복소수 곱하기\n",
    "아래의 복소수 집합 $S$의 각 복소수 $z$에 $\\frac{1}{2}$를 곱해보자.\n",
    "$$g(z)=\\frac{1}{2}z$$"
   ]
  },
  {
   "cell_type": "code",
   "execution_count": 12,
   "metadata": {},
   "outputs": [],
   "source": [
    "S = {2+2j, 3+2j, 1.75+1j, 2+1j, 2.25+1j, 2.5+1j, 2.75+1j, 3+1j, 3.25+1j}\n",
    "S_scale = {z*(1/2) for z in S}\n",
    "plot(S_scale, 4)"
   ]
  },
  {
   "cell_type": "markdown",
   "metadata": {},
   "source": [
    "<img src=\"./images/scaling.png\" alt=\"스케일링\" width=\"40%\">\n",
    "이러한 연산을 **스케일링(scaling)**이라고 하며, 스케일링을 적용하게 되면 그래프의 크기 변경이 일어난다."
   ]
  },
  {
   "cell_type": "markdown",
   "metadata": {},
   "source": [
    "### 2.4.4 음수로 복소수 곱하기 : 180도 회전\n",
    "다음은 복소수 집합 $S$의 각 복소수 $z$에 $-1$을 곱한 결과이다.\n",
    "<img src=\"./images/rotation.png\" alt=\"회전\" width=\"40%\">"
   ]
  },
  {
   "cell_type": "code",
   "execution_count": 13,
   "metadata": {},
   "outputs": [],
   "source": [
    "S = {2+2j, 3+2j, 1.75+1j, 2+1j, 2.25+1j, 2.5+1j, 2.75+1j, 3+1j, 3.25+1j}\n",
    "S_rotation = {z*(-1) for z in S}\n",
    "plot(S_rotation, 4)"
   ]
  },
  {
   "cell_type": "markdown",
   "metadata": {},
   "source": [
    "### 2.4.5 $i$를 곱하기 : 90도 회전\n",
    "<img src=\"./images/rotation02.png\" alt=\"회전\" width=\"40%\">"
   ]
  },
  {
   "cell_type": "code",
   "execution_count": 14,
   "metadata": {},
   "outputs": [],
   "source": [
    "S = {2+2j, 3+2j, 1.75+1j, 2+1j, 2.25+1j, 2.5+1j, 2.75+1j, 3+1j, 3.25+1j}\n",
    "S_rotation = {z*(1j) for z in S}\n",
    "plot(S_rotation, 4)"
   ]
  },
  {
   "cell_type": "markdown",
   "metadata": {},
   "source": [
    "#### Task 2.4.10 (p.54)\n",
    "컴프리헨션을 사용하여 리스트 pts에 복소수 $x+yi$ 집합을 할당해 보자. 이때 픽셀$(x, y)$의 이미지 색상(RGB)는 0.5 보다 작다. 리스트를 pts 그래프로 그려보자\n",
    "<img src=\"./images/task01.PNG\" width=\"40%\">"
   ]
  },
  {
   "cell_type": "code",
   "execution_count": 6,
   "metadata": {},
   "outputs": [],
   "source": [
    "from PIL import Image\n",
    "import numpy as np"
   ]
  },
  {
   "cell_type": "code",
   "execution_count": 11,
   "metadata": {},
   "outputs": [],
   "source": [
    "data = Image.open('./images/img01.png') # 이미지 파일 불러오기\n",
    "# data = data.convert('L')\n",
    "data = np.asarray(data, dtype='float32') / 255 # 이미지 파일을 np.asarray를 이용해 배열로 만들기\n",
    "data = data.tolist() # 리스트로 변환 하기\n",
    "pts = [[x + y * 1j for x, pixel in enumerate(row) if pixel < 0.5] for y, row in enumerate(reversed(data))]\n",
    "pts1 = sum(pts, [])\n",
    "plot(pts1, 200, 1)"
   ]
  },
  {
   "cell_type": "code",
   "execution_count": 12,
   "metadata": {},
   "outputs": [
    {
     "name": "stdout",
     "output_type": "stream",
     "text": [
      "(0, [0.0941176488995552, 0.16078431904315948, 0.26274511218070984, 0.3529411852359772, 0.4000000059604645, 0.40784314274787903, 0.4117647111415863, 0.4156862795352936, 0.4000000059604645, 0.4117647111415863, 0.41960784792900085, 0.3921568691730499, 0.47058823704719543, 0.6901960968971252, 0.8117647171020508, 0.7803921699523926, 0.7098039388656616, 0.6196078658103943, 0.545098066329956, 0.5686274766921997, 0.5647059082984924, 0.686274528503418, 0.6941176652908325, 0.6274510025978088, 0.572549045085907, 0.4627451002597809, 0.45490196347236633, 0.45490196347236633, 0.4274509847164154, 0.4313725531101227, 0.40784314274787903, 0.3803921639919281, 0.3450980484485626, 0.32549020648002625, 0.3137255012989044, 0.30588236451148987, 0.4000000059604645, 0.37254902720451355, 0.4000000059604645, 0.34117648005485535, 0.25882354378700256, 0.45098039507865906, 0.7019608020782471, 0.6784313917160034, 0.7058823704719543, 0.6274510025978088, 0.6196078658103943, 0.6000000238418579, 0.6000000238418579, 0.45490196347236633, 0.3843137323856354, 0.3686274588108063, 0.3803921639919281, 0.3843137323856354, 0.34117648005485535, 0.3294117748737335, 0.34117648005485535, 0.34117648005485535, 0.35686275362968445, 0.3803921639919281, 0.4000000059604645, 0.40784314274787903, 0.41960784792900085, 0.43921568989753723, 0.4627451002597809, 0.47058823704719543, 0.48235294222831726, 0.4941176474094391, 0.5058823823928833, 0.5098039507865906, 0.5176470875740051, 0.5215686559677124, 0.529411792755127, 0.5254902243614197, 0.5254902243614197, 0.5254902243614197, 0.5254902243614197, 0.5254902243614197, 0.5254902243614197, 0.529411792755127, 0.5137255191802979, 0.5098039507865906, 0.501960813999176, 0.49803921580314636, 0.49803921580314636, 0.49803921580314636, 0.4941176474094391, 0.4901960790157318, 0.48235294222831726, 0.48235294222831726, 0.47843137383461, 0.47843137383461, 0.48235294222831726, 0.48627451062202454, 0.4901960790157318, 0.4901960790157318, 0.47843137383461, 0.48235294222831726, 0.4901960790157318, 0.4941176474094391, 0.49803921580314636, 0.5098039507865906, 0.5215686559677124, 0.5333333611488342, 0.545098066329956, 0.5647059082984924, 0.5960784554481506, 0.6274510025978088, 0.6352941393852234, 0.6313725709915161, 0.6352941393852234, 0.6509804129600525, 0.6509804129600525, 0.6431372761726379, 0.6274510025978088, 0.615686297416687, 0.6078431606292725, 0.6039215922355652, 0.6000000238418579, 0.6000000238418579, 0.5647059082984924, 0.5372549295425415, 0.5254902243614197, 0.5568627715110779, 0.5333333611488342, 0.501960813999176, 0.5254902243614197, 0.501960813999176, 0.4470588266849518, 0.4000000059604645, 0.4431372582912445, 0.43921568989753723, 0.3607843220233917, 0.42352941632270813, 0.3764705955982208, 0.4431372582912445, 0.35686275362968445, 0.2235294133424759, 0.2666666805744171, 0.32156863808631897, 0.3529411852359772, 0.572549045085907, 0.7254902124404907, 0.7137255072593689, 0.7450980544090271, 0.7490196228027344, 0.7647058963775635, 0.7764706015586853, 0.7450980544090271, 0.686274528503418, 0.6392157077789307, 0.6235294342041016, 0.572549045085907, 0.5215686559677124, 0.5686274766921997, 0.6117647290229797, 0.5882353186607361, 0.5843137502670288, 0.5647059082984924, 0.5058823823928833, 0.37254902720451355, 0.37254902720451355, 0.4745098054409027, 0.5529412031173706, 0.5686274766921997, 0.5803921818733215])\n"
     ]
    }
   ],
   "source": [
    "y_gen = ((y, row) for y, row in enumerate(reversed(data)))\n",
    "print(next(y_gen))"
   ]
  },
  {
   "cell_type": "code",
   "execution_count": 13,
   "metadata": {},
   "outputs": [
    {
     "name": "stdout",
     "output_type": "stream",
     "text": [
      "[(0, 0.0941176488995552), (1, 0.16078431904315948), (2, 0.26274511218070984), (3, 0.3529411852359772), (4, 0.4000000059604645), (5, 0.40784314274787903), (6, 0.4117647111415863), (7, 0.4156862795352936), (8, 0.4000000059604645), (9, 0.4117647111415863), (10, 0.41960784792900085), (11, 0.3921568691730499), (12, 0.47058823704719543), (25, 0.4627451002597809), (26, 0.45490196347236633), (27, 0.45490196347236633), (28, 0.4274509847164154), (29, 0.4313725531101227), (30, 0.40784314274787903), (31, 0.3803921639919281), (32, 0.3450980484485626), (33, 0.32549020648002625), (34, 0.3137255012989044), (35, 0.30588236451148987), (36, 0.4000000059604645), (37, 0.37254902720451355), (38, 0.4000000059604645), (39, 0.34117648005485535), (40, 0.25882354378700256), (41, 0.45098039507865906), (49, 0.45490196347236633), (50, 0.3843137323856354), (51, 0.3686274588108063), (52, 0.3803921639919281), (53, 0.3843137323856354), (54, 0.34117648005485535), (55, 0.3294117748737335), (56, 0.34117648005485535), (57, 0.34117648005485535), (58, 0.35686275362968445), (59, 0.3803921639919281), (60, 0.4000000059604645), (61, 0.40784314274787903), (62, 0.41960784792900085), (63, 0.43921568989753723), (64, 0.4627451002597809), (65, 0.47058823704719543), (66, 0.48235294222831726), (67, 0.4941176474094391), (83, 0.49803921580314636), (84, 0.49803921580314636), (85, 0.49803921580314636), (86, 0.4941176474094391), (87, 0.4901960790157318), (88, 0.48235294222831726), (89, 0.48235294222831726), (90, 0.47843137383461), (91, 0.47843137383461), (92, 0.48235294222831726), (93, 0.48627451062202454), (94, 0.4901960790157318), (95, 0.4901960790157318), (96, 0.47843137383461), (97, 0.48235294222831726), (98, 0.4901960790157318), (99, 0.4941176474094391), (100, 0.49803921580314636), (128, 0.4470588266849518), (129, 0.4000000059604645), (130, 0.4431372582912445), (131, 0.43921568989753723), (132, 0.3607843220233917), (133, 0.42352941632270813), (134, 0.3764705955982208), (135, 0.4431372582912445), (136, 0.35686275362968445), (137, 0.2235294133424759), (138, 0.2666666805744171), (139, 0.32156863808631897), (140, 0.3529411852359772), (160, 0.37254902720451355), (161, 0.37254902720451355), (162, 0.4745098054409027)]\n"
     ]
    }
   ],
   "source": [
    "x_gen = ([(x, pixel) for x, pixel in enumerate(row) if pixel < 0.5] for y, row in enumerate(reversed(data)))\n",
    "print(next(x_gen))\n",
    "# print(next(x_gen))"
   ]
  },
  {
   "cell_type": "code",
   "execution_count": 14,
   "metadata": {},
   "outputs": [],
   "source": [
    "pts_gen = ([x + y * 1j for x, pixel in enumerate(row) if pixel < 0.5] for y, row in enumerate(reversed(data)))"
   ]
  },
  {
   "cell_type": "code",
   "execution_count": 15,
   "metadata": {},
   "outputs": [
    {
     "name": "stdout",
     "output_type": "stream",
     "text": [
      "[0j, (1+0j), (2+0j), (3+0j), (4+0j), (5+0j), (6+0j), (7+0j), (8+0j), (9+0j), (10+0j), (11+0j), (12+0j), (25+0j), (26+0j), (27+0j), (28+0j), (29+0j), (30+0j), (31+0j), (32+0j), (33+0j), (34+0j), (35+0j), (36+0j), (37+0j), (38+0j), (39+0j), (40+0j), (41+0j), (49+0j), (50+0j), (51+0j), (52+0j), (53+0j), (54+0j), (55+0j), (56+0j), (57+0j), (58+0j), (59+0j), (60+0j), (61+0j), (62+0j), (63+0j), (64+0j), (65+0j), (66+0j), (67+0j), (83+0j), (84+0j), (85+0j), (86+0j), (87+0j), (88+0j), (89+0j), (90+0j), (91+0j), (92+0j), (93+0j), (94+0j), (95+0j), (96+0j), (97+0j), (98+0j), (99+0j), (100+0j), (128+0j), (129+0j), (130+0j), (131+0j), (132+0j), (133+0j), (134+0j), (135+0j), (136+0j), (137+0j), (138+0j), (139+0j), (140+0j), (160+0j), (161+0j), (162+0j)]\n"
     ]
    }
   ],
   "source": [
    "print(next(pts_gen))"
   ]
  },
  {
   "cell_type": "markdown",
   "metadata": {},
   "source": [
    "#### Task 2.4.11\n",
    "파이썬 프로시저 `f(z)`를 작성해 보자. 이 프로시저는 리스트 `pts`의 점들을 원점에 중심을 둔 점들의 집합이 되게 평행이동 한다.\n",
    "<img src=\"./images/task02.PNG\" width=\"40%\">"
   ]
  },
  {
   "cell_type": "code",
   "execution_count": 16,
   "metadata": {},
   "outputs": [],
   "source": [
    "def trans2center(z_list):\n",
    "    pts_center = []\n",
    "    z_real = [z.real for z in z_list]\n",
    "    z_imag = [z.imag for z in z_list]\n",
    "    real_center = (max(z_real) - min(z_real)) / 2\n",
    "    imag_center = (max(z_imag) - min(z_imag)) / 2\n",
    "    for z in z_list:\n",
    "        z_real = z.real - real_center\n",
    "        z_imag = z.imag - imag_center\n",
    "        pts_center.append(z_real+z_imag*1j)\n",
    "        \n",
    "    return pts_center"
   ]
  },
  {
   "cell_type": "code",
   "execution_count": 17,
   "metadata": {},
   "outputs": [],
   "source": [
    "pts2 = trans2center(pts1)\n",
    "plot(pts2, 200, 1)"
   ]
  },
  {
   "cell_type": "markdown",
   "metadata": {},
   "source": [
    "### 2.4.6 복소 평면의 단위원: *편각(argument)* 과 각도\n",
    "180도 또는 90도 회전을 복소수 곱에 의해 나타낼 수 있다. 뿐만 아니라 각도(angle)대신 *라디안*(radian)을 사용하여 다양한 회전을 표현할 수 있다. "
   ]
  },
  {
   "cell_type": "markdown",
   "metadata": {},
   "source": [
    "#### 단위원 위에 있는 복소수의 편각\n",
    "단위원은 복소 평면의 원점에 중심을 둔 반지름이 1인 원이다.\n",
    "<img src=\"./images/argument01.PNG\" width=\"40%\">"
   ]
  },
  {
   "cell_type": "markdown",
   "metadata": {},
   "source": [
    "원 위의 점 $z$는 원의 가장 오른쪽 점인 $1+0i$에서 시작하여 $z$에 도착할 때까지 원을 따라 반시계 방향으로 이동하는 거리로 표현할 수 있다. 이러한 거리를 $z$의 **편각(argument)**이라고 한다.\n",
    "<img src=\"./images/argument02.jpg\" width=\"40%\">\n",
    "파이썬에서 편각(argument)은 `cmath.phase()`함수를 이용해 구할 수 있다."
   ]
  },
  {
   "cell_type": "code",
   "execution_count": 18,
   "metadata": {},
   "outputs": [],
   "source": [
    "import cmath"
   ]
  },
  {
   "cell_type": "code",
   "execution_count": 19,
   "metadata": {},
   "outputs": [
    {
     "data": {
      "text/plain": [
       "3.141592653589793"
      ]
     },
     "execution_count": 19,
     "metadata": {},
     "output_type": "execute_result"
    }
   ],
   "source": [
    "cmath.phase(-1+0j) # pi"
   ]
  },
  {
   "cell_type": "markdown",
   "metadata": {},
   "source": [
    "### 2.4.7 오일러 공식 - Euler's formula\n",
    "오일러의 공식은 수학자 레온하르트 오일러의 이름이 붙은 공식으로, 복소수 지수를 정의하는 데에 출발점이 되며, 삼각함수와 지수함수에 대한 관계를 나타낸다.<br />\n",
    "임의의 실수 $\\theta$에 대해, $e^{i\\theta}$는 편각이 $\\theta$인 단위원 위의 점 $z$를 의미한다.\n",
    "\n",
    "$$e^{ix}=\\cos { x } +i\\sin{x} $$\n",
    "<img src=\"./images/Euler.png\" width=\"35%\">\n",
    "$x$가 $\\pi$일 경우 $e^{i\\pi}+1 = 0$이라는 오일러 등식을 구할 수 있다."
   ]
  },
  {
   "cell_type": "markdown",
   "metadata": {},
   "source": [
    "### 2.4.8 복소수에 대한 극좌표 표현\n",
    "오일러 공식은 단위원 위에 있는 복소수를 쉽게 표현할 수 있는 방법을 제시한다. <br />\n",
    "임의의 복소수 $z$를 고려해보자. $L$을 원점에서 $z$까지의 복소평면 위에 있는 선분이라 하고, $z'$은 이 선분이 단위원과 교차하는 점이라고 하자.\n",
    "<img src=\"./images/euler02.png\" width=\"35%\">"
   ]
  },
  {
   "cell_type": "markdown",
   "metadata": {},
   "source": [
    "$r$은 $z$까지의 선분의 길이라고 하면, $z'$는 $z$를 축소한것 이라고 보면, 다음과 같이 쓸 수 있다.\n",
    "$$z'=\\frac{1}{r}z$$\n",
    "$\\theta$를 $z'$의 편각이라 하면, 오일러 공식에 의해 $z'=e^{\\theta i}$ 가 된다. 따라서 다음과 같이 쓸 수 있다.\n",
    "$$z=re^{\\theta i}$$\n",
    "여기서, $r$과 $\\theta$는 $z$의 **극좌표(polar coordinates)**이다. "
   ]
  },
  {
   "cell_type": "markdown",
   "metadata": {},
   "source": [
    "파이썬에서 극좌표(polar coordinates)는 [`cmath.polar()`](https://docs.python.org/2/library/cmath.html)를 이용해 구할 수 있다. `return` 값은 $r$(절대값$\\left| z \\right|$, abs) 과 $\\theta$(편각, argument)이다."
   ]
  },
  {
   "cell_type": "code",
   "execution_count": 21,
   "metadata": {},
   "outputs": [
    {
     "data": {
      "text/plain": [
       "0.785"
      ]
     },
     "execution_count": 21,
     "metadata": {},
     "output_type": "execute_result"
    }
   ],
   "source": [
    "3.14/4"
   ]
  },
  {
   "cell_type": "code",
   "execution_count": 20,
   "metadata": {},
   "outputs": [
    {
     "data": {
      "text/plain": [
       "(1.4142135623730951, 0.7853981633974483)"
      ]
     },
     "execution_count": 20,
     "metadata": {},
     "output_type": "execute_result"
    }
   ],
   "source": [
    "# 1+1i 의 극좌표 구하기\n",
    "cmath.polar(1+1j)"
   ]
  },
  {
   "cell_type": "code",
   "execution_count": 26,
   "metadata": {},
   "outputs": [
    {
     "data": {
      "text/plain": [
       "(1.0000000000000002+1.0000000000000002j)"
      ]
     },
     "execution_count": 26,
     "metadata": {},
     "output_type": "execute_result"
    }
   ],
   "source": [
    "# 극좌표를 이용해 복소수 구하기\n",
    "cmath.rect(1.4142135623730951, 0.7853981633974483)"
   ]
  },
  {
   "cell_type": "markdown",
   "metadata": {},
   "source": [
    "### 2.4.9 첫 번째 지수 법칙\n",
    "지수에 대한 곱은 그 지수들을 더하면 된다.\n",
    "$$e^ue^v=e^{u+v}$$"
   ]
  },
  {
   "cell_type": "markdown",
   "metadata": {},
   "source": [
    "### 2.4.10 $\\tau$ 라디안 회전\n",
    "**1 라디안(radian)**은 원둘레 위에서 반지름의 길이와 같은 길이를 갖는 호에 대응하는 중심각의 크기이다.\n",
    "<img src=\"./images/radian01.png\" width=\"35%\">"
   ]
  },
  {
   "cell_type": "markdown",
   "metadata": {},
   "source": [
    "$\\tau$를 라디안(radian) 값이라 하고, $z$를 $\\tau$만큼 회전한 것은 $z$와 절대값($\\left| z \\right|$)은 같고 편각(argument)은 $z$보다 $\\tau$만큼 더 커야 한다. 즉, $\\tau$ 만큼 회전한 $z$는 $re^{(\\theta + \\tau)i}$ 이다. 이 값을 $z$로 부터 구해보면 아래의 식과 같다.\n",
    "$$ r{ e }^{ (\\theta +\\tau )i }=r{ e }^{ \\theta i }{ e }^{ \\tau i }=z{ e }^{ \\tau i }$$\n",
    "따라서, $\\tau$ 만큼 회전한 것을 나타내는 함수는 다음과 같이 쓸 수 있다.\n",
    "$$f\\left( z \\right) =z{ e }^{ \\tau i }$$"
   ]
  },
  {
   "cell_type": "markdown",
   "metadata": {},
   "source": [
    "#### Task 2.4.18 (p.58)\n",
    "S의 원소들을 $\\frac{\\pi}{4}$만큼 회전한 것으로 이루어진 집합을 반환하는 컴프리헨션을 작성해 보자."
   ]
  },
  {
   "cell_type": "code",
   "execution_count": 22,
   "metadata": {},
   "outputs": [],
   "source": [
    "S = {2+2j, 3+2j, 1.75+1j, 2+1j, 2.25+1j, 2.5+1j, 2.75+1j, 3+1j, 3.25+1j}\n",
    "euler = cmath.exp(cmath.pi / 4 * 1j)\n",
    "S_rad = {z * euler for z in S}\n",
    "plot(S_rad, 4)"
   ]
  },
  {
   "cell_type": "markdown",
   "metadata": {},
   "source": [
    "#### Task 2.4.19 (p.58)\n",
    "Task 2.4.10 에서의 리스트 pts의 복소수들을 $\\frac{\\pi}{4}$만큼 회전한 것을 그래프로 그려보자\n",
    "<img src=\"./images/task03.PNG\" width=\"40%\">"
   ]
  },
  {
   "cell_type": "code",
   "execution_count": 23,
   "metadata": {},
   "outputs": [],
   "source": [
    "data = Image.open('./images/img01.png') # 이미지 파일 불러오기\n",
    "# data = data.convert('L')\n",
    "data = np.asarray(data, dtype='float32') / 255 # 이미지 파일을 np.asarray를 이용해 배열로 만들기\n",
    "data = data.tolist() # 리스트로 변환 하기"
   ]
  },
  {
   "cell_type": "code",
   "execution_count": 24,
   "metadata": {},
   "outputs": [],
   "source": [
    "# 라디안 회전을 적용하는 함수 정의\n",
    "def rad_rotation(z_list):\n",
    "    euler = cmath.exp(cmath.pi / 4 * 1j)\n",
    "    z_rad = [z * euler for z in z_list]\n",
    "    return z_rad"
   ]
  },
  {
   "cell_type": "code",
   "execution_count": 25,
   "metadata": {},
   "outputs": [],
   "source": [
    "pts = [[x + y * 1j for x, pixel in enumerate(row) if pixel < 0.5] for y, row in enumerate(reversed(data))]\n",
    "pts_org = sum(pts, [])\n",
    "pts_rad = rad_rotation(pts_org)\n",
    "plot(pts_rad, 200, 1)"
   ]
  },
  {
   "cell_type": "markdown",
   "metadata": {},
   "source": [
    "### 2.4.11 연산 결합하기"
   ]
  },
  {
   "cell_type": "markdown",
   "metadata": {},
   "source": [
    "#### Task 2.4.20 (p.59)\n",
    "집합 pts를 변환하는 컴프리헨션을 작성해 보자. 이변환은 이미지가 중심에 위치하도록 평행이동하고, $\\frac{\\pi}{4}$ 만큼 회전하며, 그다음에 $\\frac{1}{2}$만큼 스케일링한다.\n",
    "<img src=\"./images/task04.PNG\" width=\"40%\">"
   ]
  },
  {
   "cell_type": "code",
   "execution_count": 26,
   "metadata": {},
   "outputs": [],
   "source": [
    "def scaling(z_list):\n",
    "    z_scaled = [z * 0.5 for z in z_list]\n",
    "    return z_scaled"
   ]
  },
  {
   "cell_type": "code",
   "execution_count": 27,
   "metadata": {},
   "outputs": [],
   "source": [
    "pts_trans = trans2center(pts_org) # 이미지를 중심으로 평행이동\n",
    "pts_rad = rad_rotation(pts_trans) # 이미지를 pi/4 만큼 회전\n",
    "pts_scaled = scaling(pts_rad) # 이미지를 스케일링\n",
    "plot(pts_scaled, 200, 1)"
   ]
  },
  {
   "cell_type": "markdown",
   "metadata": {},
   "source": [
    "## 2.5 $GF(2)$ 에 대해 알아보기\n",
    "**갈루아 필드_(Galois Field)_**는 유한체(Finite Field)라고도 하며 *유한개의 원소를 갖는 대수 체계를 갖춘 체(Field)*이다. 즉, 유한체 집합 내 원소의 연산(덧셈, 곱셈) 결과가 다시 그 집합 내에 있게된다. <br />\n",
    "실수필드 $R$, 복소수 필드$C$ 등은 그 요소 수가 무한 개인 체(field) 지만, 갈루아 필드는 유한체이므로 요소 수가 유한개 이다. <br />\n",
    "그 중 $GF(2)$는 $0$과 $1$ 두 개의 원소를 갖는 갈루아 필드이다. $GF(2)$에서 연산은 아래와 같이 나타 낼 수 있다.\n",
    "<img src=\"./images/gf.png\" width=\"50%\">"
   ]
  }
 ],
 "metadata": {
  "kernelspec": {
   "display_name": "Python 3",
   "language": "python",
   "name": "python3"
  },
  "language_info": {
   "codemirror_mode": {
    "name": "ipython",
    "version": 3
   },
   "file_extension": ".py",
   "mimetype": "text/x-python",
   "name": "python",
   "nbconvert_exporter": "python",
   "pygments_lexer": "ipython3",
   "version": "3.5.4"
  }
 },
 "nbformat": 4,
 "nbformat_minor": 2
}
