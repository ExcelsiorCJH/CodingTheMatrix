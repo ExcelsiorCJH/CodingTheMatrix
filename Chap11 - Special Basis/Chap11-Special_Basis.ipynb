{
 "cells": [
  {
   "cell_type": "code",
   "execution_count": 1,
   "metadata": {},
   "outputs": [],
   "source": [
    "def wavelet(v):\n",
    "    if len(v) is 1:\n",
    "        print('v_{n} = {vec}'.format(n=len(v), vec=v))\n",
    "        return\n",
    "    vnew = [(v[2*i] + v[2*i+1])/2 for i in range(len(v)//2)]\n",
    "    w = [v[2*i] - v[2*i+1] for i in range(len(v)//2)]\n",
    "    \n",
    "#     print('v_{n} = {vec}'.format(n=len(vnew), vec=vnew))\n",
    "    print('w_{n} = {vec}'.format(n=len(w), vec=w))\n",
    "    return wavelet(vnew)"
   ]
  },
  {
   "cell_type": "code",
   "execution_count": 2,
   "metadata": {},
   "outputs": [
    {
     "name": "stdout",
     "output_type": "stream",
     "text": [
      "w_8 = [-1, -4, -1, 2, -1, -2, 0, 0]\n",
      "w_4 = [-0.5, -3.5, -1.5, 0.0]\n",
      "w_2 = [-1.5, 3.25]\n",
      "w_1 = [3.875]\n",
      "v_1 = [3.5625]\n"
     ]
    }
   ],
   "source": [
    "v = [4, 5, 3, 7, 4, 5, 9, 7, 2, 3, 3, 5, 0, 0, 0, 0]\n",
    "\n",
    "wavelet(v)"
   ]
  },
  {
   "cell_type": "code",
   "execution_count": 3,
   "metadata": {},
   "outputs": [],
   "source": [
    "import numpy as np"
   ]
  },
  {
   "cell_type": "code",
   "execution_count": 4,
   "metadata": {},
   "outputs": [
    {
     "data": {
      "text/plain": [
       "3.5625"
      ]
     },
     "execution_count": 4,
     "metadata": {},
     "output_type": "execute_result"
    }
   ],
   "source": [
    "np.mean(v)"
   ]
  },
  {
   "cell_type": "code",
   "execution_count": 5,
   "metadata": {},
   "outputs": [],
   "source": [
    "def wavelet(v):\n",
    "    '''Normalization: 정규직교벡터로 만들어 주기'''\n",
    "    if len(v) is 1:\n",
    "        print('v_{n} = {vec}'.format(n=len(v), vec=v))\n",
    "        return\n",
    "    vnew = [round((len(v)/(len(v)//2))**(1/2)*((v[2*i] + v[2*i+1])/2),2) for i in range(len(v)//2)]\n",
    "    w = [round(v[2*i] - v[2*i+1], 2) for i in range(len(v)//2)]\n",
    "    \n",
    "#     print('v_{n} = {vec}'.format(n=len(vnew), vec=vnew))\n",
    "    print('w_{n} = {vec}'.format(n=len(w), vec=w))\n",
    "    return wavelet(vnew)"
   ]
  },
  {
   "cell_type": "code",
   "execution_count": 6,
   "metadata": {},
   "outputs": [
    {
     "name": "stdout",
     "output_type": "stream",
     "text": [
      "w_8 = [-1, -4, -1, 2, -1, -2, 0, 0]\n",
      "w_4 = [-0.71, -4.95, -2.12, 0.0]\n",
      "w_2 = [-2.99, 6.51]\n",
      "w_1 = [10.95]\n",
      "v_1 = [14.25]\n"
     ]
    }
   ],
   "source": [
    "v = [4, 5, 3, 7, 4, 5, 9, 7, 2, 3, 3, 5, 0, 0, 0, 0]\n",
    "\n",
    "wavelet(v)"
   ]
  },
  {
   "cell_type": "code",
   "execution_count": 7,
   "metadata": {},
   "outputs": [
    {
     "data": {
      "text/plain": [
       "14.25"
      ]
     },
     "execution_count": 7,
     "metadata": {},
     "output_type": "execute_result"
    }
   ],
   "source": [
    "3.5625*4"
   ]
  },
  {
   "cell_type": "code",
   "execution_count": null,
   "metadata": {},
   "outputs": [],
   "source": []
  }
 ],
 "metadata": {
  "kernelspec": {
   "display_name": "Python 3",
   "language": "python",
   "name": "python3"
  },
  "language_info": {
   "codemirror_mode": {
    "name": "ipython",
    "version": 3
   },
   "file_extension": ".py",
   "mimetype": "text/x-python",
   "name": "python",
   "nbconvert_exporter": "python",
   "pygments_lexer": "ipython3",
   "version": "3.5.4"
  }
 },
 "nbformat": 4,
 "nbformat_minor": 2
}
