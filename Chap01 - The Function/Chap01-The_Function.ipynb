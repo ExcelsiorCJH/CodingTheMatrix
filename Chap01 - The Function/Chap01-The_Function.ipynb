{
 "cells": [
  {
   "cell_type": "markdown",
   "metadata": {},
   "source": [
    "# Chapter01\n",
    "# 함수 - Function"
   ]
  },
  {
   "cell_type": "markdown",
   "metadata": {},
   "source": [
    "## 1.1 집합에 대한 용어와 표기법\n",
    "* __집합(set)__은 수학 객체를 모아 놓은 것으로, 집합에 속하는 각 객체는 많아야 한 번 그 집합에 나타나는 것으로 간주한다.\n",
    "* 이러한 집합에 속하는 객체를 __원소(elements)__라고 한다.\n",
    "* 집합은 원소를 중괄호({})안에 열거하여 나타낸다.\n",
    "* 집합은 원소들 사이에  순서가 없으므로 집합 내 원소의 순서는 중요하지 않다.\n",
    "* 기호 $\\in$ 원소(객체)가 집합에 속한다는 것을 나타낸다.\n",
    "* 만약 어떤 집합 $S_1$의 모든 원소가 다른 집합 $S_2$에 속하면, $S_1$은 $S_2$에 포함되고, $S_1 \\subseteq S_2$라고 표기한다.\n",
    "* 집합은 원소수가 무한개인 무한집합일 수 있다.\n",
    "* 집합 $S$가 유한집합이면, $|S|$를 사용하여 집합의 __크기(cardinality)__ 즉, 집합 $S$의 원소 개수를 나타낸다"
   ]
  },
  {
   "cell_type": "markdown",
   "metadata": {},
   "source": [
    "## 1.2 카테시안 곱(Cartesian product)\n",
    "* __카테시안 곱__은 __데카크르 곱__ 또는 __곱집합__이라고도 함\n",
    "* 두 집합 $A$와 $B$의 *카테시안 곱*(데카르트 곱)은 $a \\in A$와 $b \\in B$의 모든 쌍 $(a,b)$로 이루어진 집합\n",
    "* $ A \\times B = \\left\\{ { (a,b) }|{ a\\in A\\quad and\\quad b\\in B } \\right\\} $"
   ]
  },
  {
   "cell_type": "code",
   "execution_count": 1,
   "metadata": {},
   "outputs": [],
   "source": [
    "import numpy as np"
   ]
  },
  {
   "cell_type": "code",
   "execution_count": 34,
   "metadata": {},
   "outputs": [],
   "source": [
    "A = {1, 2, 3}\n",
    "B = {'a', 'b', 'c'}"
   ]
  },
  {
   "cell_type": "code",
   "execution_count": 35,
   "metadata": {},
   "outputs": [],
   "source": [
    "A = np.array(list(A))\n",
    "B = np.array(list(B))"
   ]
  },
  {
   "cell_type": "code",
   "execution_count": 43,
   "metadata": {},
   "outputs": [
    {
     "data": {
      "text/plain": [
       "array([['1', 'b'],\n",
       "       ['2', 'b'],\n",
       "       ['3', 'b'],\n",
       "       ['1', 'c'],\n",
       "       ['2', 'c'],\n",
       "       ['3', 'c'],\n",
       "       ['1', 'a'],\n",
       "       ['2', 'a'],\n",
       "       ['3', 'a']],\n",
       "      dtype='<U21')"
      ]
     },
     "execution_count": 43,
     "metadata": {},
     "output_type": "execute_result"
    }
   ],
   "source": [
    "np.transpose([np.tile(A, len(B)), np.repeat(B, len(A))])"
   ]
  },
  {
   "cell_type": "markdown",
   "metadata": {},
   "source": [
    "## 1.3 함수(Function)\n",
    "* 함수는 입력 가능한 집합 $D$의 각 원소에 대해 출력을 할당하는 규칙\n",
    "* 출력은 함수에 의한 입력의 __상(image)__ 이고, 입력은 출력의 __원상(pre-image)__ \n",
    "* 이러한 집합 $D$는 함수의 **정의역(domain)** 이라고 한다.\n",
    "* 함수는 쌍 (a, b)들의 집합이며, 이때 각 쌍의 첫번째 원소는 모두 다르다."
   ]
  },
  {
   "cell_type": "markdown",
   "metadata": {},
   "source": [
    "![](./images/ch01/function-02.png)"
   ]
  },
  {
   "cell_type": "markdown",
   "metadata": {},
   "source": [
    "* 함수 $f$ 에 대해 $f$에 의한 $q$의 상(함수값)을 $f(q)$로 나타낸다.\n",
    "* 만약, $r=f(q)$이면, *$q$는 $f$에 의해 $r$로 매핑된다* 고 하고 $q\\mapsto r$ 로 표현한다.\n",
    "* 함수를 나타낼 떄 함수의 **공역(co-domain)**을 명시하는 것이 편리하다.\n",
    "* **공역**은 함수값이 선택되는 집합이며, 공역의 모든 원소가 함수값, 즉 치역이 되어야하는 것은 아니다.\n",
    "* **치역(image, range)**은 모든 정의역 원소들에 대한 함수값들의 집합이다. "
   ]
  },
  {
   "cell_type": "markdown",
   "metadata": {},
   "source": [
    "$$ f\\quad :\\quad x\\mapsto y $$\n",
    "<img src=\"./images/ch01/function-01.png\" alt=\"공역-치역\" width=\"35%\">"
   ]
  },
  {
   "cell_type": "markdown",
   "metadata": {},
   "source": [
    "### 1) 항등함수(Identity function)\n",
    "* 임의의 정의역 $D$에 대해 함수 $id_D : D \\mapsto D$를 $D$에 대한 *항등함수*라 한다.\n",
    "* 모든 $d \\in D$에 대해, $id_D(d)=d$ 가 성립한다."
   ]
  },
  {
   "cell_type": "markdown",
   "metadata": {},
   "source": [
    "$$f(x) = x$$\n",
    "<img src=\"./images/ch01/identity-function.png\" alt=\"항등함수\" width=\"35%\">"
   ]
  },
  {
   "cell_type": "markdown",
   "metadata": {},
   "source": [
    "### 2) 함수의 합성\n",
    "* _함수의 합성(functional composition)_은 두 개의 함수를 결합하여 하나의 새로운 함수를 얻는 것이다. \n",
    "* $f:X \\mapsto Y$ 와 $g:Y \\mapsto Z$에 대해, <br/>\n",
    "함수 $g\\circ f$ 는 $g$와 $f$의 *합성함수(composite function)*라 하며, 정의역(domain)은 $X$, 공역(co-domaion)은 $Z$이다. <br />\n",
    "이 합성함수는 모든 $x \\in X$에 대해 다음과 같이 정의된다. <br />\n",
    "$$(g \\circ f)(x) = g(f(x))$$\n",
    "<img src=\"./images/ch01/composite-function.png\" alt=\"합성함수\" width=\"45%\">"
   ]
  },
  {
   "cell_type": "markdown",
   "metadata": {},
   "source": [
    "![](./images/ch01/example-02.png)"
   ]
  },
  {
   "cell_type": "markdown",
   "metadata": {},
   "source": [
    "### 3) 함수 합성의 결합법칙\n",
    "* 함수 $f, g, h$에 대해 합성함수가 존재한다면, <br />\n",
    "$$ h \\circ (g \\circ f) = (h \\circ g) \\circ f $$\n",
    "<img src=\"./images/ch01/composite-function02.png\" alt=\"합성함수\">"
   ]
  },
  {
   "cell_type": "markdown",
   "metadata": {},
   "source": [
    "### 4) 역함수(Inverse function)\n",
    "* 역함수는 정의역과 함수값을 뒤집어 얻는 함수이다.\n",
    "* 역함수를 가지는 함수를 __*가역적(invertable)*__이라고 한다.\n",
    "<img src=\"./images/ch01/inverse-function.png\" alt=\"역함수\" width=\"20%\">\n",
    "* 정의: 다음 조건이 만족하면 함수 $f$와 $g$는 서로의 *역함수*이다.\n",
    "    * $f \\circ g$가 정의되고, $g$의 정의역에 대해 항등함수이다\n",
    "    * $g \\circ f$가 정의되고, $f$의 정의역에 대해 항등함수이다\n",
    "* 즉, $f \\circ f^{-1} = id_f$ 가 성립한다."
   ]
  },
  {
   "cell_type": "markdown",
   "metadata": {},
   "source": [
    "#### 단사함수(one-to-one, injective function)\n",
    "* 모든 $a,b \\in X$에 대해 $f(a)=f(b)$ 는 $a=b$인 경우 $f$는 _단사함수(one-to-one)_라 한다.\n",
    "* 아래의 예제는 단사함수이나 전사함수가 아닌 경우이다.\n",
    "<img src=\"./images/ch01/one-to-one.png\" alt=\"단사함수\" width=\"25%\">"
   ]
  },
  {
   "cell_type": "markdown",
   "metadata": {},
   "source": [
    "#### 전사함수(onto, surjective function)\n",
    "* 모든 $y \\in Y$에 대해, $f(x)=y$를 만족하는 $x \\in X$가 존재하면, $f$는 *전사함수(onto)*라 한다.\n",
    "* 아래의 예제는 전사함수이나 단사함수가 아닌 경우이다.\n",
    "<img src=\"./images/ch01/onto.png\" alt=\"전사함수\" width=\"25%\">"
   ]
  },
  {
   "cell_type": "markdown",
   "metadata": {},
   "source": [
    "### 5) 역함수의 성질\n",
    "* 가역함수(invertible function)는 **단사함수(one-to-one)**이다. $\\rightarrow$ _Lemma 1.3.16_\n",
    "* 가역함수는 **전사함수(onto)**이다. $\\rightarrow$ _Lemma 1.3.17_\n",
    "* 함수가 역함수를 가질 필요충분조건은 단사함수이면서 동시에 전사함수인 즉, **전단사함수**인 경우이다. $\\rightarrow$ _Lemma 1.3.18_\n",
    "* 역함수가 존재할 경우 그 역함수는 항상 유일(unique)하다. $\\rightarrow$ _Lemma 1.3.19_\n",
    "* $f$와 $g$가 가역함수이고 $g \\circ f$가 존재하면, $g \\circ f$는 가역함수이고, $(g \\circ f)^{-1} = f^{-1} \\circ g^{-1}$ 이다. $\\rightarrow$ _Lemma 1.3.20_\n",
    "<img src=\"./images/ch01/composite_inverse.png\" alt=\"합성함수의_역함수\" width=\"45%\">"
   ]
  },
  {
   "cell_type": "markdown",
   "metadata": {},
   "source": [
    "## 1.4 확률(Probability)\n",
    "* 확률이론은 무엇이 일어날 수 있는지, 그것이 일어날 가능성이 얼마나 되는지에 관한 것이다.\n",
    "* 확률이론은 확률에 대한 계산법이며, 가상적 실험에 대해 예측하는데 사용된다."
   ]
  },
  {
   "cell_type": "markdown",
   "metadata": {},
   "source": [
    "### 확률분포(Probability distributions)\n",
    "* 확률분포는 확률변수가 특정한 값을 가질 확률을 나타내는 함수를 의미한다. <br />\n",
    "$\\rightarrow$여기서 확률변수는 정의역, *사건(event)*이며, 함수 값은 사건의 *확률*을 의미한다.\n",
    "* 확률은 사건의 **가능도(likelihood, 우도)**에 비례한다고 가정한다. $\\rightarrow$ [참고](http://rstudio-pubs-static.s3.amazonaws.com/204928_c2d6c62565b74a4987e935f756badfba.html#-------likelihood) \n",
    "<img src=\"./images/ch01/distribution.png\" alt=\"확률분포\" width=\"35%\">"
   ]
  },
  {
   "cell_type": "markdown",
   "metadata": {},
   "source": [
    "### 균등분포(discrete uniform distribution)\n",
    "* 사건(event)에 대해 동일한 확률을 가지는 분포를 말한다.\n",
    "<img src=\"./images/ch01/uniform.png\" alt=\"확률분포\" width=\"35%\">"
   ]
  },
  {
   "cell_type": "markdown",
   "metadata": {},
   "source": [
    "### 정규분포(normal distribution, gaussian distribution)\n",
    "* 정규분포는 **연속확률분포**의 하나이며 수집된 자료의 분포를 **근사**하는데 자주 사용된다.\n",
    "<img src=\"./images/ch01/normal_distribution.jpg\" alt=\"정규분포\" width=\"35%\">"
   ]
  },
  {
   "cell_type": "markdown",
   "metadata": {},
   "source": [
    "## 1.5 Lab: 파이썬 소개 - [점프 투 파이썬](https://wikidocs.net/book/1) 참고"
   ]
  },
  {
   "cell_type": "markdown",
   "metadata": {},
   "source": [
    "### 리스트 컴프리헨션(List comprehensions)\n",
    "* 하나의 리스트를 이용해 다른 리스트를 만드는 짧고 간단한 방법"
   ]
  },
  {
   "cell_type": "code",
   "execution_count": 10,
   "metadata": {},
   "outputs": [
    {
     "name": "stdout",
     "output_type": "stream",
     "text": [
      "[1, 4, 9, 16, 25, 36, 49, 64, 81, 100]\n"
     ]
    }
   ],
   "source": [
    "a = [1, 2, 3, 4, 5, 6, 7, 8, 9, 10]\n",
    "squares = [x**2 for x in a]\n",
    "print(squares)"
   ]
  },
  {
   "cell_type": "code",
   "execution_count": 11,
   "metadata": {},
   "outputs": [
    {
     "name": "stdout",
     "output_type": "stream",
     "text": [
      "[1, 4, 9, 16, 25, 36, 49, 64, 81, 100]\n"
     ]
    }
   ],
   "source": [
    "squares = []\n",
    "for x in a:\n",
    "    squares.append(x**2)\n",
    "print(squares)"
   ]
  },
  {
   "cell_type": "markdown",
   "metadata": {},
   "source": [
    "### 딕셔너리 컴프리헨션(Dictionary comprehensions)"
   ]
  },
  {
   "cell_type": "code",
   "execution_count": 14,
   "metadata": {},
   "outputs": [
    {
     "name": "stdout",
     "output_type": "stream",
     "text": [
      "{'c': 3, 'b': 2, 'a': 1}\n"
     ]
    }
   ],
   "source": [
    "dic = {k:v for k, v in [('a', 1), ('b', 2), ('c', 3)]}\n",
    "print(dic)"
   ]
  },
  {
   "cell_type": "code",
   "execution_count": 1,
   "metadata": {},
   "outputs": [
    {
     "name": "stdout",
     "output_type": "stream",
     "text": [
      "{'a': 1, 'c': 3, 'b': 2}\n"
     ]
    }
   ],
   "source": [
    "dic = {}\n",
    "for k, v in [('a', 1), ('b', 2), ('c', 3)]:\n",
    "    dic[k] = v\n",
    "print(dic)"
   ]
  },
  {
   "cell_type": "code",
   "execution_count": null,
   "metadata": {},
   "outputs": [],
   "source": []
  }
 ],
 "metadata": {
  "kernelspec": {
   "display_name": "Python 3",
   "language": "python",
   "name": "python3"
  },
  "language_info": {
   "codemirror_mode": {
    "name": "ipython",
    "version": 3
   },
   "file_extension": ".py",
   "mimetype": "text/x-python",
   "name": "python",
   "nbconvert_exporter": "python",
   "pygments_lexer": "ipython3",
   "version": "3.5.4"
  }
 },
 "nbformat": 4,
 "nbformat_minor": 2
}
