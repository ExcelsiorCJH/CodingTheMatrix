{
 "cells": [
  {
   "cell_type": "markdown",
   "metadata": {},
   "source": [
    "# Chapter03\n",
    "# 벡터 - The Vector"
   ]
  },
  {
   "cell_type": "markdown",
   "metadata": {},
   "source": [
    "## 3.1 벡터란 무엇인가?\n",
    "*벡터*란 단어는 \"vehere(운반하다)\"라는 뜻의 라틴어에서 유래되었다. 어떤 것을 한 장소에서 다른 곳으로 이동하는 벡터의 **방향성**을 내포하고 있다. \n",
    "한 벡터의 모든 원소는 *하나의 필드* ([Chap02](https://github.com/ExcelsiorCJH/Study/blob/master/LinearAlgebra/CodingTheMatrix/Chap02%20-%20The%20Field/Chap02-The_Field.ipynb) 참고)에서 나와야 한다.\n",
    "\n",
    "- **Definition 1** : 필드 $F$와 양의 정수 $n$에 대해, $F$에 속하는 $n$개의 원소를 가지는 벡터를 $F$상의 $n$-*벡터*라고 한다. $F$상의 $n$-벡터들의 집합은 $F^{n}$으로 나타낸다. <br />예를 들어, 아래의 $\\mathbb{R}$(실수) 상의 4-벡터들의 집합을 $\\mathbb{R}^{4}$라고 쓴다.\n",
    "  $$[3.14, 2.17, -1.0, 2.0]$$\n",
    "\n",
    "위의 4-벡터 집합을 함수로 생각하면  $\\mathbb{R}^{4}$ 를 함수의 집합에 대한 표기법으로 해석할 수 있다. 따라서, 위의 4-벡터는 사실상 함수라고 할 수 있다.\n",
    "\n",
    "$$ 0\\mapsto 3.14\\\\ 1\\mapsto 2.17\\\\ 2\\mapsto -1.0\\\\ 3\\mapsto 2.0$$"
   ]
  },
  {
   "cell_type": "markdown",
   "metadata": {},
   "source": [
    "## 3.2 벡터는 함수이다.\n",
    "\n",
    "위의 예제를 통해 알 수 있듯이 벡터는 함수로 나타낼 수 있다.\n",
    "\n",
    "- **Definition 2** : 유한 집합 $D$와 필드 $F$에 대해, $F$상의 $D$-*벡터*는 $D$에서 $F$로의 함수이다."
   ]
  },
  {
   "cell_type": "markdown",
   "metadata": {},
   "source": [
    "### 3.2.1 파이썬의 딕셔너리를 이용한 벡터 표현\n",
    "\n",
    "파이썬의 딕셔너리(Dictionary) 타입은 정의역(Domain) $\\mapsto$ 치역(Image)의 형태로 벡터를 표현하는 데 유용하다. 위의 예제를 딕셔너리를 이용하면 `{0: 3.14, 1: 2.17, 2: -1.0, 3: 2.0}`와 같이 쓸 수 있다."
   ]
  },
  {
   "cell_type": "markdown",
   "metadata": {},
   "source": [
    "### 3.2.2 Sparsity\n",
    "\n",
    "대부분의 원소값이 $0$인 벡터를 ***Sparse vector***(희소 벡터)라고 한다. $0$이 아닌 언소의 수가 $k$개인 벡터는 $k$-*sparse* 라고 한다. $k$-*sparse* 벡터는 $k$에 비례하는 공간을 사용하여 표현할 수 있다. 예를 들어 여러 문서로 구성된 단어들의 모음을 $f: Words \\mapsto \\mathbb{R}$ 을 벡터로 나타내려고 하면 필요한 공간은 모든 문서를 구성하는 총 단어의 수에 비례한다."
   ]
  },
  {
   "cell_type": "markdown",
   "metadata": {},
   "source": [
    "## 3.3 벡터로 무엇을 표현할 수 있는가?\n",
    "\n",
    "다양한 데이터들에 대해 벡터로 나타낼 수 있다. \n",
    "\n",
    "1. **이진 문자열(binary string)** : $n$-비트 이진 문자열 `10111011`을 $GF(2)$상의 $n$-벡터, `[1, 0, 1, 1, 1, 0, 1, 1]`로 표현할 수 있다. \n",
    "\n",
    "2. **속성(attribute)** : 예를 들어, 소비자에 관한 데이터를 딕셔너리 형태의 벡터로 표현할 수 있다. 이러한 벡터를 이용하여 머신러닝 모델에 적용할 수 있다.\n",
    "\n",
    "   ```python\n",
    "   Jane = {'age': 30, 'education_level': 16, 'income': 85000}\n",
    "   ```\n",
    "\n",
    "3. **확률분포** : 아래와 같이 유한한 확률 분포는 벡터로 나타낼 수 있다.\n",
    "\n",
    "   ```python\n",
    "   {1: 1/6, 2: 1/6, 3: 1/6, 4: 1/6, 5: 1/6, 6: 1/6}\n",
    "   ```\n",
    "\n",
    "4. **이미지** : 예를 들어, `1024 x 768` 크기의 흑백 이미지는 집합 $\\left\\{ { (i,j) }|{ 0\\le i<1024,0\\le j<768 } \\right\\} $ 에서 실수 $\\mathbb{R}$로의 함수로 볼 수 있고, 벡터로 불 수 있다. \n",
    "\n",
    "5. **공간상의 점**"
   ]
  },
  {
   "cell_type": "code",
   "execution_count": 40,
   "metadata": {},
   "outputs": [
    {
     "data": {
      "text/html": [
       "<script>requirejs.config({paths: { 'plotly': ['https://cdn.plot.ly/plotly-latest.min']},});if(!window.Plotly) {{require(['plotly'],function(plotly) {window.Plotly=plotly;});}}</script>"
      ],
      "text/vnd.plotly.v1+html": [
       "<script>requirejs.config({paths: { 'plotly': ['https://cdn.plot.ly/plotly-latest.min']},});if(!window.Plotly) {{require(['plotly'],function(plotly) {window.Plotly=plotly;});}}</script>"
      ]
     },
     "metadata": {},
     "output_type": "display_data"
    }
   ],
   "source": [
    "# 2차원 공간상의 점\n",
    "import numpy as np\n",
    "import plotly.offline as offline \n",
    "import plotly.graph_objs as go\n",
    "from plotly import tools\n",
    "\n",
    "# jupyter notebook 에서 출력 \n",
    "offline.init_notebook_mode(connected=True)\n",
    "\n",
    "L = np.array([[2,2],[3,2],[1.75,1],[2,1],[2.25,1],[2.5,1],[2.75,1],[3,1],[3.25,1]])\n",
    "x = L[:, 0]\n",
    "y = L[:, 1]\n",
    "\n",
    "\n",
    "def plot(x, y, x_autorange=True, y_autorange=True):\n",
    "    '''plotly를 이용해 plotting 함수 구현'''\n",
    "    trace = go.Scatter(\n",
    "                x = x,\n",
    "                y = y,\n",
    "                mode = 'markers')\n",
    "\n",
    "    layout = go.Layout(\n",
    "        showlegend=False,\n",
    "        xaxis=dict(\n",
    "            rangemode='negative',\n",
    "            autorange=x_autorange\n",
    "        ),\n",
    "        yaxis=dict(\n",
    "            rangemode='negative',\n",
    "            autorange=y_autorange\n",
    "        )\n",
    "    )\n",
    "\n",
    "    data = [trace]\n",
    "    fig = go.Figure(data=data, layout=layout)\n",
    "    return offline.iplot(fig)"
   ]
  },
  {
   "cell_type": "code",
   "execution_count": 42,
   "metadata": {},
   "outputs": [
    {
     "data": {
      "application/vnd.plotly.v1+json": {
       "data": [
        {
         "mode": "markers",
         "type": "scatter",
         "uid": "a10e9b",
         "x": [
          2,
          3,
          1.75,
          2,
          2.25,
          2.5,
          2.75,
          3,
          3.25
         ],
         "y": [
          2,
          2,
          1,
          1,
          1,
          1,
          1,
          1,
          1
         ]
        }
       ],
       "layout": {
        "autosize": true,
        "showlegend": false,
        "xaxis": {
         "autorange": false,
         "rangemode": "negative",
         "type": "linear"
        },
        "yaxis": {
         "autorange": false,
         "rangemode": "negative",
         "type": "linear"
        }
       }
      },
      "text/html": [
       "<div id=\"87517cde-c655-4139-b065-0b27c223f1a1\" style=\"height: 525px; width: 100%;\" class=\"plotly-graph-div\"></div><script type=\"text/javascript\">require([\"plotly\"], function(Plotly) { window.PLOTLYENV=window.PLOTLYENV || {};window.PLOTLYENV.BASE_URL=\"https://plot.ly\";Plotly.newPlot(\"87517cde-c655-4139-b065-0b27c223f1a1\", [{\"type\": \"scatter\", \"y\": [2.0, 2.0, 1.0, 1.0, 1.0, 1.0, 1.0, 1.0, 1.0], \"mode\": \"markers\", \"x\": [2.0, 3.0, 1.75, 2.0, 2.25, 2.5, 2.75, 3.0, 3.25]}], {\"yaxis\": {\"rangemode\": \"negative\", \"autorange\": false}, \"showlegend\": false, \"xaxis\": {\"rangemode\": \"negative\", \"autorange\": false}}, {\"showLink\": true, \"linkText\": \"Export to plot.ly\"})});</script>"
      ],
      "text/vnd.plotly.v1+html": [
       "<div id=\"87517cde-c655-4139-b065-0b27c223f1a1\" style=\"height: 525px; width: 100%;\" class=\"plotly-graph-div\"></div><script type=\"text/javascript\">require([\"plotly\"], function(Plotly) { window.PLOTLYENV=window.PLOTLYENV || {};window.PLOTLYENV.BASE_URL=\"https://plot.ly\";Plotly.newPlot(\"87517cde-c655-4139-b065-0b27c223f1a1\", [{\"type\": \"scatter\", \"y\": [2.0, 2.0, 1.0, 1.0, 1.0, 1.0, 1.0, 1.0, 1.0], \"mode\": \"markers\", \"x\": [2.0, 3.0, 1.75, 2.0, 2.25, 2.5, 2.75, 3.0, 3.25]}], {\"yaxis\": {\"rangemode\": \"negative\", \"autorange\": false}, \"showlegend\": false, \"xaxis\": {\"rangemode\": \"negative\", \"autorange\": false}}, {\"showLink\": true, \"linkText\": \"Export to plot.ly\"})});</script>"
      ]
     },
     "metadata": {},
     "output_type": "display_data"
    }
   ],
   "source": [
    "plot(x, y, x_autorange=False, y_autorange=False)"
   ]
  },
  {
   "cell_type": "code",
   "execution_count": 30,
   "metadata": {},
   "outputs": [
    {
     "data": {
      "application/vnd.plotly.v1+json": {
       "data": [
        {
         "marker": {
          "line": {
           "color": "rgba(217, 217, 217, 0.14)",
           "width": 0.5
          },
          "opacity": 0.8,
          "size": 12
         },
         "mode": "markers",
         "type": "scatter3d",
         "uid": "6496b3",
         "x": [
          -0.8188930372246955,
          -0.12198669554333064,
          -0.7292351893027894,
          0.7778792592687989,
          -0.4763139772074828,
          -0.7847518137457693,
          0.14134142339794495,
          0.41348470085720945,
          -0.6025687476299797,
          -1.3973044019802527
         ],
         "y": [
          0.5970025620622839,
          -1.0617219816299543,
          1.5628959246173884,
          0.31622299698325107,
          -0.6212257470542548,
          -2.1480095833859383,
          -0.9481354302896842,
          -0.293678409413383,
          -1.4218946132614023,
          0.06398523356850558
         ],
         "z": [
          -0.04103368567246026,
          0.6626435108027762,
          1.431582453991306,
          0.45655933050374303,
          -0.3525277357323983,
          -1.2192312840301023,
          0.06717812378619642,
          -0.6973702409016715,
          -0.2598535955028129,
          -0.5533353944172891
         ]
        },
        {
         "marker": {
          "color": "rgb(127, 127, 127)",
          "line": {
           "color": "rgb(204, 204, 204)",
           "width": 1
          },
          "opacity": 0.9,
          "size": 12,
          "symbol": "circle"
         },
         "mode": "markers",
         "type": "scatter3d",
         "uid": "0da1d3",
         "x": [
          -0.38891172209007524,
          1.1812766684239173,
          -0.5481449713599414,
          -0.7285621381093251,
          -0.04043015526427227,
          -1.2943259338969937,
          0.8302258318142645,
          -0.0756794003381666,
          0.7197230398093397,
          0.669615734496572
         ],
         "y": [
          0.11035442648430033,
          0.3591047239072485,
          -0.043949070437244386,
          0.884929181581349,
          1.3423126919471136,
          0.7623103716646144,
          2.215810066892883,
          -0.15887112964665515,
          -0.1377727077292146,
          0.059665194107187486
         ],
         "z": [
          0.8942262942919761,
          0.3926859498650067,
          -0.6672433376800918,
          0.3106126715668482,
          2.9193118414399604,
          0.7507472221386009,
          -1.5102132715457666,
          0.2971615779510678,
          -0.2625741176917378,
          -0.6489262861454227
         ]
        }
       ],
       "layout": {
        "autosize": true,
        "margin": {
         "b": 0,
         "l": 0,
         "r": 0,
         "t": 0
        },
        "scene": {
         "aspectmode": "auto",
         "aspectratio": {
          "x": 0.7006684131382988,
          "y": 1.1857647698869271,
          "z": 1.2036186752063165
         },
         "camera": {
          "center": {
           "x": 0,
           "y": 0,
           "z": 0
          },
          "eye": {
           "x": 0.5403170360760039,
           "y": 0.5403170360760038,
           "z": 0.5403170360760038
          },
          "up": {
           "x": 0,
           "y": 0,
           "z": 1
          }
         },
         "dragmode": "turntable"
        }
       }
      },
      "text/html": [
       "<div id=\"24eab540-febf-4bbe-a900-c227e19931ac\" style=\"height: 525px; width: 100%;\" class=\"plotly-graph-div\"></div><script type=\"text/javascript\">require([\"plotly\"], function(Plotly) { window.PLOTLYENV=window.PLOTLYENV || {};window.PLOTLYENV.BASE_URL=\"https://plot.ly\";Plotly.newPlot(\"24eab540-febf-4bbe-a900-c227e19931ac\", [{\"type\": \"scatter3d\", \"marker\": {\"line\": {\"width\": 0.5, \"color\": \"rgba(217, 217, 217, 0.14)\"}, \"opacity\": 0.8, \"size\": 12}, \"y\": [0.5970025620622839, -1.0617219816299543, 1.5628959246173884, 0.31622299698325107, -0.6212257470542548, -2.1480095833859383, -0.9481354302896842, -0.293678409413383, -1.4218946132614023, 0.06398523356850558], \"z\": [-0.04103368567246026, 0.6626435108027762, 1.431582453991306, 0.45655933050374303, -0.3525277357323983, -1.2192312840301023, 0.06717812378619642, -0.6973702409016715, -0.2598535955028129, -0.5533353944172891], \"mode\": \"markers\", \"x\": [-0.8188930372246955, -0.12198669554333064, -0.7292351893027894, 0.7778792592687989, -0.4763139772074828, -0.7847518137457693, 0.14134142339794495, 0.41348470085720945, -0.6025687476299797, -1.3973044019802527]}, {\"type\": \"scatter3d\", \"marker\": {\"line\": {\"width\": 1, \"color\": \"rgb(204, 204, 204)\"}, \"symbol\": \"circle\", \"color\": \"rgb(127, 127, 127)\", \"opacity\": 0.9, \"size\": 12}, \"y\": [0.11035442648430033, 0.3591047239072485, -0.043949070437244386, 0.884929181581349, 1.3423126919471136, 0.7623103716646144, 2.215810066892883, -0.15887112964665515, -0.1377727077292146, 0.059665194107187486], \"z\": [0.8942262942919761, 0.3926859498650067, -0.6672433376800918, 0.3106126715668482, 2.9193118414399604, 0.7507472221386009, -1.5102132715457666, 0.2971615779510678, -0.2625741176917378, -0.6489262861454227], \"mode\": \"markers\", \"x\": [-0.38891172209007524, 1.1812766684239173, -0.5481449713599414, -0.7285621381093251, -0.04043015526427227, -1.2943259338969937, 0.8302258318142645, -0.0756794003381666, 0.7197230398093397, 0.669615734496572]}], {\"margin\": {\"l\": 0, \"r\": 0, \"b\": 0, \"t\": 0}}, {\"showLink\": true, \"linkText\": \"Export to plot.ly\"})});</script>"
      ],
      "text/vnd.plotly.v1+html": [
       "<div id=\"24eab540-febf-4bbe-a900-c227e19931ac\" style=\"height: 525px; width: 100%;\" class=\"plotly-graph-div\"></div><script type=\"text/javascript\">require([\"plotly\"], function(Plotly) { window.PLOTLYENV=window.PLOTLYENV || {};window.PLOTLYENV.BASE_URL=\"https://plot.ly\";Plotly.newPlot(\"24eab540-febf-4bbe-a900-c227e19931ac\", [{\"type\": \"scatter3d\", \"marker\": {\"line\": {\"width\": 0.5, \"color\": \"rgba(217, 217, 217, 0.14)\"}, \"opacity\": 0.8, \"size\": 12}, \"y\": [0.5970025620622839, -1.0617219816299543, 1.5628959246173884, 0.31622299698325107, -0.6212257470542548, -2.1480095833859383, -0.9481354302896842, -0.293678409413383, -1.4218946132614023, 0.06398523356850558], \"z\": [-0.04103368567246026, 0.6626435108027762, 1.431582453991306, 0.45655933050374303, -0.3525277357323983, -1.2192312840301023, 0.06717812378619642, -0.6973702409016715, -0.2598535955028129, -0.5533353944172891], \"mode\": \"markers\", \"x\": [-0.8188930372246955, -0.12198669554333064, -0.7292351893027894, 0.7778792592687989, -0.4763139772074828, -0.7847518137457693, 0.14134142339794495, 0.41348470085720945, -0.6025687476299797, -1.3973044019802527]}, {\"type\": \"scatter3d\", \"marker\": {\"line\": {\"width\": 1, \"color\": \"rgb(204, 204, 204)\"}, \"symbol\": \"circle\", \"color\": \"rgb(127, 127, 127)\", \"opacity\": 0.9, \"size\": 12}, \"y\": [0.11035442648430033, 0.3591047239072485, -0.043949070437244386, 0.884929181581349, 1.3423126919471136, 0.7623103716646144, 2.215810066892883, -0.15887112964665515, -0.1377727077292146, 0.059665194107187486], \"z\": [0.8942262942919761, 0.3926859498650067, -0.6672433376800918, 0.3106126715668482, 2.9193118414399604, 0.7507472221386009, -1.5102132715457666, 0.2971615779510678, -0.2625741176917378, -0.6489262861454227], \"mode\": \"markers\", \"x\": [-0.38891172209007524, 1.1812766684239173, -0.5481449713599414, -0.7285621381093251, -0.04043015526427227, -1.2943259338969937, 0.8302258318142645, -0.0756794003381666, 0.7197230398093397, 0.669615734496572]}], {\"margin\": {\"l\": 0, \"r\": 0, \"b\": 0, \"t\": 0}}, {\"showLink\": true, \"linkText\": \"Export to plot.ly\"})});</script>"
      ]
     },
     "metadata": {},
     "output_type": "display_data"
    }
   ],
   "source": [
    "# 3차원 공간상의 점\n",
    "x, y, z = np.random.multivariate_normal(np.array([0,0,0]), np.eye(3), 10).transpose()\n",
    "\n",
    "trace1 = go.Scatter3d(\n",
    "    x=x,\n",
    "    y=y,\n",
    "    z=z,\n",
    "    mode='markers',\n",
    "    marker=dict(\n",
    "        size=12,\n",
    "        line=dict(\n",
    "            color='rgba(217, 217, 217, 0.14)',\n",
    "            width=0.5\n",
    "        ),\n",
    "        opacity=0.8\n",
    "    )\n",
    ")\n",
    "\n",
    "x2, y2, z2 = np.random.multivariate_normal(np.array([0,0,0]), np.eye(3), 10).transpose()\n",
    "trace2 = go.Scatter3d(\n",
    "    x=x2,\n",
    "    y=y2,\n",
    "    z=z2,\n",
    "    mode='markers',\n",
    "    marker=dict(\n",
    "        color='rgb(127, 127, 127)',\n",
    "        size=12,\n",
    "        symbol='circle',\n",
    "        line=dict(\n",
    "            color='rgb(204, 204, 204)',\n",
    "            width=1\n",
    "        ),\n",
    "        opacity=0.9\n",
    "    )\n",
    ")\n",
    "data = [trace1, trace2]\n",
    "layout = go.Layout(\n",
    "    margin=dict(\n",
    "        l=0,\n",
    "        r=0,\n",
    "        b=0,\n",
    "        t=0\n",
    "    )\n",
    ")\n",
    "fig = go.Figure(data=data, layout=layout)\n",
    "\n",
    "offline.iplot(fig)"
   ]
  },
  {
   "cell_type": "markdown",
   "metadata": {},
   "source": [
    "## 3.4 벡터 덧셈"
   ]
  },
  {
   "cell_type": "markdown",
   "metadata": {},
   "source": [
    "### 3.4.1 평행이동과 벡터 덧셈\n",
    "\n",
    "벡터의 평행이동은 벡터($v$)에 더하는 함수 $f(v)=v_{0} + v$ 에 의해 평행이동을 할 수 있다.\n",
    "\n",
    "- **Definition 3** : $n$-벡터들의 덧셈은 대응하는 원소들의 덧셈으로 정의된다.\n",
    "$$[u_1, u_2, ..., u_n] + [v_1, v_2, ...,v_n] = [u_1+v_1, u_2+v_2,...,u_n+v_n]$$"
   ]
  },
  {
   "cell_type": "markdown",
   "metadata": {},
   "source": [
    "#### Task 3.4.3\n",
    "[1, 2]를 아래의 리스트 `L`의 각각의 벡터에 더하여 얻어진 점들을 그래프로 그려보자. "
   ]
  },
  {
   "cell_type": "code",
   "execution_count": 44,
   "metadata": {},
   "outputs": [
    {
     "data": {
      "application/vnd.plotly.v1+json": {
       "data": [
        {
         "mode": "markers",
         "type": "scatter",
         "uid": "be0bab",
         "x": [
          3,
          4,
          2.75,
          3,
          3.25,
          3.5,
          3.75,
          4,
          4.25
         ],
         "y": [
          4,
          4,
          3,
          3,
          3,
          3,
          3,
          3,
          3
         ]
        }
       ],
       "layout": {
        "autosize": true,
        "showlegend": false,
        "xaxis": {
         "autorange": false,
         "rangemode": "negative",
         "type": "linear"
        },
        "yaxis": {
         "autorange": false,
         "rangemode": "negative",
         "type": "linear"
        }
       }
      },
      "text/html": [
       "<div id=\"cdd725c6-d74b-4e7f-bf38-86f5f62c6e8e\" style=\"height: 525px; width: 100%;\" class=\"plotly-graph-div\"></div><script type=\"text/javascript\">require([\"plotly\"], function(Plotly) { window.PLOTLYENV=window.PLOTLYENV || {};window.PLOTLYENV.BASE_URL=\"https://plot.ly\";Plotly.newPlot(\"cdd725c6-d74b-4e7f-bf38-86f5f62c6e8e\", [{\"type\": \"scatter\", \"y\": [4.0, 4.0, 3.0, 3.0, 3.0, 3.0, 3.0, 3.0, 3.0], \"mode\": \"markers\", \"x\": [3.0, 4.0, 2.75, 3.0, 3.25, 3.5, 3.75, 4.0, 4.25]}], {\"yaxis\": {\"rangemode\": \"negative\", \"autorange\": false}, \"showlegend\": false, \"xaxis\": {\"rangemode\": \"negative\", \"autorange\": false}}, {\"showLink\": true, \"linkText\": \"Export to plot.ly\"})});</script>"
      ],
      "text/vnd.plotly.v1+html": [
       "<div id=\"cdd725c6-d74b-4e7f-bf38-86f5f62c6e8e\" style=\"height: 525px; width: 100%;\" class=\"plotly-graph-div\"></div><script type=\"text/javascript\">require([\"plotly\"], function(Plotly) { window.PLOTLYENV=window.PLOTLYENV || {};window.PLOTLYENV.BASE_URL=\"https://plot.ly\";Plotly.newPlot(\"cdd725c6-d74b-4e7f-bf38-86f5f62c6e8e\", [{\"type\": \"scatter\", \"y\": [4.0, 4.0, 3.0, 3.0, 3.0, 3.0, 3.0, 3.0, 3.0], \"mode\": \"markers\", \"x\": [3.0, 4.0, 2.75, 3.0, 3.25, 3.5, 3.75, 4.0, 4.25]}], {\"yaxis\": {\"rangemode\": \"negative\", \"autorange\": false}, \"showlegend\": false, \"xaxis\": {\"rangemode\": \"negative\", \"autorange\": false}}, {\"showLink\": true, \"linkText\": \"Export to plot.ly\"})});</script>"
      ]
     },
     "metadata": {},
     "output_type": "display_data"
    }
   ],
   "source": [
    "L = [[2,2],[3,2],[1.75,1],[2,1],[2.25,1],[2.5,1],[2.75,1],[3,1],[3.25,1]]\n",
    "L = np.array(L)\n",
    "L_add = L + [1, 2]\n",
    "x = L_add[:, 0]\n",
    "y = L_add[:, 1]\n",
    "plot(x, y, x_autorange=False, y_autorange=False)"
   ]
  },
  {
   "cell_type": "markdown",
   "metadata": {},
   "source": [
    "### 3.4.2 벡터 덧셈의 결합성과 교환성 \n",
    "\n",
    "필드(체)에서 덧셈의 두 가지 성질은 *결합성(associativity)*과 *교환성(commutativity)*이다. \n",
    "\n",
    "* **Proposition** : 임의의 벡터 $u, v, w$에 대해 다음의 성질이 성립한다.\n",
    "$$(u+v)+w=u+(v+w)\\\\ u+v=vu$$"
   ]
  },
  {
   "cell_type": "markdown",
   "metadata": {},
   "source": [
    "### 3.4.3 벡터를 화살표로 표현하기\n",
    "\n",
    "필드$\\mathbb{R}$상의 $n$-벡터들은 $\\mathbb{R}^{n}$의 화살표로 나타낼 수 있다. 예를 들어, $2$-벡터 $[3, 1.5]$는 꼬리가 원점에 있고 화살표가 $(3, 1.5)$에 있는 화살표로 나타낼 수 있다."
   ]
  },
  {
   "cell_type": "code",
   "execution_count": 5,
   "metadata": {},
   "outputs": [
    {
     "data": {
      "text/plain": [
       "(0, 10)"
      ]
     },
     "execution_count": 5,
     "metadata": {},
     "output_type": "execute_result"
    },
    {
     "data": {
      "image/png": "[encoded data removed]",
      "text/plain": [
       "<matplotlib.figure.Figure at 0x10a0e9fd0>"
      ]
     },
     "metadata": {},
     "output_type": "display_data"
    }
   ],
   "source": [
    "%matplotlib inline\n",
    "import matplotlib.pyplot as plt\n",
    "\n",
    "ax = plt.axes()\n",
    "ax.arrow(0, 0, 3.0, 1.5, head_width=0.1, head_length=0.1)\n",
    "plt.ylim([0, 10])\n",
    "plt.xlim([0, 10])"
   ]
  },
  {
   "cell_type": "markdown",
   "metadata": {},
   "source": [
    "또한 $\\mathbb{R}$상의 벡터들의 덧셈을 화살표를 사용하여 보여줄 수 있다. \n",
    "\n",
    "![](./images/vector_add.PNG)"
   ]
  },
  {
   "cell_type": "markdown",
   "metadata": {},
   "source": [
    "## 3.5 스칼라 - 벡터 곱셈\n",
    "\n",
    "[Chap02-필드](https://render.githubusercontent.com/view/ipynb?commit=e5e626bfc6259c98589c42b21e7c0207ce918d45&enc_url=68747470733a2f2f7261772e67697468756275736572636f6e74656e742e636f6d2f457863656c73696f72434a482f53747564792f653565363236626663363235396339383538396334326232316537633032303763653931386434352f4c696e656172416c67656272612f436f64696e675468654d61747269782f4368617030322532302d2532305468652532304669656c642f4368617030322d5468655f4669656c642e6970796e62&nwo=ExcelsiorCJH%2FStudy&path=LinearAlgebra%2FCodingTheMatrix%2FChap02+-+The+Field%2FChap02-The_Field.ipynb&repository_id=116745719&repository_type=Repository#2.4.3-%EC%96%91%EC%9D%98-%EC%8B%A4%EC%88%98%EB%A1%9C-%EB%B3%B5%EC%86%8C%EC%88%98-%EA%B3%B1%ED%95%98%EA%B8%B0)에서 *스케일링(Scaling)*은 복소평면에서 입력된 복소수를 양의 실수 $r$과 곱하는 함수 $f(z)=r\\cdot z$로 나타낼 수 있었다. 이처럼 벡터에 대해서도 스칼라-벡터 곱(scalar-vector multiplication)에 의해 벡터를 스케일링 할 수 있다. 벡터에서 필드 원소(e.g. 숫자)는 *스칼라(scalar)*라 하며, 그 이유는 곱셈을 통해 벡터를 스케일링 하는데 사용할 수 있기 때문이다.\n",
    "\n",
    "-  **Definition 4** : 벡터 $v$와 스칼라 $\\alpha$의 곱셈은 $v$의 원소 각각을 $\\alpha$와 곱하는 것으로 정의된다.\n",
    "\n",
    "  $$\\alpha [v_1,v_2,...,v_n] = [\\alpha v_1, \\alpha v_2,..., \\alpha v_n]$$"
   ]
  },
  {
   "cell_type": "markdown",
   "metadata": {},
   "source": [
    "#### Task 3.5.4\n",
    "\n",
    "`L`내의 벡터들을 $0.5$만큼 스케일링한 결과와 $-0.5$만큼 스케일링한 결과를 그래프로 그려보자."
   ]
  },
  {
   "cell_type": "code",
   "execution_count": 45,
   "metadata": {},
   "outputs": [
    {
     "data": {
      "application/vnd.plotly.v1+json": {
       "data": [
        {
         "mode": "markers",
         "type": "scatter",
         "uid": "b687c6",
         "x": [
          1,
          1.5,
          0.875,
          1,
          1.125,
          1.25,
          1.375,
          1.5,
          1.625
         ],
         "y": [
          1,
          1,
          0.5,
          0.5,
          0.5,
          0.5,
          0.5,
          0.5,
          0.5
         ]
        },
        {
         "mode": "markers",
         "type": "scatter",
         "uid": "c3b0c7",
         "x": [
          -1,
          -1.5,
          -0.875,
          -1,
          -1.125,
          -1.25,
          -1.375,
          -1.5,
          -1.625
         ],
         "y": [
          -1,
          -1,
          -0.5,
          -0.5,
          -0.5,
          -0.5,
          -0.5,
          -0.5,
          -0.5
         ]
        }
       ],
       "layout": {
        "autosize": true,
        "showlegend": false,
        "xaxis": {
         "autorange": true,
         "range": [
          -1.8263473053892216,
          1.8263473053892216
         ],
         "rangemode": "tozero",
         "type": "linear"
        },
        "yaxis": {
         "autorange": true,
         "range": [
          -1.1464968152866242,
          1.1464968152866242
         ],
         "rangemode": "negative",
         "type": "linear"
        }
       }
      },
      "text/html": [
       "<div id=\"f0386b56-221f-4515-aade-06f8334bc088\" style=\"height: 525px; width: 100%;\" class=\"plotly-graph-div\"></div><script type=\"text/javascript\">require([\"plotly\"], function(Plotly) { window.PLOTLYENV=window.PLOTLYENV || {};window.PLOTLYENV.BASE_URL=\"https://plot.ly\";Plotly.newPlot(\"f0386b56-221f-4515-aade-06f8334bc088\", [{\"type\": \"scatter\", \"y\": [1.0, 1.0, 0.5, 0.5, 0.5, 0.5, 0.5, 0.5, 0.5], \"mode\": \"markers\", \"x\": [1.0, 1.5, 0.875, 1.0, 1.125, 1.25, 1.375, 1.5, 1.625]}, {\"type\": \"scatter\", \"y\": [-1.0, -1.0, -0.5, -0.5, -0.5, -0.5, -0.5, -0.5, -0.5], \"mode\": \"markers\", \"x\": [-1.0, -1.5, -0.875, -1.0, -1.125, -1.25, -1.375, -1.5, -1.625]}], {\"yaxis\": {\"rangemode\": \"negative\", \"autorange\": true}, \"showlegend\": false, \"xaxis\": {\"rangemode\": \"tozero\", \"autorange\": true}}, {\"showLink\": true, \"linkText\": \"Export to plot.ly\"})});</script>"
      ],
      "text/vnd.plotly.v1+html": [
       "<div id=\"f0386b56-221f-4515-aade-06f8334bc088\" style=\"height: 525px; width: 100%;\" class=\"plotly-graph-div\"></div><script type=\"text/javascript\">require([\"plotly\"], function(Plotly) { window.PLOTLYENV=window.PLOTLYENV || {};window.PLOTLYENV.BASE_URL=\"https://plot.ly\";Plotly.newPlot(\"f0386b56-221f-4515-aade-06f8334bc088\", [{\"type\": \"scatter\", \"y\": [1.0, 1.0, 0.5, 0.5, 0.5, 0.5, 0.5, 0.5, 0.5], \"mode\": \"markers\", \"x\": [1.0, 1.5, 0.875, 1.0, 1.125, 1.25, 1.375, 1.5, 1.625]}, {\"type\": \"scatter\", \"y\": [-1.0, -1.0, -0.5, -0.5, -0.5, -0.5, -0.5, -0.5, -0.5], \"mode\": \"markers\", \"x\": [-1.0, -1.5, -0.875, -1.0, -1.125, -1.25, -1.375, -1.5, -1.625]}], {\"yaxis\": {\"rangemode\": \"negative\", \"autorange\": true}, \"showlegend\": false, \"xaxis\": {\"rangemode\": \"tozero\", \"autorange\": true}}, {\"showLink\": true, \"linkText\": \"Export to plot.ly\"})});</script>"
      ]
     },
     "metadata": {},
     "output_type": "display_data"
    }
   ],
   "source": [
    "L = [[2,2],[3,2],[1.75,1],[2,1],[2.25,1],[2.5,1],[2.75,1],[3,1],[3.25,1]]\n",
    "L = np.array(L)\n",
    "\n",
    "L1 = L * 0.5\n",
    "L2 = L * (-0.5)\n",
    "\n",
    "trace1 = go.Scatter(x=L1[:, 0],\n",
    "                    y=L1[:, 1],\n",
    "                    mode = 'markers')\n",
    "\n",
    "trace2 = go.Scatter(x=L2[:, 0],\n",
    "                    y=L2[:, 1],\n",
    "                    mode = 'markers')\n",
    "\n",
    "layout = go.Layout(\n",
    "        showlegend=False,\n",
    "        xaxis=dict(\n",
    "            rangemode='tozero',\n",
    "            autorange=True\n",
    "        ),\n",
    "        yaxis=dict(\n",
    "            rangemode='negative',\n",
    "            autorange=True\n",
    "        )\n",
    "    )\n",
    "\n",
    "data = [trace1, trace2]\n",
    "fig = go.Figure(data=data, layout=layout)\n",
    "offline.iplot(fig)"
   ]
  },
  {
   "cell_type": "markdown",
   "metadata": {},
   "source": [
    "### 3.5.1 화살표 스케일링하기\n",
    "\n",
    "$\\mathbb{R}$상의 벡터를 양의 실수로 스케일링 하는 것은 벡터의 방향을 바꾸지 않고 화살표의 길이만 변경한다. 아래의 예제 코드는 위의 $[3, 1.5]$의 벡터를 2배한 화살표이다. 음의 실수를 곱하게 되면 벡터의 방향이 반대가 된다."
   ]
  },
  {
   "cell_type": "code",
   "execution_count": 7,
   "metadata": {},
   "outputs": [
    {
     "data": {
      "text/plain": [
       "(0, 10)"
      ]
     },
     "execution_count": 7,
     "metadata": {},
     "output_type": "execute_result"
    },
    {
     "data": {
      "image/png": "[encoded data removed]",
      "text/plain": [
       "<matplotlib.figure.Figure at 0x113cab668>"
      ]
     },
     "metadata": {},
     "output_type": "display_data"
    }
   ],
   "source": [
    "ax = plt.axes()\n",
    "ax.arrow(0, 0, 3.0*2, 1.5*2, head_width=0.1, head_length=0.1)\n",
    "plt.ylim([0, 10])\n",
    "plt.xlim([0, 10])"
   ]
  },
  {
   "cell_type": "markdown",
   "metadata": {},
   "source": [
    "### 3.5.2 스칼라-벡터 곱셈의 결합성\n",
    "\n",
    "벡터를 스칼라와 곱한 다음에 그 결과를 또 다른 스칼라와 곱하는 것은 아래와 같이 단순화 할 수 있다.\n",
    "\n",
    "- **Proposition** (Associativity) : $\\alpha (\\beta v)=(\\alpha \\beta)v$ \n",
    "\n",
    "  ![](./images/proof01.PNG)"
   ]
  },
  {
   "cell_type": "markdown",
   "metadata": {},
   "source": [
    "### 3.5.3 원점을 지나는 선분\n",
    "하나의 벡터와 스칼라 곱을 통해 스케일링하여 원점을 지나는 선분을 만들 수 있다. 아래의 예제는 벡터 $[3, 2]$를 스케일링하여 선분을 만드는 예시이다."
   ]
  },
  {
   "cell_type": "code",
   "execution_count": 46,
   "metadata": {},
   "outputs": [
    {
     "data": {
      "application/vnd.plotly.v1+json": {
       "data": [
        {
         "mode": "markers",
         "type": "scatter",
         "uid": "f132a4",
         "x": [
          0,
          0.30000000000000004,
          0.6000000000000001,
          0.8999999999999999,
          1.2000000000000002,
          1.5,
          1.7999999999999998,
          2.0999999999999996,
          2.4000000000000004,
          2.7,
          3
         ],
         "y": [
          0,
          0.2,
          0.4,
          0.6,
          0.8,
          1,
          1.2,
          1.4,
          1.6,
          1.8,
          2
         ]
        }
       ],
       "layout": {
        "autosize": true,
        "showlegend": false,
        "xaxis": {
         "autorange": true,
         "range": [
          -0.18585905112851223,
          3.1858590511285123
         ],
         "rangemode": "negative",
         "type": "linear"
        },
        "yaxis": {
         "autorange": true,
         "range": [
          -0.1464968152866242,
          2.1464968152866244
         ],
         "rangemode": "negative",
         "type": "linear"
        }
       }
      },
      "text/html": [
       "<div id=\"f42d5c14-0079-493c-869f-bbc3f05ddaaf\" style=\"height: 525px; width: 100%;\" class=\"plotly-graph-div\"></div><script type=\"text/javascript\">require([\"plotly\"], function(Plotly) { window.PLOTLYENV=window.PLOTLYENV || {};window.PLOTLYENV.BASE_URL=\"https://plot.ly\";Plotly.newPlot(\"f42d5c14-0079-493c-869f-bbc3f05ddaaf\", [{\"type\": \"scatter\", \"y\": [0.0, 0.2, 0.4, 0.6, 0.8, 1.0, 1.2, 1.4, 1.6, 1.8, 2.0], \"mode\": \"markers\", \"x\": [0.0, 0.30000000000000004, 0.6000000000000001, 0.8999999999999999, 1.2000000000000002, 1.5, 1.7999999999999998, 2.0999999999999996, 2.4000000000000004, 2.7, 3.0]}], {\"yaxis\": {\"rangemode\": \"negative\", \"autorange\": true}, \"showlegend\": false, \"xaxis\": {\"rangemode\": \"negative\", \"autorange\": true}}, {\"showLink\": true, \"linkText\": \"Export to plot.ly\"})});</script>"
      ],
      "text/vnd.plotly.v1+html": [
       "<div id=\"f42d5c14-0079-493c-869f-bbc3f05ddaaf\" style=\"height: 525px; width: 100%;\" class=\"plotly-graph-div\"></div><script type=\"text/javascript\">require([\"plotly\"], function(Plotly) { window.PLOTLYENV=window.PLOTLYENV || {};window.PLOTLYENV.BASE_URL=\"https://plot.ly\";Plotly.newPlot(\"f42d5c14-0079-493c-869f-bbc3f05ddaaf\", [{\"type\": \"scatter\", \"y\": [0.0, 0.2, 0.4, 0.6, 0.8, 1.0, 1.2, 1.4, 1.6, 1.8, 2.0], \"mode\": \"markers\", \"x\": [0.0, 0.30000000000000004, 0.6000000000000001, 0.8999999999999999, 1.2000000000000002, 1.5, 1.7999999999999998, 2.0999999999999996, 2.4000000000000004, 2.7, 3.0]}], {\"yaxis\": {\"rangemode\": \"negative\", \"autorange\": true}, \"showlegend\": false, \"xaxis\": {\"rangemode\": \"negative\", \"autorange\": true}}, {\"showLink\": true, \"linkText\": \"Export to plot.ly\"})});</script>"
      ]
     },
     "metadata": {},
     "output_type": "display_data"
    }
   ],
   "source": [
    "vecs = [[3 * (i/10), 2 * (i/10)] for i in range(11)]\n",
    "vecs = np.array(vecs)\n",
    "x = vecs[:, 0]\n",
    "y = vecs[:, 1]\n",
    "plot(x, y)"
   ]
  },
  {
   "cell_type": "code",
   "execution_count": 47,
   "metadata": {},
   "outputs": [
    {
     "data": {
      "application/vnd.plotly.v1+json": {
       "data": [
        {
         "mode": "markers",
         "type": "scatter",
         "uid": "b93520",
         "x": [
          0,
          0.03,
          0.06,
          0.09,
          0.12,
          0.15000000000000002,
          0.18,
          0.21000000000000002,
          0.24,
          0.27,
          0.30000000000000004,
          0.33,
          0.36,
          0.39,
          0.42000000000000004,
          0.44999999999999996,
          0.48,
          0.51,
          0.54,
          0.5700000000000001,
          0.6000000000000001,
          0.63,
          0.66,
          0.6900000000000001,
          0.72,
          0.75,
          0.78,
          0.81,
          0.8400000000000001,
          0.8699999999999999,
          0.8999999999999999,
          0.9299999999999999,
          0.96,
          0.99,
          1.02,
          1.0499999999999998,
          1.08,
          1.1099999999999999,
          1.1400000000000001,
          1.17,
          1.2000000000000002,
          1.23,
          1.26,
          1.29,
          1.32,
          1.35,
          1.3800000000000001,
          1.41,
          1.44,
          1.47,
          1.5,
          1.53,
          1.56,
          1.59,
          1.62,
          1.6500000000000001,
          1.6800000000000002,
          1.71,
          1.7399999999999998,
          1.77,
          1.7999999999999998,
          1.83,
          1.8599999999999999,
          1.8900000000000001,
          1.92,
          1.9500000000000002,
          1.98,
          2.0100000000000002,
          2.04,
          2.07,
          2.0999999999999996,
          2.13,
          2.16,
          2.19,
          2.2199999999999998,
          2.25,
          2.2800000000000002,
          2.31,
          2.34,
          2.37,
          2.4000000000000004,
          2.43,
          2.46,
          2.4899999999999998,
          2.52,
          2.55,
          2.58,
          2.61,
          2.64,
          2.67,
          2.7,
          2.73,
          2.7600000000000002,
          2.79,
          2.82,
          2.8499999999999996,
          2.88,
          2.91,
          2.94,
          2.9699999999999998,
          3
         ],
         "y": [
          0,
          0.02,
          0.04,
          0.06,
          0.08,
          0.1,
          0.12,
          0.14,
          0.16,
          0.18,
          0.2,
          0.22,
          0.24,
          0.26,
          0.28,
          0.3,
          0.32,
          0.34,
          0.36,
          0.38,
          0.4,
          0.42,
          0.44,
          0.46,
          0.48,
          0.5,
          0.52,
          0.54,
          0.56,
          0.58,
          0.6,
          0.62,
          0.64,
          0.66,
          0.68,
          0.7,
          0.72,
          0.74,
          0.76,
          0.78,
          0.8,
          0.82,
          0.84,
          0.86,
          0.88,
          0.9,
          0.92,
          0.94,
          0.96,
          0.98,
          1,
          1.02,
          1.04,
          1.06,
          1.08,
          1.1,
          1.12,
          1.14,
          1.16,
          1.18,
          1.2,
          1.22,
          1.24,
          1.26,
          1.28,
          1.3,
          1.32,
          1.34,
          1.36,
          1.38,
          1.4,
          1.42,
          1.44,
          1.46,
          1.48,
          1.5,
          1.52,
          1.54,
          1.56,
          1.58,
          1.6,
          1.62,
          1.64,
          1.66,
          1.68,
          1.7,
          1.72,
          1.74,
          1.76,
          1.78,
          1.8,
          1.82,
          1.84,
          1.86,
          1.88,
          1.9,
          1.92,
          1.94,
          1.96,
          1.98,
          2
         ]
        }
       ],
       "layout": {
        "autosize": true,
        "showlegend": false,
        "xaxis": {
         "autorange": true,
         "range": [
          -0.18585905112851223,
          3.1858590511285123
         ],
         "rangemode": "negative",
         "type": "linear"
        },
        "yaxis": {
         "autorange": true,
         "range": [
          -0.1464968152866242,
          2.1464968152866244
         ],
         "rangemode": "negative",
         "type": "linear"
        }
       }
      },
      "text/html": [
       "<div id=\"ef656f19-0c32-4a86-aa70-04e67cc705b9\" style=\"height: 525px; width: 100%;\" class=\"plotly-graph-div\"></div><script type=\"text/javascript\">require([\"plotly\"], function(Plotly) { window.PLOTLYENV=window.PLOTLYENV || {};window.PLOTLYENV.BASE_URL=\"https://plot.ly\";Plotly.newPlot(\"ef656f19-0c32-4a86-aa70-04e67cc705b9\", [{\"type\": \"scatter\", \"y\": [0.0, 0.02, 0.04, 0.06, 0.08, 0.1, 0.12, 0.14, 0.16, 0.18, 0.2, 0.22, 0.24, 0.26, 0.28, 0.3, 0.32, 0.34, 0.36, 0.38, 0.4, 0.42, 0.44, 0.46, 0.48, 0.5, 0.52, 0.54, 0.56, 0.58, 0.6, 0.62, 0.64, 0.66, 0.68, 0.7, 0.72, 0.74, 0.76, 0.78, 0.8, 0.82, 0.84, 0.86, 0.88, 0.9, 0.92, 0.94, 0.96, 0.98, 1.0, 1.02, 1.04, 1.06, 1.08, 1.1, 1.12, 1.14, 1.16, 1.18, 1.2, 1.22, 1.24, 1.26, 1.28, 1.3, 1.32, 1.34, 1.36, 1.38, 1.4, 1.42, 1.44, 1.46, 1.48, 1.5, 1.52, 1.54, 1.56, 1.58, 1.6, 1.62, 1.64, 1.66, 1.68, 1.7, 1.72, 1.74, 1.76, 1.78, 1.8, 1.82, 1.84, 1.86, 1.88, 1.9, 1.92, 1.94, 1.96, 1.98, 2.0], \"mode\": \"markers\", \"x\": [0.0, 0.03, 0.06, 0.09, 0.12, 0.15000000000000002, 0.18, 0.21000000000000002, 0.24, 0.27, 0.30000000000000004, 0.33, 0.36, 0.39, 0.42000000000000004, 0.44999999999999996, 0.48, 0.51, 0.54, 0.5700000000000001, 0.6000000000000001, 0.63, 0.66, 0.6900000000000001, 0.72, 0.75, 0.78, 0.81, 0.8400000000000001, 0.8699999999999999, 0.8999999999999999, 0.9299999999999999, 0.96, 0.99, 1.02, 1.0499999999999998, 1.08, 1.1099999999999999, 1.1400000000000001, 1.17, 1.2000000000000002, 1.23, 1.26, 1.29, 1.32, 1.35, 1.3800000000000001, 1.41, 1.44, 1.47, 1.5, 1.53, 1.56, 1.59, 1.62, 1.6500000000000001, 1.6800000000000002, 1.71, 1.7399999999999998, 1.77, 1.7999999999999998, 1.83, 1.8599999999999999, 1.8900000000000001, 1.92, 1.9500000000000002, 1.98, 2.0100000000000002, 2.04, 2.07, 2.0999999999999996, 2.13, 2.16, 2.19, 2.2199999999999998, 2.25, 2.2800000000000002, 2.31, 2.34, 2.37, 2.4000000000000004, 2.43, 2.46, 2.4899999999999998, 2.52, 2.55, 2.58, 2.61, 2.64, 2.67, 2.7, 2.73, 2.7600000000000002, 2.79, 2.82, 2.8499999999999996, 2.88, 2.91, 2.94, 2.9699999999999998, 3.0]}], {\"yaxis\": {\"rangemode\": \"negative\", \"autorange\": true}, \"showlegend\": false, \"xaxis\": {\"rangemode\": \"negative\", \"autorange\": true}}, {\"showLink\": true, \"linkText\": \"Export to plot.ly\"})});</script>"
      ],
      "text/vnd.plotly.v1+html": [
       "<div id=\"ef656f19-0c32-4a86-aa70-04e67cc705b9\" style=\"height: 525px; width: 100%;\" class=\"plotly-graph-div\"></div><script type=\"text/javascript\">require([\"plotly\"], function(Plotly) { window.PLOTLYENV=window.PLOTLYENV || {};window.PLOTLYENV.BASE_URL=\"https://plot.ly\";Plotly.newPlot(\"ef656f19-0c32-4a86-aa70-04e67cc705b9\", [{\"type\": \"scatter\", \"y\": [0.0, 0.02, 0.04, 0.06, 0.08, 0.1, 0.12, 0.14, 0.16, 0.18, 0.2, 0.22, 0.24, 0.26, 0.28, 0.3, 0.32, 0.34, 0.36, 0.38, 0.4, 0.42, 0.44, 0.46, 0.48, 0.5, 0.52, 0.54, 0.56, 0.58, 0.6, 0.62, 0.64, 0.66, 0.68, 0.7, 0.72, 0.74, 0.76, 0.78, 0.8, 0.82, 0.84, 0.86, 0.88, 0.9, 0.92, 0.94, 0.96, 0.98, 1.0, 1.02, 1.04, 1.06, 1.08, 1.1, 1.12, 1.14, 1.16, 1.18, 1.2, 1.22, 1.24, 1.26, 1.28, 1.3, 1.32, 1.34, 1.36, 1.38, 1.4, 1.42, 1.44, 1.46, 1.48, 1.5, 1.52, 1.54, 1.56, 1.58, 1.6, 1.62, 1.64, 1.66, 1.68, 1.7, 1.72, 1.74, 1.76, 1.78, 1.8, 1.82, 1.84, 1.86, 1.88, 1.9, 1.92, 1.94, 1.96, 1.98, 2.0], \"mode\": \"markers\", \"x\": [0.0, 0.03, 0.06, 0.09, 0.12, 0.15000000000000002, 0.18, 0.21000000000000002, 0.24, 0.27, 0.30000000000000004, 0.33, 0.36, 0.39, 0.42000000000000004, 0.44999999999999996, 0.48, 0.51, 0.54, 0.5700000000000001, 0.6000000000000001, 0.63, 0.66, 0.6900000000000001, 0.72, 0.75, 0.78, 0.81, 0.8400000000000001, 0.8699999999999999, 0.8999999999999999, 0.9299999999999999, 0.96, 0.99, 1.02, 1.0499999999999998, 1.08, 1.1099999999999999, 1.1400000000000001, 1.17, 1.2000000000000002, 1.23, 1.26, 1.29, 1.32, 1.35, 1.3800000000000001, 1.41, 1.44, 1.47, 1.5, 1.53, 1.56, 1.59, 1.62, 1.6500000000000001, 1.6800000000000002, 1.71, 1.7399999999999998, 1.77, 1.7999999999999998, 1.83, 1.8599999999999999, 1.8900000000000001, 1.92, 1.9500000000000002, 1.98, 2.0100000000000002, 2.04, 2.07, 2.0999999999999996, 2.13, 2.16, 2.19, 2.2199999999999998, 2.25, 2.2800000000000002, 2.31, 2.34, 2.37, 2.4000000000000004, 2.43, 2.46, 2.4899999999999998, 2.52, 2.55, 2.58, 2.61, 2.64, 2.67, 2.7, 2.73, 2.7600000000000002, 2.79, 2.82, 2.8499999999999996, 2.88, 2.91, 2.94, 2.9699999999999998, 3.0]}], {\"yaxis\": {\"rangemode\": \"negative\", \"autorange\": true}, \"showlegend\": false, \"xaxis\": {\"rangemode\": \"negative\", \"autorange\": true}}, {\"showLink\": true, \"linkText\": \"Export to plot.ly\"})});</script>"
      ]
     },
     "metadata": {},
     "output_type": "display_data"
    }
   ],
   "source": [
    "vecs = [[3 * (i/100), 2 * (i/100)] for i in range(101)]\n",
    "vecs = np.array(vecs)\n",
    "x = vecs[:, 0]\n",
    "y = vecs[:, 1]\n",
    "plot(x, y)"
   ]
  },
  {
   "cell_type": "markdown",
   "metadata": {},
   "source": [
    "### 3.5.4 원점을 지나는 직선\n",
    "위의 예제에서 선분을 확장하여 양수의 스칼라와 음수의 스칼라를 곱하여 스케일링 하게 되면 원점을 지나는 직선을 만들 수 있다."
   ]
  },
  {
   "cell_type": "code",
   "execution_count": 48,
   "metadata": {},
   "outputs": [
    {
     "data": {
      "application/vnd.plotly.v1+json": {
       "data": [
        {
         "mode": "markers",
         "type": "scatter",
         "uid": "de43ff",
         "x": [
          -3,
          -2.7,
          -2.4000000000000004,
          -2.0999999999999996,
          -1.7999999999999998,
          -1.5,
          -1.2000000000000002,
          -0.8999999999999999,
          -0.6000000000000001,
          -0.30000000000000004,
          0,
          0.30000000000000004,
          0.6000000000000001,
          0.8999999999999999,
          1.2000000000000002,
          1.5,
          1.7999999999999998,
          2.0999999999999996,
          2.4000000000000004,
          2.7,
          3
         ],
         "y": [
          -2,
          -1.8,
          -1.6,
          -1.4,
          -1.2,
          -1,
          -0.8,
          -0.6,
          -0.4,
          -0.2,
          0,
          0.2,
          0.4,
          0.6,
          0.8,
          1,
          1.2,
          1.4,
          1.6,
          1.8,
          2
         ]
        }
       ],
       "layout": {
        "autosize": true,
        "showlegend": false,
        "xaxis": {
         "autorange": true,
         "range": [
          -3.3717181022570246,
          3.3717181022570246
         ],
         "rangemode": "negative",
         "type": "linear"
        },
        "yaxis": {
         "autorange": true,
         "range": [
          -2.2929936305732483,
          2.2929936305732483
         ],
         "rangemode": "negative",
         "type": "linear"
        }
       }
      },
      "text/html": [
       "<div id=\"5a23c479-30d8-477b-9878-e88693030711\" style=\"height: 525px; width: 100%;\" class=\"plotly-graph-div\"></div><script type=\"text/javascript\">require([\"plotly\"], function(Plotly) { window.PLOTLYENV=window.PLOTLYENV || {};window.PLOTLYENV.BASE_URL=\"https://plot.ly\";Plotly.newPlot(\"5a23c479-30d8-477b-9878-e88693030711\", [{\"type\": \"scatter\", \"y\": [-2.0, -1.8, -1.6, -1.4, -1.2, -1.0, -0.8, -0.6, -0.4, -0.2, 0.0, 0.2, 0.4, 0.6, 0.8, 1.0, 1.2, 1.4, 1.6, 1.8, 2.0], \"mode\": \"markers\", \"x\": [-3.0, -2.7, -2.4000000000000004, -2.0999999999999996, -1.7999999999999998, -1.5, -1.2000000000000002, -0.8999999999999999, -0.6000000000000001, -0.30000000000000004, 0.0, 0.30000000000000004, 0.6000000000000001, 0.8999999999999999, 1.2000000000000002, 1.5, 1.7999999999999998, 2.0999999999999996, 2.4000000000000004, 2.7, 3.0]}], {\"yaxis\": {\"rangemode\": \"negative\", \"autorange\": true}, \"showlegend\": false, \"xaxis\": {\"rangemode\": \"negative\", \"autorange\": true}}, {\"showLink\": true, \"linkText\": \"Export to plot.ly\"})});</script>"
      ],
      "text/vnd.plotly.v1+html": [
       "<div id=\"5a23c479-30d8-477b-9878-e88693030711\" style=\"height: 525px; width: 100%;\" class=\"plotly-graph-div\"></div><script type=\"text/javascript\">require([\"plotly\"], function(Plotly) { window.PLOTLYENV=window.PLOTLYENV || {};window.PLOTLYENV.BASE_URL=\"https://plot.ly\";Plotly.newPlot(\"5a23c479-30d8-477b-9878-e88693030711\", [{\"type\": \"scatter\", \"y\": [-2.0, -1.8, -1.6, -1.4, -1.2, -1.0, -0.8, -0.6, -0.4, -0.2, 0.0, 0.2, 0.4, 0.6, 0.8, 1.0, 1.2, 1.4, 1.6, 1.8, 2.0], \"mode\": \"markers\", \"x\": [-3.0, -2.7, -2.4000000000000004, -2.0999999999999996, -1.7999999999999998, -1.5, -1.2000000000000002, -0.8999999999999999, -0.6000000000000001, -0.30000000000000004, 0.0, 0.30000000000000004, 0.6000000000000001, 0.8999999999999999, 1.2000000000000002, 1.5, 1.7999999999999998, 2.0999999999999996, 2.4000000000000004, 2.7, 3.0]}], {\"yaxis\": {\"rangemode\": \"negative\", \"autorange\": true}, \"showlegend\": false, \"xaxis\": {\"rangemode\": \"negative\", \"autorange\": true}}, {\"showLink\": true, \"linkText\": \"Export to plot.ly\"})});</script>"
      ]
     },
     "metadata": {},
     "output_type": "display_data"
    }
   ],
   "source": [
    "vecs = [[3 * (i/10), 2 * (i/10)] for i in range(-10, 11)]\n",
    "vecs = np.array(vecs)\n",
    "x = vecs[:, 0]\n",
    "y = vecs[:, 1]\n",
    "plot(x, y)"
   ]
  },
  {
   "cell_type": "code",
   "execution_count": 49,
   "metadata": {},
   "outputs": [
    {
     "data": {
      "application/vnd.plotly.v1+json": {
       "data": [
        {
         "mode": "markers",
         "type": "scatter",
         "uid": "32ae6d",
         "x": [
          -3,
          -2.9699999999999998,
          -2.94,
          -2.91,
          -2.88,
          -2.8499999999999996,
          -2.82,
          -2.79,
          -2.7600000000000002,
          -2.73,
          -2.7,
          -2.67,
          -2.64,
          -2.61,
          -2.58,
          -2.55,
          -2.52,
          -2.4899999999999998,
          -2.46,
          -2.43,
          -2.4000000000000004,
          -2.37,
          -2.34,
          -2.31,
          -2.2800000000000002,
          -2.25,
          -2.2199999999999998,
          -2.19,
          -2.16,
          -2.13,
          -2.0999999999999996,
          -2.07,
          -2.04,
          -2.0100000000000002,
          -1.98,
          -1.9500000000000002,
          -1.92,
          -1.8900000000000001,
          -1.8599999999999999,
          -1.83,
          -1.7999999999999998,
          -1.77,
          -1.7399999999999998,
          -1.71,
          -1.6800000000000002,
          -1.6500000000000001,
          -1.62,
          -1.59,
          -1.56,
          -1.53,
          -1.5,
          -1.47,
          -1.44,
          -1.41,
          -1.3800000000000001,
          -1.35,
          -1.32,
          -1.29,
          -1.26,
          -1.23,
          -1.2000000000000002,
          -1.17,
          -1.1400000000000001,
          -1.1099999999999999,
          -1.08,
          -1.0499999999999998,
          -1.02,
          -0.99,
          -0.96,
          -0.9299999999999999,
          -0.8999999999999999,
          -0.8699999999999999,
          -0.8400000000000001,
          -0.81,
          -0.78,
          -0.75,
          -0.72,
          -0.6900000000000001,
          -0.66,
          -0.63,
          -0.6000000000000001,
          -0.5700000000000001,
          -0.54,
          -0.51,
          -0.48,
          -0.44999999999999996,
          -0.42000000000000004,
          -0.39,
          -0.36,
          -0.33,
          -0.30000000000000004,
          -0.27,
          -0.24,
          -0.21000000000000002,
          -0.18,
          -0.15000000000000002,
          -0.12,
          -0.09,
          -0.06,
          -0.03,
          0,
          0.03,
          0.06,
          0.09,
          0.12,
          0.15000000000000002,
          0.18,
          0.21000000000000002,
          0.24,
          0.27,
          0.30000000000000004,
          0.33,
          0.36,
          0.39,
          0.42000000000000004,
          0.44999999999999996,
          0.48,
          0.51,
          0.54,
          0.5700000000000001,
          0.6000000000000001,
          0.63,
          0.66,
          0.6900000000000001,
          0.72,
          0.75,
          0.78,
          0.81,
          0.8400000000000001,
          0.8699999999999999,
          0.8999999999999999,
          0.9299999999999999,
          0.96,
          0.99,
          1.02,
          1.0499999999999998,
          1.08,
          1.1099999999999999,
          1.1400000000000001,
          1.17,
          1.2000000000000002,
          1.23,
          1.26,
          1.29,
          1.32,
          1.35,
          1.3800000000000001,
          1.41,
          1.44,
          1.47,
          1.5,
          1.53,
          1.56,
          1.59,
          1.62,
          1.6500000000000001,
          1.6800000000000002,
          1.71,
          1.7399999999999998,
          1.77,
          1.7999999999999998,
          1.83,
          1.8599999999999999,
          1.8900000000000001,
          1.92,
          1.9500000000000002,
          1.98,
          2.0100000000000002,
          2.04,
          2.07,
          2.0999999999999996,
          2.13,
          2.16,
          2.19,
          2.2199999999999998,
          2.25,
          2.2800000000000002,
          2.31,
          2.34,
          2.37,
          2.4000000000000004,
          2.43,
          2.46,
          2.4899999999999998,
          2.52,
          2.55,
          2.58,
          2.61,
          2.64,
          2.67,
          2.7,
          2.73,
          2.7600000000000002,
          2.79,
          2.82,
          2.8499999999999996,
          2.88,
          2.91,
          2.94,
          2.9699999999999998,
          3
         ],
         "y": [
          -2,
          -1.98,
          -1.96,
          -1.94,
          -1.92,
          -1.9,
          -1.88,
          -1.86,
          -1.84,
          -1.82,
          -1.8,
          -1.78,
          -1.76,
          -1.74,
          -1.72,
          -1.7,
          -1.68,
          -1.66,
          -1.64,
          -1.62,
          -1.6,
          -1.58,
          -1.56,
          -1.54,
          -1.52,
          -1.5,
          -1.48,
          -1.46,
          -1.44,
          -1.42,
          -1.4,
          -1.38,
          -1.36,
          -1.34,
          -1.32,
          -1.3,
          -1.28,
          -1.26,
          -1.24,
          -1.22,
          -1.2,
          -1.18,
          -1.16,
          -1.14,
          -1.12,
          -1.1,
          -1.08,
          -1.06,
          -1.04,
          -1.02,
          -1,
          -0.98,
          -0.96,
          -0.94,
          -0.92,
          -0.9,
          -0.88,
          -0.86,
          -0.84,
          -0.82,
          -0.8,
          -0.78,
          -0.76,
          -0.74,
          -0.72,
          -0.7,
          -0.68,
          -0.66,
          -0.64,
          -0.62,
          -0.6,
          -0.58,
          -0.56,
          -0.54,
          -0.52,
          -0.5,
          -0.48,
          -0.46,
          -0.44,
          -0.42,
          -0.4,
          -0.38,
          -0.36,
          -0.34,
          -0.32,
          -0.3,
          -0.28,
          -0.26,
          -0.24,
          -0.22,
          -0.2,
          -0.18,
          -0.16,
          -0.14,
          -0.12,
          -0.1,
          -0.08,
          -0.06,
          -0.04,
          -0.02,
          0,
          0.02,
          0.04,
          0.06,
          0.08,
          0.1,
          0.12,
          0.14,
          0.16,
          0.18,
          0.2,
          0.22,
          0.24,
          0.26,
          0.28,
          0.3,
          0.32,
          0.34,
          0.36,
          0.38,
          0.4,
          0.42,
          0.44,
          0.46,
          0.48,
          0.5,
          0.52,
          0.54,
          0.56,
          0.58,
          0.6,
          0.62,
          0.64,
          0.66,
          0.68,
          0.7,
          0.72,
          0.74,
          0.76,
          0.78,
          0.8,
          0.82,
          0.84,
          0.86,
          0.88,
          0.9,
          0.92,
          0.94,
          0.96,
          0.98,
          1,
          1.02,
          1.04,
          1.06,
          1.08,
          1.1,
          1.12,
          1.14,
          1.16,
          1.18,
          1.2,
          1.22,
          1.24,
          1.26,
          1.28,
          1.3,
          1.32,
          1.34,
          1.36,
          1.38,
          1.4,
          1.42,
          1.44,
          1.46,
          1.48,
          1.5,
          1.52,
          1.54,
          1.56,
          1.58,
          1.6,
          1.62,
          1.64,
          1.66,
          1.68,
          1.7,
          1.72,
          1.74,
          1.76,
          1.78,
          1.8,
          1.82,
          1.84,
          1.86,
          1.88,
          1.9,
          1.92,
          1.94,
          1.96,
          1.98,
          2
         ]
        }
       ],
       "layout": {
        "autosize": true,
        "showlegend": false,
        "xaxis": {
         "autorange": true,
         "range": [
          -3.3717181022570246,
          3.3717181022570246
         ],
         "rangemode": "negative",
         "type": "linear"
        },
        "yaxis": {
         "autorange": true,
         "range": [
          -2.2929936305732483,
          2.2929936305732483
         ],
         "rangemode": "negative",
         "type": "linear"
        }
       }
      },
      "text/html": [
       "<div id=\"4f852980-ff8d-4205-a46f-b0f0c0b4f6e5\" style=\"height: 525px; width: 100%;\" class=\"plotly-graph-div\"></div><script type=\"text/javascript\">require([\"plotly\"], function(Plotly) { window.PLOTLYENV=window.PLOTLYENV || {};window.PLOTLYENV.BASE_URL=\"https://plot.ly\";Plotly.newPlot(\"4f852980-ff8d-4205-a46f-b0f0c0b4f6e5\", [{\"type\": \"scatter\", \"y\": [-2.0, -1.98, -1.96, -1.94, -1.92, -1.9, -1.88, -1.86, -1.84, -1.82, -1.8, -1.78, -1.76, -1.74, -1.72, -1.7, -1.68, -1.66, -1.64, -1.62, -1.6, -1.58, -1.56, -1.54, -1.52, -1.5, -1.48, -1.46, -1.44, -1.42, -1.4, -1.38, -1.36, -1.34, -1.32, -1.3, -1.28, -1.26, -1.24, -1.22, -1.2, -1.18, -1.16, -1.14, -1.12, -1.1, -1.08, -1.06, -1.04, -1.02, -1.0, -0.98, -0.96, -0.94, -0.92, -0.9, -0.88, -0.86, -0.84, -0.82, -0.8, -0.78, -0.76, -0.74, -0.72, -0.7, -0.68, -0.66, -0.64, -0.62, -0.6, -0.58, -0.56, -0.54, -0.52, -0.5, -0.48, -0.46, -0.44, -0.42, -0.4, -0.38, -0.36, -0.34, -0.32, -0.3, -0.28, -0.26, -0.24, -0.22, -0.2, -0.18, -0.16, -0.14, -0.12, -0.1, -0.08, -0.06, -0.04, -0.02, 0.0, 0.02, 0.04, 0.06, 0.08, 0.1, 0.12, 0.14, 0.16, 0.18, 0.2, 0.22, 0.24, 0.26, 0.28, 0.3, 0.32, 0.34, 0.36, 0.38, 0.4, 0.42, 0.44, 0.46, 0.48, 0.5, 0.52, 0.54, 0.56, 0.58, 0.6, 0.62, 0.64, 0.66, 0.68, 0.7, 0.72, 0.74, 0.76, 0.78, 0.8, 0.82, 0.84, 0.86, 0.88, 0.9, 0.92, 0.94, 0.96, 0.98, 1.0, 1.02, 1.04, 1.06, 1.08, 1.1, 1.12, 1.14, 1.16, 1.18, 1.2, 1.22, 1.24, 1.26, 1.28, 1.3, 1.32, 1.34, 1.36, 1.38, 1.4, 1.42, 1.44, 1.46, 1.48, 1.5, 1.52, 1.54, 1.56, 1.58, 1.6, 1.62, 1.64, 1.66, 1.68, 1.7, 1.72, 1.74, 1.76, 1.78, 1.8, 1.82, 1.84, 1.86, 1.88, 1.9, 1.92, 1.94, 1.96, 1.98, 2.0], \"mode\": \"markers\", \"x\": [-3.0, -2.9699999999999998, -2.94, -2.91, -2.88, -2.8499999999999996, -2.82, -2.79, -2.7600000000000002, -2.73, -2.7, -2.67, -2.64, -2.61, -2.58, -2.55, -2.52, -2.4899999999999998, -2.46, -2.43, -2.4000000000000004, -2.37, -2.34, -2.31, -2.2800000000000002, -2.25, -2.2199999999999998, -2.19, -2.16, -2.13, -2.0999999999999996, -2.07, -2.04, -2.0100000000000002, -1.98, -1.9500000000000002, -1.92, -1.8900000000000001, -1.8599999999999999, -1.83, -1.7999999999999998, -1.77, -1.7399999999999998, -1.71, -1.6800000000000002, -1.6500000000000001, -1.62, -1.59, -1.56, -1.53, -1.5, -1.47, -1.44, -1.41, -1.3800000000000001, -1.35, -1.32, -1.29, -1.26, -1.23, -1.2000000000000002, -1.17, -1.1400000000000001, -1.1099999999999999, -1.08, -1.0499999999999998, -1.02, -0.99, -0.96, -0.9299999999999999, -0.8999999999999999, -0.8699999999999999, -0.8400000000000001, -0.81, -0.78, -0.75, -0.72, -0.6900000000000001, -0.66, -0.63, -0.6000000000000001, -0.5700000000000001, -0.54, -0.51, -0.48, -0.44999999999999996, -0.42000000000000004, -0.39, -0.36, -0.33, -0.30000000000000004, -0.27, -0.24, -0.21000000000000002, -0.18, -0.15000000000000002, -0.12, -0.09, -0.06, -0.03, 0.0, 0.03, 0.06, 0.09, 0.12, 0.15000000000000002, 0.18, 0.21000000000000002, 0.24, 0.27, 0.30000000000000004, 0.33, 0.36, 0.39, 0.42000000000000004, 0.44999999999999996, 0.48, 0.51, 0.54, 0.5700000000000001, 0.6000000000000001, 0.63, 0.66, 0.6900000000000001, 0.72, 0.75, 0.78, 0.81, 0.8400000000000001, 0.8699999999999999, 0.8999999999999999, 0.9299999999999999, 0.96, 0.99, 1.02, 1.0499999999999998, 1.08, 1.1099999999999999, 1.1400000000000001, 1.17, 1.2000000000000002, 1.23, 1.26, 1.29, 1.32, 1.35, 1.3800000000000001, 1.41, 1.44, 1.47, 1.5, 1.53, 1.56, 1.59, 1.62, 1.6500000000000001, 1.6800000000000002, 1.71, 1.7399999999999998, 1.77, 1.7999999999999998, 1.83, 1.8599999999999999, 1.8900000000000001, 1.92, 1.9500000000000002, 1.98, 2.0100000000000002, 2.04, 2.07, 2.0999999999999996, 2.13, 2.16, 2.19, 2.2199999999999998, 2.25, 2.2800000000000002, 2.31, 2.34, 2.37, 2.4000000000000004, 2.43, 2.46, 2.4899999999999998, 2.52, 2.55, 2.58, 2.61, 2.64, 2.67, 2.7, 2.73, 2.7600000000000002, 2.79, 2.82, 2.8499999999999996, 2.88, 2.91, 2.94, 2.9699999999999998, 3.0]}], {\"yaxis\": {\"rangemode\": \"negative\", \"autorange\": true}, \"showlegend\": false, \"xaxis\": {\"rangemode\": \"negative\", \"autorange\": true}}, {\"showLink\": true, \"linkText\": \"Export to plot.ly\"})});</script>"
      ],
      "text/vnd.plotly.v1+html": [
       "<div id=\"4f852980-ff8d-4205-a46f-b0f0c0b4f6e5\" style=\"height: 525px; width: 100%;\" class=\"plotly-graph-div\"></div><script type=\"text/javascript\">require([\"plotly\"], function(Plotly) { window.PLOTLYENV=window.PLOTLYENV || {};window.PLOTLYENV.BASE_URL=\"https://plot.ly\";Plotly.newPlot(\"4f852980-ff8d-4205-a46f-b0f0c0b4f6e5\", [{\"type\": \"scatter\", \"y\": [-2.0, -1.98, -1.96, -1.94, -1.92, -1.9, -1.88, -1.86, -1.84, -1.82, -1.8, -1.78, -1.76, -1.74, -1.72, -1.7, -1.68, -1.66, -1.64, -1.62, -1.6, -1.58, -1.56, -1.54, -1.52, -1.5, -1.48, -1.46, -1.44, -1.42, -1.4, -1.38, -1.36, -1.34, -1.32, -1.3, -1.28, -1.26, -1.24, -1.22, -1.2, -1.18, -1.16, -1.14, -1.12, -1.1, -1.08, -1.06, -1.04, -1.02, -1.0, -0.98, -0.96, -0.94, -0.92, -0.9, -0.88, -0.86, -0.84, -0.82, -0.8, -0.78, -0.76, -0.74, -0.72, -0.7, -0.68, -0.66, -0.64, -0.62, -0.6, -0.58, -0.56, -0.54, -0.52, -0.5, -0.48, -0.46, -0.44, -0.42, -0.4, -0.38, -0.36, -0.34, -0.32, -0.3, -0.28, -0.26, -0.24, -0.22, -0.2, -0.18, -0.16, -0.14, -0.12, -0.1, -0.08, -0.06, -0.04, -0.02, 0.0, 0.02, 0.04, 0.06, 0.08, 0.1, 0.12, 0.14, 0.16, 0.18, 0.2, 0.22, 0.24, 0.26, 0.28, 0.3, 0.32, 0.34, 0.36, 0.38, 0.4, 0.42, 0.44, 0.46, 0.48, 0.5, 0.52, 0.54, 0.56, 0.58, 0.6, 0.62, 0.64, 0.66, 0.68, 0.7, 0.72, 0.74, 0.76, 0.78, 0.8, 0.82, 0.84, 0.86, 0.88, 0.9, 0.92, 0.94, 0.96, 0.98, 1.0, 1.02, 1.04, 1.06, 1.08, 1.1, 1.12, 1.14, 1.16, 1.18, 1.2, 1.22, 1.24, 1.26, 1.28, 1.3, 1.32, 1.34, 1.36, 1.38, 1.4, 1.42, 1.44, 1.46, 1.48, 1.5, 1.52, 1.54, 1.56, 1.58, 1.6, 1.62, 1.64, 1.66, 1.68, 1.7, 1.72, 1.74, 1.76, 1.78, 1.8, 1.82, 1.84, 1.86, 1.88, 1.9, 1.92, 1.94, 1.96, 1.98, 2.0], \"mode\": \"markers\", \"x\": [-3.0, -2.9699999999999998, -2.94, -2.91, -2.88, -2.8499999999999996, -2.82, -2.79, -2.7600000000000002, -2.73, -2.7, -2.67, -2.64, -2.61, -2.58, -2.55, -2.52, -2.4899999999999998, -2.46, -2.43, -2.4000000000000004, -2.37, -2.34, -2.31, -2.2800000000000002, -2.25, -2.2199999999999998, -2.19, -2.16, -2.13, -2.0999999999999996, -2.07, -2.04, -2.0100000000000002, -1.98, -1.9500000000000002, -1.92, -1.8900000000000001, -1.8599999999999999, -1.83, -1.7999999999999998, -1.77, -1.7399999999999998, -1.71, -1.6800000000000002, -1.6500000000000001, -1.62, -1.59, -1.56, -1.53, -1.5, -1.47, -1.44, -1.41, -1.3800000000000001, -1.35, -1.32, -1.29, -1.26, -1.23, -1.2000000000000002, -1.17, -1.1400000000000001, -1.1099999999999999, -1.08, -1.0499999999999998, -1.02, -0.99, -0.96, -0.9299999999999999, -0.8999999999999999, -0.8699999999999999, -0.8400000000000001, -0.81, -0.78, -0.75, -0.72, -0.6900000000000001, -0.66, -0.63, -0.6000000000000001, -0.5700000000000001, -0.54, -0.51, -0.48, -0.44999999999999996, -0.42000000000000004, -0.39, -0.36, -0.33, -0.30000000000000004, -0.27, -0.24, -0.21000000000000002, -0.18, -0.15000000000000002, -0.12, -0.09, -0.06, -0.03, 0.0, 0.03, 0.06, 0.09, 0.12, 0.15000000000000002, 0.18, 0.21000000000000002, 0.24, 0.27, 0.30000000000000004, 0.33, 0.36, 0.39, 0.42000000000000004, 0.44999999999999996, 0.48, 0.51, 0.54, 0.5700000000000001, 0.6000000000000001, 0.63, 0.66, 0.6900000000000001, 0.72, 0.75, 0.78, 0.81, 0.8400000000000001, 0.8699999999999999, 0.8999999999999999, 0.9299999999999999, 0.96, 0.99, 1.02, 1.0499999999999998, 1.08, 1.1099999999999999, 1.1400000000000001, 1.17, 1.2000000000000002, 1.23, 1.26, 1.29, 1.32, 1.35, 1.3800000000000001, 1.41, 1.44, 1.47, 1.5, 1.53, 1.56, 1.59, 1.62, 1.6500000000000001, 1.6800000000000002, 1.71, 1.7399999999999998, 1.77, 1.7999999999999998, 1.83, 1.8599999999999999, 1.8900000000000001, 1.92, 1.9500000000000002, 1.98, 2.0100000000000002, 2.04, 2.07, 2.0999999999999996, 2.13, 2.16, 2.19, 2.2199999999999998, 2.25, 2.2800000000000002, 2.31, 2.34, 2.37, 2.4000000000000004, 2.43, 2.46, 2.4899999999999998, 2.52, 2.55, 2.58, 2.61, 2.64, 2.67, 2.7, 2.73, 2.7600000000000002, 2.79, 2.82, 2.8499999999999996, 2.88, 2.91, 2.94, 2.9699999999999998, 3.0]}], {\"yaxis\": {\"rangemode\": \"negative\", \"autorange\": true}, \"showlegend\": false, \"xaxis\": {\"rangemode\": \"negative\", \"autorange\": true}}, {\"showLink\": true, \"linkText\": \"Export to plot.ly\"})});</script>"
      ]
     },
     "metadata": {},
     "output_type": "display_data"
    }
   ],
   "source": [
    "vecs = [[3 * (i/100), 2 * (i/100)] for i in range(-100, 101)]\n",
    "vecs = np.array(vecs)\n",
    "x = vecs[:, 0]\n",
    "y = vecs[:, 1]\n",
    "plot(x, y)"
   ]
  },
  {
   "cell_type": "markdown",
   "metadata": {},
   "source": [
    "## 3.6 벡터 덧셈과 스칼라 곱셈 결합하기"
   ]
  },
  {
   "cell_type": "markdown",
   "metadata": {},
   "source": [
    "### 3.6.1 원점을 지나지 않는 선분과 직선\n",
    "위의 예제에서 $[x, y] \\mapsto [x+0.5,y+1]​$평행이동을 적용하게 되면 아래의 그림처럼 그래프가 그려진다."
   ]
  },
  {
   "cell_type": "code",
   "execution_count": 28,
   "metadata": {},
   "outputs": [
    {
     "data": {
      "application/vnd.plotly.v1+json": {
       "data": [
        {
         "mode": "markers",
         "name": "original",
         "type": "scatter",
         "uid": "0505e3",
         "x": [
          0,
          0.03,
          0.06,
          0.09,
          0.12,
          0.15000000000000002,
          0.18,
          0.21000000000000002,
          0.24,
          0.27,
          0.30000000000000004,
          0.33,
          0.36,
          0.39,
          0.42000000000000004,
          0.44999999999999996,
          0.48,
          0.51,
          0.54,
          0.5700000000000001,
          0.6000000000000001,
          0.63,
          0.66,
          0.6900000000000001,
          0.72,
          0.75,
          0.78,
          0.81,
          0.8400000000000001,
          0.8699999999999999,
          0.8999999999999999,
          0.9299999999999999,
          0.96,
          0.99,
          1.02,
          1.0499999999999998,
          1.08,
          1.1099999999999999,
          1.1400000000000001,
          1.17,
          1.2000000000000002,
          1.23,
          1.26,
          1.29,
          1.32,
          1.35,
          1.3800000000000001,
          1.41,
          1.44,
          1.47,
          1.5,
          1.53,
          1.56,
          1.59,
          1.62,
          1.6500000000000001,
          1.6800000000000002,
          1.71,
          1.7399999999999998,
          1.77,
          1.7999999999999998,
          1.83,
          1.8599999999999999,
          1.8900000000000001,
          1.92,
          1.9500000000000002,
          1.98,
          2.0100000000000002,
          2.04,
          2.07,
          2.0999999999999996,
          2.13,
          2.16,
          2.19,
          2.2199999999999998,
          2.25,
          2.2800000000000002,
          2.31,
          2.34,
          2.37,
          2.4000000000000004,
          2.43,
          2.46,
          2.4899999999999998,
          2.52,
          2.55,
          2.58,
          2.61,
          2.64,
          2.67,
          2.7,
          2.73,
          2.7600000000000002,
          2.79,
          2.82,
          2.8499999999999996,
          2.88,
          2.91,
          2.94,
          2.9699999999999998,
          3
         ],
         "y": [
          0,
          0.02,
          0.04,
          0.06,
          0.08,
          0.1,
          0.12,
          0.14,
          0.16,
          0.18,
          0.2,
          0.22,
          0.24,
          0.26,
          0.28,
          0.3,
          0.32,
          0.34,
          0.36,
          0.38,
          0.4,
          0.42,
          0.44,
          0.46,
          0.48,
          0.5,
          0.52,
          0.54,
          0.56,
          0.58,
          0.6,
          0.62,
          0.64,
          0.66,
          0.68,
          0.7,
          0.72,
          0.74,
          0.76,
          0.78,
          0.8,
          0.82,
          0.84,
          0.86,
          0.88,
          0.9,
          0.92,
          0.94,
          0.96,
          0.98,
          1,
          1.02,
          1.04,
          1.06,
          1.08,
          1.1,
          1.12,
          1.14,
          1.16,
          1.18,
          1.2,
          1.22,
          1.24,
          1.26,
          1.28,
          1.3,
          1.32,
          1.34,
          1.36,
          1.38,
          1.4,
          1.42,
          1.44,
          1.46,
          1.48,
          1.5,
          1.52,
          1.54,
          1.56,
          1.58,
          1.6,
          1.62,
          1.64,
          1.66,
          1.68,
          1.7,
          1.72,
          1.74,
          1.76,
          1.78,
          1.8,
          1.82,
          1.84,
          1.86,
          1.88,
          1.9,
          1.92,
          1.94,
          1.96,
          1.98,
          2
         ]
        },
        {
         "mode": "markers",
         "name": "translation",
         "type": "scatter",
         "uid": "a847c5",
         "x": [
          0.5,
          0.53,
          0.56,
          0.59,
          0.62,
          0.65,
          0.6799999999999999,
          0.71,
          0.74,
          0.77,
          0.8,
          0.8300000000000001,
          0.86,
          0.89,
          0.92,
          0.95,
          0.98,
          1.01,
          1.04,
          1.07,
          1.1,
          1.13,
          1.1600000000000001,
          1.19,
          1.22,
          1.25,
          1.28,
          1.31,
          1.34,
          1.3699999999999999,
          1.4,
          1.43,
          1.46,
          1.49,
          1.52,
          1.5499999999999998,
          1.58,
          1.6099999999999999,
          1.6400000000000001,
          1.67,
          1.7000000000000002,
          1.73,
          1.76,
          1.79,
          1.82,
          1.85,
          1.8800000000000001,
          1.91,
          1.94,
          1.97,
          2,
          2.0300000000000002,
          2.06,
          2.09,
          2.12,
          2.1500000000000004,
          2.18,
          2.21,
          2.2399999999999998,
          2.27,
          2.3,
          2.33,
          2.36,
          2.39,
          2.42,
          2.45,
          2.48,
          2.5100000000000002,
          2.54,
          2.57,
          2.5999999999999996,
          2.63,
          2.66,
          2.69,
          2.7199999999999998,
          2.75,
          2.7800000000000002,
          2.81,
          2.84,
          2.87,
          2.9000000000000004,
          2.93,
          2.96,
          2.9899999999999998,
          3.02,
          3.05,
          3.08,
          3.11,
          3.14,
          3.17,
          3.2,
          3.23,
          3.2600000000000002,
          3.29,
          3.32,
          3.3499999999999996,
          3.38,
          3.41,
          3.44,
          3.4699999999999998,
          3.5
         ],
         "y": [
          1,
          1.02,
          1.04,
          1.06,
          1.08,
          1.1,
          1.12,
          1.1400000000000001,
          1.16,
          1.18,
          1.2,
          1.22,
          1.24,
          1.26,
          1.28,
          1.3,
          1.32,
          1.34,
          1.3599999999999999,
          1.38,
          1.4,
          1.42,
          1.44,
          1.46,
          1.48,
          1.5,
          1.52,
          1.54,
          1.56,
          1.58,
          1.6,
          1.62,
          1.6400000000000001,
          1.6600000000000001,
          1.6800000000000002,
          1.7,
          1.72,
          1.74,
          1.76,
          1.78,
          1.8,
          1.8199999999999998,
          1.8399999999999999,
          1.8599999999999999,
          1.88,
          1.9,
          1.92,
          1.94,
          1.96,
          1.98,
          2,
          2.02,
          2.04,
          2.06,
          2.08,
          2.1,
          2.12,
          2.1399999999999997,
          2.16,
          2.1799999999999997,
          2.2,
          2.2199999999999998,
          2.24,
          2.26,
          2.2800000000000002,
          2.3,
          2.3200000000000003,
          2.34,
          2.3600000000000003,
          2.38,
          2.4,
          2.42,
          2.44,
          2.46,
          2.48,
          2.5,
          2.52,
          2.54,
          2.56,
          2.58,
          2.6,
          2.62,
          2.6399999999999997,
          2.66,
          2.6799999999999997,
          2.7,
          2.7199999999999998,
          2.74,
          2.76,
          2.7800000000000002,
          2.8,
          2.8200000000000003,
          2.84,
          2.8600000000000003,
          2.88,
          2.9,
          2.92,
          2.94,
          2.96,
          2.98,
          3
         ]
        }
       ],
       "layout": {
        "annotations": [
         {
          "arrowhead": 7,
          "showarrow": true,
          "text": "Orignial",
          "x": 3,
          "xref": "x",
          "y": 2,
          "yref": "y"
         },
         {
          "arrowhead": 7,
          "showarrow": true,
          "text": "Translation",
          "x": 3.5,
          "xref": "x",
          "y": 3,
          "yref": "y"
         }
        ],
        "autosize": true,
        "showlegend": false,
        "xaxis": {
         "autorange": true,
         "range": [
          0,
          3.704185643027543
         ],
         "rangemode": "tozero",
         "type": "linear"
        },
        "yaxis": {
         "autorange": true,
         "range": [
          -0.24267291910902697,
          3.5556858147713952
         ],
         "rangemode": "negative",
         "type": "linear"
        }
       }
      },
      "text/html": [
       "<div id=\"daae1ec1-6d40-425a-9032-623ed02ab8f4\" style=\"height: 525px; width: 100%;\" class=\"plotly-graph-div\"></div><script type=\"text/javascript\">require([\"plotly\"], function(Plotly) { window.PLOTLYENV=window.PLOTLYENV || {};window.PLOTLYENV.BASE_URL=\"https://plot.ly\";Plotly.newPlot(\"daae1ec1-6d40-425a-9032-623ed02ab8f4\", [{\"type\": \"scatter\", \"y\": [0.0, 0.02, 0.04, 0.06, 0.08, 0.1, 0.12, 0.14, 0.16, 0.18, 0.2, 0.22, 0.24, 0.26, 0.28, 0.3, 0.32, 0.34, 0.36, 0.38, 0.4, 0.42, 0.44, 0.46, 0.48, 0.5, 0.52, 0.54, 0.56, 0.58, 0.6, 0.62, 0.64, 0.66, 0.68, 0.7, 0.72, 0.74, 0.76, 0.78, 0.8, 0.82, 0.84, 0.86, 0.88, 0.9, 0.92, 0.94, 0.96, 0.98, 1.0, 1.02, 1.04, 1.06, 1.08, 1.1, 1.12, 1.14, 1.16, 1.18, 1.2, 1.22, 1.24, 1.26, 1.28, 1.3, 1.32, 1.34, 1.36, 1.38, 1.4, 1.42, 1.44, 1.46, 1.48, 1.5, 1.52, 1.54, 1.56, 1.58, 1.6, 1.62, 1.64, 1.66, 1.68, 1.7, 1.72, 1.74, 1.76, 1.78, 1.8, 1.82, 1.84, 1.86, 1.88, 1.9, 1.92, 1.94, 1.96, 1.98, 2.0], \"mode\": \"markers\", \"name\": \"original\", \"x\": [0.0, 0.03, 0.06, 0.09, 0.12, 0.15000000000000002, 0.18, 0.21000000000000002, 0.24, 0.27, 0.30000000000000004, 0.33, 0.36, 0.39, 0.42000000000000004, 0.44999999999999996, 0.48, 0.51, 0.54, 0.5700000000000001, 0.6000000000000001, 0.63, 0.66, 0.6900000000000001, 0.72, 0.75, 0.78, 0.81, 0.8400000000000001, 0.8699999999999999, 0.8999999999999999, 0.9299999999999999, 0.96, 0.99, 1.02, 1.0499999999999998, 1.08, 1.1099999999999999, 1.1400000000000001, 1.17, 1.2000000000000002, 1.23, 1.26, 1.29, 1.32, 1.35, 1.3800000000000001, 1.41, 1.44, 1.47, 1.5, 1.53, 1.56, 1.59, 1.62, 1.6500000000000001, 1.6800000000000002, 1.71, 1.7399999999999998, 1.77, 1.7999999999999998, 1.83, 1.8599999999999999, 1.8900000000000001, 1.92, 1.9500000000000002, 1.98, 2.0100000000000002, 2.04, 2.07, 2.0999999999999996, 2.13, 2.16, 2.19, 2.2199999999999998, 2.25, 2.2800000000000002, 2.31, 2.34, 2.37, 2.4000000000000004, 2.43, 2.46, 2.4899999999999998, 2.52, 2.55, 2.58, 2.61, 2.64, 2.67, 2.7, 2.73, 2.7600000000000002, 2.79, 2.82, 2.8499999999999996, 2.88, 2.91, 2.94, 2.9699999999999998, 3.0]}, {\"type\": \"scatter\", \"y\": [1.0, 1.02, 1.04, 1.06, 1.08, 1.1, 1.12, 1.1400000000000001, 1.16, 1.18, 1.2, 1.22, 1.24, 1.26, 1.28, 1.3, 1.32, 1.34, 1.3599999999999999, 1.38, 1.4, 1.42, 1.44, 1.46, 1.48, 1.5, 1.52, 1.54, 1.56, 1.58, 1.6, 1.62, 1.6400000000000001, 1.6600000000000001, 1.6800000000000002, 1.7, 1.72, 1.74, 1.76, 1.78, 1.8, 1.8199999999999998, 1.8399999999999999, 1.8599999999999999, 1.88, 1.9, 1.92, 1.94, 1.96, 1.98, 2.0, 2.02, 2.04, 2.06, 2.08, 2.1, 2.12, 2.1399999999999997, 2.16, 2.1799999999999997, 2.2, 2.2199999999999998, 2.24, 2.26, 2.2800000000000002, 2.3, 2.3200000000000003, 2.34, 2.3600000000000003, 2.38, 2.4, 2.42, 2.44, 2.46, 2.48, 2.5, 2.52, 2.54, 2.56, 2.58, 2.6, 2.62, 2.6399999999999997, 2.66, 2.6799999999999997, 2.7, 2.7199999999999998, 2.74, 2.76, 2.7800000000000002, 2.8, 2.8200000000000003, 2.84, 2.8600000000000003, 2.88, 2.9, 2.92, 2.94, 2.96, 2.98, 3.0], \"mode\": \"markers\", \"name\": \"translation\", \"x\": [0.5, 0.53, 0.56, 0.59, 0.62, 0.65, 0.6799999999999999, 0.71, 0.74, 0.77, 0.8, 0.8300000000000001, 0.86, 0.89, 0.92, 0.95, 0.98, 1.01, 1.04, 1.07, 1.1, 1.13, 1.1600000000000001, 1.19, 1.22, 1.25, 1.28, 1.31, 1.34, 1.3699999999999999, 1.4, 1.43, 1.46, 1.49, 1.52, 1.5499999999999998, 1.58, 1.6099999999999999, 1.6400000000000001, 1.67, 1.7000000000000002, 1.73, 1.76, 1.79, 1.82, 1.85, 1.8800000000000001, 1.91, 1.94, 1.97, 2.0, 2.0300000000000002, 2.06, 2.09, 2.12, 2.1500000000000004, 2.18, 2.21, 2.2399999999999998, 2.27, 2.3, 2.33, 2.36, 2.39, 2.42, 2.45, 2.48, 2.5100000000000002, 2.54, 2.57, 2.5999999999999996, 2.63, 2.66, 2.69, 2.7199999999999998, 2.75, 2.7800000000000002, 2.81, 2.84, 2.87, 2.9000000000000004, 2.93, 2.96, 2.9899999999999998, 3.02, 3.05, 3.08, 3.11, 3.14, 3.17, 3.2, 3.23, 3.2600000000000002, 3.29, 3.32, 3.3499999999999996, 3.38, 3.41, 3.44, 3.4699999999999998, 3.5]}], {\"yaxis\": {\"rangemode\": \"negative\", \"autorange\": true}, \"showlegend\": false, \"xaxis\": {\"rangemode\": \"tozero\", \"autorange\": true}, \"annotations\": [{\"text\": \"Orignial\", \"y\": 2, \"showarrow\": true, \"xref\": \"x\", \"yref\": \"y\", \"arrowhead\": 7, \"x\": 3}, {\"text\": \"Translation\", \"y\": 3, \"showarrow\": true, \"xref\": \"x\", \"yref\": \"y\", \"arrowhead\": 7, \"x\": 3.5}]}, {\"showLink\": true, \"linkText\": \"Export to plot.ly\"})});</script>"
      ],
      "text/vnd.plotly.v1+html": [
       "<div id=\"daae1ec1-6d40-425a-9032-623ed02ab8f4\" style=\"height: 525px; width: 100%;\" class=\"plotly-graph-div\"></div><script type=\"text/javascript\">require([\"plotly\"], function(Plotly) { window.PLOTLYENV=window.PLOTLYENV || {};window.PLOTLYENV.BASE_URL=\"https://plot.ly\";Plotly.newPlot(\"daae1ec1-6d40-425a-9032-623ed02ab8f4\", [{\"type\": \"scatter\", \"y\": [0.0, 0.02, 0.04, 0.06, 0.08, 0.1, 0.12, 0.14, 0.16, 0.18, 0.2, 0.22, 0.24, 0.26, 0.28, 0.3, 0.32, 0.34, 0.36, 0.38, 0.4, 0.42, 0.44, 0.46, 0.48, 0.5, 0.52, 0.54, 0.56, 0.58, 0.6, 0.62, 0.64, 0.66, 0.68, 0.7, 0.72, 0.74, 0.76, 0.78, 0.8, 0.82, 0.84, 0.86, 0.88, 0.9, 0.92, 0.94, 0.96, 0.98, 1.0, 1.02, 1.04, 1.06, 1.08, 1.1, 1.12, 1.14, 1.16, 1.18, 1.2, 1.22, 1.24, 1.26, 1.28, 1.3, 1.32, 1.34, 1.36, 1.38, 1.4, 1.42, 1.44, 1.46, 1.48, 1.5, 1.52, 1.54, 1.56, 1.58, 1.6, 1.62, 1.64, 1.66, 1.68, 1.7, 1.72, 1.74, 1.76, 1.78, 1.8, 1.82, 1.84, 1.86, 1.88, 1.9, 1.92, 1.94, 1.96, 1.98, 2.0], \"mode\": \"markers\", \"name\": \"original\", \"x\": [0.0, 0.03, 0.06, 0.09, 0.12, 0.15000000000000002, 0.18, 0.21000000000000002, 0.24, 0.27, 0.30000000000000004, 0.33, 0.36, 0.39, 0.42000000000000004, 0.44999999999999996, 0.48, 0.51, 0.54, 0.5700000000000001, 0.6000000000000001, 0.63, 0.66, 0.6900000000000001, 0.72, 0.75, 0.78, 0.81, 0.8400000000000001, 0.8699999999999999, 0.8999999999999999, 0.9299999999999999, 0.96, 0.99, 1.02, 1.0499999999999998, 1.08, 1.1099999999999999, 1.1400000000000001, 1.17, 1.2000000000000002, 1.23, 1.26, 1.29, 1.32, 1.35, 1.3800000000000001, 1.41, 1.44, 1.47, 1.5, 1.53, 1.56, 1.59, 1.62, 1.6500000000000001, 1.6800000000000002, 1.71, 1.7399999999999998, 1.77, 1.7999999999999998, 1.83, 1.8599999999999999, 1.8900000000000001, 1.92, 1.9500000000000002, 1.98, 2.0100000000000002, 2.04, 2.07, 2.0999999999999996, 2.13, 2.16, 2.19, 2.2199999999999998, 2.25, 2.2800000000000002, 2.31, 2.34, 2.37, 2.4000000000000004, 2.43, 2.46, 2.4899999999999998, 2.52, 2.55, 2.58, 2.61, 2.64, 2.67, 2.7, 2.73, 2.7600000000000002, 2.79, 2.82, 2.8499999999999996, 2.88, 2.91, 2.94, 2.9699999999999998, 3.0]}, {\"type\": \"scatter\", \"y\": [1.0, 1.02, 1.04, 1.06, 1.08, 1.1, 1.12, 1.1400000000000001, 1.16, 1.18, 1.2, 1.22, 1.24, 1.26, 1.28, 1.3, 1.32, 1.34, 1.3599999999999999, 1.38, 1.4, 1.42, 1.44, 1.46, 1.48, 1.5, 1.52, 1.54, 1.56, 1.58, 1.6, 1.62, 1.6400000000000001, 1.6600000000000001, 1.6800000000000002, 1.7, 1.72, 1.74, 1.76, 1.78, 1.8, 1.8199999999999998, 1.8399999999999999, 1.8599999999999999, 1.88, 1.9, 1.92, 1.94, 1.96, 1.98, 2.0, 2.02, 2.04, 2.06, 2.08, 2.1, 2.12, 2.1399999999999997, 2.16, 2.1799999999999997, 2.2, 2.2199999999999998, 2.24, 2.26, 2.2800000000000002, 2.3, 2.3200000000000003, 2.34, 2.3600000000000003, 2.38, 2.4, 2.42, 2.44, 2.46, 2.48, 2.5, 2.52, 2.54, 2.56, 2.58, 2.6, 2.62, 2.6399999999999997, 2.66, 2.6799999999999997, 2.7, 2.7199999999999998, 2.74, 2.76, 2.7800000000000002, 2.8, 2.8200000000000003, 2.84, 2.8600000000000003, 2.88, 2.9, 2.92, 2.94, 2.96, 2.98, 3.0], \"mode\": \"markers\", \"name\": \"translation\", \"x\": [0.5, 0.53, 0.56, 0.59, 0.62, 0.65, 0.6799999999999999, 0.71, 0.74, 0.77, 0.8, 0.8300000000000001, 0.86, 0.89, 0.92, 0.95, 0.98, 1.01, 1.04, 1.07, 1.1, 1.13, 1.1600000000000001, 1.19, 1.22, 1.25, 1.28, 1.31, 1.34, 1.3699999999999999, 1.4, 1.43, 1.46, 1.49, 1.52, 1.5499999999999998, 1.58, 1.6099999999999999, 1.6400000000000001, 1.67, 1.7000000000000002, 1.73, 1.76, 1.79, 1.82, 1.85, 1.8800000000000001, 1.91, 1.94, 1.97, 2.0, 2.0300000000000002, 2.06, 2.09, 2.12, 2.1500000000000004, 2.18, 2.21, 2.2399999999999998, 2.27, 2.3, 2.33, 2.36, 2.39, 2.42, 2.45, 2.48, 2.5100000000000002, 2.54, 2.57, 2.5999999999999996, 2.63, 2.66, 2.69, 2.7199999999999998, 2.75, 2.7800000000000002, 2.81, 2.84, 2.87, 2.9000000000000004, 2.93, 2.96, 2.9899999999999998, 3.02, 3.05, 3.08, 3.11, 3.14, 3.17, 3.2, 3.23, 3.2600000000000002, 3.29, 3.32, 3.3499999999999996, 3.38, 3.41, 3.44, 3.4699999999999998, 3.5]}], {\"yaxis\": {\"rangemode\": \"negative\", \"autorange\": true}, \"showlegend\": false, \"xaxis\": {\"rangemode\": \"tozero\", \"autorange\": true}, \"annotations\": [{\"text\": \"Orignial\", \"y\": 2, \"showarrow\": true, \"xref\": \"x\", \"yref\": \"y\", \"arrowhead\": 7, \"x\": 3}, {\"text\": \"Translation\", \"y\": 3, \"showarrow\": true, \"xref\": \"x\", \"yref\": \"y\", \"arrowhead\": 7, \"x\": 3.5}]}, {\"showLink\": true, \"linkText\": \"Export to plot.ly\"})});</script>"
      ]
     },
     "metadata": {},
     "output_type": "display_data"
    }
   ],
   "source": [
    "vecs = [[3 * (i/100), 2 * (i/100)] for i in range(101)]\n",
    "vecs = np.array(vecs)\n",
    "vecs_trns = [[3 * (i/100) + 0.5, 2 * (i/100) + 1] for i in range(101)]\n",
    "vecs_trns = np.array(vecs_trns)\n",
    "\n",
    "trace1 = go.Scatter(x=vecs[:, 0],\n",
    "                    y=vecs[:, 1],\n",
    "                    mode = 'markers',\n",
    "                    name = 'original')\n",
    "\n",
    "trace2 = go.Scatter(x=vecs_trns[:, 0],\n",
    "                    y=vecs_trns[:, 1],\n",
    "                    mode = 'markers',\n",
    "                    name = 'translation')\n",
    "\n",
    "layout = go.Layout(\n",
    "        showlegend=False,\n",
    "        xaxis=dict(\n",
    "            rangemode='tozero',\n",
    "            autorange=True\n",
    "        ),\n",
    "        yaxis=dict(\n",
    "            rangemode='negative',\n",
    "            autorange=True\n",
    "        ),\n",
    "        annotations=[\n",
    "            dict(\n",
    "                x=3,\n",
    "                y=2,\n",
    "                xref='x',\n",
    "                yref='y',\n",
    "                text='Orignial',\n",
    "                showarrow=True,\n",
    "                arrowhead=7\n",
    "            ),\n",
    "            dict(\n",
    "                x=3.5,\n",
    "                y=3,\n",
    "                xref='x',\n",
    "                yref='y',\n",
    "                text='Translation',\n",
    "                showarrow=True,\n",
    "                arrowhead=7\n",
    "            ),\n",
    "        ]\n",
    "    )\n",
    "\n",
    "data = [trace1, trace2]\n",
    "fig = go.Figure(data=data, layout=layout)\n",
    "offline.iplot(fig)"
   ]
  },
  {
   "cell_type": "markdown",
   "metadata": {},
   "source": [
    "### 3.6.2 스칼라-벡터 곱셈과 벡터 덧셈의 분배 법칙\n",
    "\n",
    "아래의 성질은 필드에 대한 분배법칙 $x(y+z)=xy+xz$ 에서 비롯된다.\n",
    "\n",
    "- **Proposition** (*벡터 덧셈에 대한 스칼라-벡터 곱의 분배* ):  $\\alpha (u+v)=\\alpha u + \\alpha v$  \n",
    "- **Proposition** (*스칼라 덧셈에 대한 스칼라-벡터 곱의 분배* ): $(\\alpha + \\beta)u=\\alpha u + \\beta u$\n",
    "\n",
    "![](./images/proof2.PNG)"
   ]
  },
  {
   "cell_type": "markdown",
   "metadata": {},
   "source": [
    "### 3.6.3 블록결합(Convex combination) 들여다 보기\n",
    "\n",
    "$[0, 5, 1]$ 와 $[3.5,3]$을 잇는 선분을 이루는 점들의 집합에 대한 표현식은 $\\left\\{ \\alpha [3, 2]+[0.5, 1] : \\alpha \\in \\mathbb{R}, 0\\le \\alpha \\le  \\right\\} $ 이다. 이를 다음과 같이 더 나은 식으로 표현할 수 있다. \n",
    "\n",
    "$$\\begin{eqnarray} \\alpha [3,2]+[0.5,1] & = & \\alpha ([3.5,3]-[0.5,1)+[0.5,1] \\\\  & = & \\alpha [3.5,3]-\\alpha [0.5,1]+[0.5,1] \\\\  & = & \\alpha [3.5,3]+(1-\\alpha )[0.5,1] \\\\  & = & \\alpha [3.5,3]+\\beta [0.5,1] \\end{eqnarray}$$ \n",
    "\n",
    "$$\\therefore \\quad \\left\\{ \\alpha [3.5,3]+\\beta [0.5,1]:\\alpha ,\\beta \\in \\mathbb{ R },\\alpha ,\\beta \\ge 0, \\alpha + \\beta = 1 \\right\\}$$\n",
    "\n",
    "$\\alpha u + \\beta v$형태의 표현식은 $u$와 $v$의 블록결합이라고 한다. 위의 예를 통해 임의의 $\\mathbb{R}$상의 $n$-벡터들의 쌍 $u, v$에 대해 아래와 같이 말할 수 있다.\n",
    "\n",
    "- Proposition : $u$-$v$ 선분은 $u$와 $v$의 블록결합들의 집합으로 구성된다. "
   ]
  },
  {
   "cell_type": "markdown",
   "metadata": {},
   "source": [
    "#### Task 3.6.9\n",
    "\n",
    "파이썬 함수, `segment(pt1, pt2)`를 작성해 보자. `pt1=[3.5,3], pt2=[0.5,1]`일 경우, 리턴 결과인 100개의 점을 그래프로 그려보자"
   ]
  },
  {
   "cell_type": "code",
   "execution_count": 13,
   "metadata": {},
   "outputs": [],
   "source": [
    "def segment(pt1, pt2):\n",
    "    pt1 = [[pt1[0] * i/100, pt1[1] * i/100] for i in range(101)]\n",
    "    pt2 = [[pt2[0] * (1-(i/100)), pt2[1] * (1-(i/100))] for i in range(101)]\n",
    "    pt1 = np.array(pt1)\n",
    "    pt2 = np.array(pt2)\n",
    "    result = pt1 + pt2\n",
    "    x = result[:, 0]\n",
    "    y = result[:, 1]\n",
    "    return x, y"
   ]
  },
  {
   "cell_type": "code",
   "execution_count": 50,
   "metadata": {},
   "outputs": [
    {
     "data": {
      "application/vnd.plotly.v1+json": {
       "data": [
        {
         "mode": "markers",
         "type": "scatter",
         "uid": "ba58c5",
         "x": [
          0.5,
          0.53,
          0.56,
          0.59,
          0.62,
          0.6499999999999999,
          0.6799999999999999,
          0.71,
          0.74,
          0.77,
          0.8,
          0.8300000000000001,
          0.86,
          0.89,
          0.9199999999999999,
          0.95,
          0.98,
          1.01,
          1.04,
          1.07,
          1.1,
          1.13,
          1.1600000000000001,
          1.19,
          1.22,
          1.25,
          1.28,
          1.31,
          1.3399999999999999,
          1.3699999999999999,
          1.4,
          1.43,
          1.46,
          1.49,
          1.52,
          1.55,
          1.58,
          1.6099999999999999,
          1.6400000000000001,
          1.67,
          1.7,
          1.73,
          1.76,
          1.79,
          1.82,
          1.85,
          1.8800000000000001,
          1.9100000000000001,
          1.94,
          1.9700000000000002,
          2,
          2.03,
          2.06,
          2.09,
          2.12,
          2.15,
          2.1799999999999997,
          2.21,
          2.2399999999999998,
          2.27,
          2.3000000000000003,
          2.3299999999999996,
          2.36,
          2.39,
          2.4200000000000004,
          2.4499999999999997,
          2.48,
          2.5100000000000002,
          2.54,
          2.5700000000000003,
          2.6,
          2.63,
          2.66,
          2.6900000000000004,
          2.7199999999999998,
          2.75,
          2.7800000000000002,
          2.8099999999999996,
          2.84,
          2.87,
          2.9,
          2.9299999999999997,
          2.96,
          2.9899999999999998,
          3.02,
          3.0500000000000003,
          3.0799999999999996,
          3.11,
          3.14,
          3.1700000000000004,
          3.1999999999999997,
          3.23,
          3.2600000000000002,
          3.29,
          3.3200000000000003,
          3.35,
          3.38,
          3.41,
          3.4400000000000004,
          3.4699999999999998,
          3.5
         ],
         "y": [
          1,
          1.02,
          1.04,
          1.06,
          1.08,
          1.0999999999999999,
          1.1199999999999999,
          1.14,
          1.1600000000000001,
          1.1800000000000002,
          1.2,
          1.22,
          1.24,
          1.26,
          1.28,
          1.3,
          1.3199999999999998,
          1.3399999999999999,
          1.36,
          1.38,
          1.4,
          1.42,
          1.44,
          1.46,
          1.48,
          1.5,
          1.52,
          1.54,
          1.56,
          1.58,
          1.6,
          1.62,
          1.64,
          1.66,
          1.68,
          1.7000000000000002,
          1.7200000000000002,
          1.7400000000000002,
          1.7599999999999998,
          1.7799999999999998,
          1.7999999999999998,
          1.82,
          1.84,
          1.86,
          1.8800000000000001,
          1.9000000000000001,
          1.92,
          1.94,
          1.96,
          1.98,
          2,
          2.02,
          2.04,
          2.06,
          2.08,
          2.0999999999999996,
          2.12,
          2.14,
          2.16,
          2.18,
          2.2,
          2.22,
          2.24,
          2.26,
          2.28,
          2.3,
          2.32,
          2.34,
          2.36,
          2.38,
          2.4000000000000004,
          2.42,
          2.4400000000000004,
          2.46,
          2.4800000000000004,
          2.5,
          2.5199999999999996,
          2.54,
          2.5599999999999996,
          2.58,
          2.5999999999999996,
          2.62,
          2.64,
          2.66,
          2.68,
          2.6999999999999997,
          2.72,
          2.7399999999999998,
          2.7600000000000002,
          2.78,
          2.8000000000000003,
          2.82,
          2.84,
          2.86,
          2.88,
          2.9000000000000004,
          2.92,
          2.9400000000000004,
          2.96,
          2.9800000000000004,
          3
         ]
        }
       ],
       "layout": {
        "autosize": true,
        "showlegend": false,
        "xaxis": {
         "autorange": false,
         "rangemode": "negative",
         "type": "linear"
        },
        "yaxis": {
         "autorange": false,
         "rangemode": "negative",
         "type": "linear"
        }
       }
      },
      "text/html": [
       "<div id=\"c3efa922-a9b0-40c1-b507-72eae728a56c\" style=\"height: 525px; width: 100%;\" class=\"plotly-graph-div\"></div><script type=\"text/javascript\">require([\"plotly\"], function(Plotly) { window.PLOTLYENV=window.PLOTLYENV || {};window.PLOTLYENV.BASE_URL=\"https://plot.ly\";Plotly.newPlot(\"c3efa922-a9b0-40c1-b507-72eae728a56c\", [{\"type\": \"scatter\", \"y\": [1.0, 1.02, 1.04, 1.06, 1.08, 1.0999999999999999, 1.1199999999999999, 1.14, 1.1600000000000001, 1.1800000000000002, 1.2, 1.22, 1.24, 1.26, 1.28, 1.3, 1.3199999999999998, 1.3399999999999999, 1.36, 1.38, 1.4, 1.42, 1.44, 1.46, 1.48, 1.5, 1.52, 1.54, 1.56, 1.58, 1.6, 1.62, 1.64, 1.66, 1.68, 1.7000000000000002, 1.7200000000000002, 1.7400000000000002, 1.7599999999999998, 1.7799999999999998, 1.7999999999999998, 1.82, 1.84, 1.86, 1.8800000000000001, 1.9000000000000001, 1.92, 1.94, 1.96, 1.98, 2.0, 2.02, 2.04, 2.06, 2.08, 2.0999999999999996, 2.12, 2.14, 2.16, 2.18, 2.2, 2.22, 2.24, 2.26, 2.28, 2.3, 2.32, 2.34, 2.36, 2.38, 2.4000000000000004, 2.42, 2.4400000000000004, 2.46, 2.4800000000000004, 2.5, 2.5199999999999996, 2.54, 2.5599999999999996, 2.58, 2.5999999999999996, 2.62, 2.64, 2.66, 2.68, 2.6999999999999997, 2.72, 2.7399999999999998, 2.7600000000000002, 2.78, 2.8000000000000003, 2.82, 2.84, 2.86, 2.88, 2.9000000000000004, 2.92, 2.9400000000000004, 2.96, 2.9800000000000004, 3.0], \"mode\": \"markers\", \"x\": [0.5, 0.53, 0.56, 0.59, 0.62, 0.6499999999999999, 0.6799999999999999, 0.71, 0.74, 0.77, 0.8, 0.8300000000000001, 0.86, 0.89, 0.9199999999999999, 0.95, 0.98, 1.01, 1.04, 1.07, 1.1, 1.13, 1.1600000000000001, 1.19, 1.22, 1.25, 1.28, 1.31, 1.3399999999999999, 1.3699999999999999, 1.4, 1.43, 1.46, 1.49, 1.52, 1.55, 1.58, 1.6099999999999999, 1.6400000000000001, 1.67, 1.7, 1.73, 1.76, 1.79, 1.82, 1.85, 1.8800000000000001, 1.9100000000000001, 1.94, 1.9700000000000002, 2.0, 2.03, 2.06, 2.09, 2.12, 2.15, 2.1799999999999997, 2.21, 2.2399999999999998, 2.27, 2.3000000000000003, 2.3299999999999996, 2.36, 2.39, 2.4200000000000004, 2.4499999999999997, 2.48, 2.5100000000000002, 2.54, 2.5700000000000003, 2.6, 2.63, 2.66, 2.6900000000000004, 2.7199999999999998, 2.75, 2.7800000000000002, 2.8099999999999996, 2.84, 2.87, 2.9, 2.9299999999999997, 2.96, 2.9899999999999998, 3.02, 3.0500000000000003, 3.0799999999999996, 3.11, 3.14, 3.1700000000000004, 3.1999999999999997, 3.23, 3.2600000000000002, 3.29, 3.3200000000000003, 3.35, 3.38, 3.41, 3.4400000000000004, 3.4699999999999998, 3.5]}], {\"yaxis\": {\"rangemode\": \"negative\", \"autorange\": false}, \"showlegend\": false, \"xaxis\": {\"rangemode\": \"negative\", \"autorange\": false}}, {\"showLink\": true, \"linkText\": \"Export to plot.ly\"})});</script>"
      ],
      "text/vnd.plotly.v1+html": [
       "<div id=\"c3efa922-a9b0-40c1-b507-72eae728a56c\" style=\"height: 525px; width: 100%;\" class=\"plotly-graph-div\"></div><script type=\"text/javascript\">require([\"plotly\"], function(Plotly) { window.PLOTLYENV=window.PLOTLYENV || {};window.PLOTLYENV.BASE_URL=\"https://plot.ly\";Plotly.newPlot(\"c3efa922-a9b0-40c1-b507-72eae728a56c\", [{\"type\": \"scatter\", \"y\": [1.0, 1.02, 1.04, 1.06, 1.08, 1.0999999999999999, 1.1199999999999999, 1.14, 1.1600000000000001, 1.1800000000000002, 1.2, 1.22, 1.24, 1.26, 1.28, 1.3, 1.3199999999999998, 1.3399999999999999, 1.36, 1.38, 1.4, 1.42, 1.44, 1.46, 1.48, 1.5, 1.52, 1.54, 1.56, 1.58, 1.6, 1.62, 1.64, 1.66, 1.68, 1.7000000000000002, 1.7200000000000002, 1.7400000000000002, 1.7599999999999998, 1.7799999999999998, 1.7999999999999998, 1.82, 1.84, 1.86, 1.8800000000000001, 1.9000000000000001, 1.92, 1.94, 1.96, 1.98, 2.0, 2.02, 2.04, 2.06, 2.08, 2.0999999999999996, 2.12, 2.14, 2.16, 2.18, 2.2, 2.22, 2.24, 2.26, 2.28, 2.3, 2.32, 2.34, 2.36, 2.38, 2.4000000000000004, 2.42, 2.4400000000000004, 2.46, 2.4800000000000004, 2.5, 2.5199999999999996, 2.54, 2.5599999999999996, 2.58, 2.5999999999999996, 2.62, 2.64, 2.66, 2.68, 2.6999999999999997, 2.72, 2.7399999999999998, 2.7600000000000002, 2.78, 2.8000000000000003, 2.82, 2.84, 2.86, 2.88, 2.9000000000000004, 2.92, 2.9400000000000004, 2.96, 2.9800000000000004, 3.0], \"mode\": \"markers\", \"x\": [0.5, 0.53, 0.56, 0.59, 0.62, 0.6499999999999999, 0.6799999999999999, 0.71, 0.74, 0.77, 0.8, 0.8300000000000001, 0.86, 0.89, 0.9199999999999999, 0.95, 0.98, 1.01, 1.04, 1.07, 1.1, 1.13, 1.1600000000000001, 1.19, 1.22, 1.25, 1.28, 1.31, 1.3399999999999999, 1.3699999999999999, 1.4, 1.43, 1.46, 1.49, 1.52, 1.55, 1.58, 1.6099999999999999, 1.6400000000000001, 1.67, 1.7, 1.73, 1.76, 1.79, 1.82, 1.85, 1.8800000000000001, 1.9100000000000001, 1.94, 1.9700000000000002, 2.0, 2.03, 2.06, 2.09, 2.12, 2.15, 2.1799999999999997, 2.21, 2.2399999999999998, 2.27, 2.3000000000000003, 2.3299999999999996, 2.36, 2.39, 2.4200000000000004, 2.4499999999999997, 2.48, 2.5100000000000002, 2.54, 2.5700000000000003, 2.6, 2.63, 2.66, 2.6900000000000004, 2.7199999999999998, 2.75, 2.7800000000000002, 2.8099999999999996, 2.84, 2.87, 2.9, 2.9299999999999997, 2.96, 2.9899999999999998, 3.02, 3.0500000000000003, 3.0799999999999996, 3.11, 3.14, 3.1700000000000004, 3.1999999999999997, 3.23, 3.2600000000000002, 3.29, 3.3200000000000003, 3.35, 3.38, 3.41, 3.4400000000000004, 3.4699999999999998, 3.5]}], {\"yaxis\": {\"rangemode\": \"negative\", \"autorange\": false}, \"showlegend\": false, \"xaxis\": {\"rangemode\": \"negative\", \"autorange\": false}}, {\"showLink\": true, \"linkText\": \"Export to plot.ly\"})});</script>"
      ]
     },
     "metadata": {},
     "output_type": "display_data"
    }
   ],
   "source": [
    "pt1 = [3.5, 3]\n",
    "pt2 = [0.5, 1]\n",
    "\n",
    "x, y = segment(pt1, pt2)\n",
    "plot(x, y, x_autorange=False, y_autorange=False)"
   ]
  },
  {
   "cell_type": "markdown",
   "metadata": {},
   "source": [
    "#### Example 3.6.10 \n",
    "\n",
    "이미지를 나타내는 벡터들의 쌍에 대한 블록결합을 고려해 보자. 이미지 예로는 설현의 이미지를 이용하였다."
   ]
  },
  {
   "cell_type": "code",
   "execution_count": 15,
   "metadata": {},
   "outputs": [],
   "source": [
    "from PIL import Image\n",
    "\n",
    "# 이미지 파일 불러오기\n",
    "u = Image.open('./images/img01.jpg')\n",
    "u = u.convert('L')\n",
    "v = Image.open('./images/img02.PNG')\n",
    "v = v.convert('L')\n",
    "v = v.resize(u.size)  # 이미지 사이즈를 u의 사이즈와 같게 맞추기\n",
    "\n",
    "# 이미지 파일을 np.asarray를 이용해 배열로 만들기\n",
    "u = np.asarray(u, dtype='float32')\n",
    "v = np.asarray(v, dtype='float32')"
   ]
  },
  {
   "cell_type": "code",
   "execution_count": 16,
   "metadata": {},
   "outputs": [
    {
     "data": {
      "image/png": "[encoded data removed]",
      "text/plain": [
       "<matplotlib.figure.Figure at 0x113cd04e0>"
      ]
     },
     "metadata": {},
     "output_type": "display_data"
    }
   ],
   "source": [
    "fig, axs = plt.subplots(1, 2, figsize=(25, 5))\n",
    "fig.subplots_adjust(hspace = .5, wspace=.001)\n",
    "\n",
    "img_org = [u, v]\n",
    "\n",
    "for i, img in enumerate(img_org):\n",
    "    axs[i].imshow(img ,cmap='Greys_r')"
   ]
  },
  {
   "cell_type": "code",
   "execution_count": 17,
   "metadata": {},
   "outputs": [
    {
     "data": {
      "text/plain": [
       "<matplotlib.image.AxesImage at 0x11452c470>"
      ]
     },
     "execution_count": 17,
     "metadata": {},
     "output_type": "execute_result"
    },
    {
     "data": {
      "image/png": "[encoded data removed]",
      "text/plain": [
       "<matplotlib.figure.Figure at 0x113cd0550>"
      ]
     },
     "metadata": {},
     "output_type": "display_data"
    }
   ],
   "source": [
    "# 스칼라 (1/2)을 곱하여 블록결합 하기\n",
    "comb = (1/2) * (u + v)\n",
    "plt.imshow(comb, cmap='Greys_r')"
   ]
  },
  {
   "cell_type": "code",
   "execution_count": 18,
   "metadata": {},
   "outputs": [],
   "source": [
    "img_list = [v*(i/8) + u*(1-(i/8)) for i in range(9)]"
   ]
  },
  {
   "cell_type": "code",
   "execution_count": 19,
   "metadata": {},
   "outputs": [
    {
     "data": {
      "image/png": "[encoded data removed]",
      "text/plain": [
       "<matplotlib.figure.Figure at 0x114423d68>"
      ]
     },
     "metadata": {},
     "output_type": "display_data"
    }
   ],
   "source": [
    "fig, axs = plt.subplots(1, 9, figsize=(20, 3))\n",
    "\n",
    "for i, img in enumerate(img_list):\n",
    "    axs[i].imshow(img ,cmap='Greys_r')"
   ]
  },
  {
   "cell_type": "markdown",
   "metadata": {},
   "source": [
    "### 3.6.4 아핀결합(Affine combination) 들여다 보기\n",
    "\n",
    "위의 <u>3.6.3 절</u>에서는 선분을 이루는 벡터들의 집합을 블록결합으로 표현하였다. 이번에는 $[0.5,1]$과 $[3.5,3]$을 지나는 (무한)직선에 대해 알아보도록 하자. 이러한 직선은 아래와 같이 집합으로 표현할 수 있다.\n",
    "\n",
    " $$\\left\\{ \\alpha [3.5,3]+\\beta [0.5,1]:\\alpha ,\\beta \\in \\mathbb{ R },\\alpha ,\\beta \\ge 0, \\alpha + \\beta = 1 \\right\\}$$\n",
    "\n",
    "$\\alpha u + \\beta v$ 형태의 표현식을 $u$와 $v$의 **아핀결합(Affine combination)** 이라고 부른다. \n",
    "\n",
    "- **Hypothesis** : $u$와 $v$를 지나는 직선은 $u$와 $v$의 아핀결합들의 집합으로 구성된다."
   ]
  },
  {
   "cell_type": "markdown",
   "metadata": {},
   "source": [
    "## 3.7 딕셔너리에 기반을 둔 벡터 표현\n",
    "\n",
    "이 교재에서는 파이썬의 딕셔너리를 이용하여 벡터를 표현한다. [vec.py](http://resources.codingthematrix.com/vec.py)의 파이썬 파일에 클래스`Vec`이 정의 되어 있다.  `Vec` 클래스의 인스턴스 변수는 아래와 같다.\n",
    "\n",
    "- `f`: 파이썬의 딕셔너리에 의해 표현되는 함수\n",
    "- `D`: 파이썬의 집합에 의해 표현되는 함수의 정의역\n",
    "\n",
    "아래의 방법을 이용해 `Vec`의 필드(변수)에 접근할 수 있다."
   ]
  },
  {
   "cell_type": "code",
   "execution_count": 20,
   "metadata": {},
   "outputs": [
    {
     "name": "stdout",
     "output_type": "stream",
     "text": [
      "1\n"
     ]
    }
   ],
   "source": [
    "from vec import Vec\n",
    "\n",
    "v = Vec({'A', 'B', 'C'}, {'A': 1})\n",
    "\n",
    "for d in v.D:\n",
    "    if d in v.f:\n",
    "        print(v.f[d])"
   ]
  },
  {
   "cell_type": "markdown",
   "metadata": {},
   "source": [
    "### 3.7.1 세터(setter)와 게터(getter)\n",
    "\n",
    "`setitem`, `getitem` 함수를 이용해 벡터의 값을 할당하거나, 벡터의 값을 얻어올 수 있다. <br />\n",
    "\n",
    "먼저, `setitem(v, k val)`은 벡터(`k`)에 값(`val`)을 할당하는 함수이다. \n",
    "```python\n",
    "def setitem(v,k,val):\n",
    "    v.f[k] = val\n",
    "```\n",
    "`getitem(v, k)`은 벡터(`k`)의 값을 리턴해주는 함수이다.\n",
    "\n",
    "```python\n",
    "def getitem(v,k):\n",
    "    result = v.f[k] if k in v.f else 0\n",
    "    return result\n",
    "```"
   ]
  },
  {
   "cell_type": "code",
   "execution_count": 21,
   "metadata": {},
   "outputs": [
    {
     "data": {
      "text/plain": [
       "2.0"
      ]
     },
     "execution_count": 21,
     "metadata": {},
     "output_type": "execute_result"
    }
   ],
   "source": [
    "from vec import setitem, getitem\n",
    "\n",
    "setitem(v, 'B', 2.)\n",
    "getitem(v, 'B')"
   ]
  },
  {
   "cell_type": "markdown",
   "metadata": {},
   "source": [
    "### 3.7.2 스칼라-벡터 곱셈"
   ]
  },
  {
   "cell_type": "markdown",
   "metadata": {},
   "source": [
    "#### Quiz 3.7.3\n",
    "\n",
    " `scalar_mul(v, alpha)`을 작성해 보자.\n",
    "\n",
    "- `input`: `Vec`의 인스턴스와 스칼라 `alpha`\n",
    "- `output`: 스칼라-벡터 곱 `alpha x v`를 나타내는 `Vec`의 새로운 인스턴스\n",
    "\n",
    "```python\n",
    "def scalar_mul(v, alpha):\n",
    "    result = {d: alpha * getitem(v, d) for d in v.D}\n",
    "    return Vec(v.D, result)\n",
    "```"
   ]
  },
  {
   "cell_type": "code",
   "execution_count": 22,
   "metadata": {},
   "outputs": [
    {
     "data": {
      "text/plain": [
       "{'A': 2, 'B': 4.0, 'C': 0}"
      ]
     },
     "execution_count": 22,
     "metadata": {},
     "output_type": "execute_result"
    }
   ],
   "source": [
    "from vec import scalar_mul\n",
    "\n",
    "scalar_mul(v, 2).f"
   ]
  },
  {
   "cell_type": "markdown",
   "metadata": {},
   "source": [
    "### 3.7.3 덧셈"
   ]
  },
  {
   "cell_type": "markdown",
   "metadata": {},
   "source": [
    "#### Quiz 3.7.4\n",
    "\n",
    "`add(u, v)`를 작성해보자.\n",
    "\n",
    "- `input`: `Vec`의 인스턴스 `u`와 `v`\n",
    "- `output`: `u`와 `v`의 벡터 합인 `Vec`의 인스턴스 \n",
    "\n",
    "```python\n",
    "def add(u, v):\n",
    "    result = {d: getitem(u, d) + getitem(v, d) for d in u.D}\n",
    "    return Vec(u.D, result)\n",
    "```"
   ]
  },
  {
   "cell_type": "code",
   "execution_count": 23,
   "metadata": {},
   "outputs": [
    {
     "data": {
      "text/plain": [
       "{'A': 6.0, 'B': 2.0, 'C': 10.0}"
      ]
     },
     "execution_count": 23,
     "metadata": {},
     "output_type": "execute_result"
    }
   ],
   "source": [
    "from vec import add\n",
    "\n",
    "u = Vec(v.D, {'A': 5., 'C': 10.})\n",
    "add(u,v)\n",
    "add(u,v).f"
   ]
  },
  {
   "cell_type": "markdown",
   "metadata": {},
   "source": [
    "### 3.7.4 음의 벡터, 벡터 덧셈의 가역성, 벡터 뺄셈\n",
    "\n",
    "벡터 $v$에 대한 음의 벡터는 $-v$이며 $v$의 각 원소값의 부호를 바꾸면 된다. 벡터를 화살표로 나타내면, $-v$는 동일한 길이를 가지며 방향이 정반대를 가리키는 화살표이다. 즉, 음의 벡터 $-v$는 역 평행이동이라 할 수 있다. <br />\n",
    "\n",
    "벡터의 뺄샘은 음의 벡터의 덧셈으로 정의할 수 있다. $u-v$는 $u+(-v)$로 표현할 수 있다.  <br />\n",
    "\n",
    "벡터 뺄셈은 벡터 덧셈의 역이다.  \n",
    "\n",
    "$$f(v)=v+w \\quad g(v)=v-w$$\n",
    "\n",
    "$$ \\begin{eqnarray} (g\\circ f)(v) & = & g(f(v)) \\\\  & = & g(v+w) \\\\  & = & v+w-w \\\\  & = & v \\end{eqnarray}$$"
   ]
  },
  {
   "cell_type": "markdown",
   "metadata": {},
   "source": [
    "#### Quiz 3.7.5 \n",
    "\n",
    "`neg(v)`를 작성해 보자.\n",
    "\n",
    "-  `input`: `Vec`의 인스턴스`v`\n",
    "- `output`: 음의 `v`를 나타내는 딕셔너리"
   ]
  },
  {
   "cell_type": "code",
   "execution_count": 24,
   "metadata": {},
   "outputs": [
    {
     "data": {
      "text/plain": [
       "{'A': -1, 'B': -2.0, 'C': 0}"
      ]
     },
     "execution_count": 24,
     "metadata": {},
     "output_type": "execute_result"
    }
   ],
   "source": [
    "from vec import neg\n",
    "\n",
    "neg(v).f"
   ]
  },
  {
   "cell_type": "markdown",
   "metadata": {},
   "source": [
    "## 3.8 $GF(2)$ 상의 벡터\n",
    "\n",
    "생략"
   ]
  },
  {
   "cell_type": "markdown",
   "metadata": {},
   "source": [
    "## 3.9 도트곱(Dot product)\n",
    "\n",
    "두 개의 $D$-벡터들 $u$와 $v$에 대해, 도트곱은 대응하는 원소(엔트리)들의 곱의 합이다.\n",
    "\n",
    "$$u\\cdot v=\\sum _{ k\\in D }^{  }{ u[k]v[k] } $$\n",
    "\n",
    "예를 들어, 벡터 $u=[u_1,…,u_n]$, $v=[v_1,…,v_n]$에 대해,\n",
    "\n",
    "$$u \\cdot v = u_1v_1+u_2v_2+\\cdots +u_nv_n$$\n",
    "\n",
    "위의 도트곱의 연산 결과는 벡터가 아니라 **스칼라** 이다. 이러한 이유 때문에 도트곱은 벡터들의 *스칼라 곱(scalar product)* 이라고도 한다. <br />\n",
    "\n",
    "$u$의 오직 한 원소, 예를 들어, $i$번째 원소가 $1$이고, 나머지 다른 원소들은 $0$이면, $u \\cdot v$는 $v$의 $i$번째 원소이다.\n",
    "\n",
    "$$[0,0,\\cdots ,0,1,0,\\cdots ,0,0]\\cdot [v_1,v_2,\\cdots ,v{i-1},v_i,v_{i+1},\\cdots ,v_n] \\\\ =0\\cdot v_1 + 0 \\cdot v_2 + \\cdots + 0 \\cdot v_{i-1} + 1\\cdot v_i + 0\\cdot v_{i+1} + \\cdots + 0\\cdot v_n \\\\ =1 \\cdot v_i \\\\ = v_i$$"
   ]
  },
  {
   "cell_type": "markdown",
   "metadata": {},
   "source": [
    "#### Quiz 3.9.3 \n",
    "\n",
    "위의 예제 벡터인 $v$의 원소들의 평균을 도트곱으로 표현 해보자. 먼저, `dot(u, v)`함수는 아래와 같다\n",
    "\n",
    "```python\n",
    "def dot(u, v):\n",
    "    result_vec = {d: getitem(u, d) * getitem(v, d) for d in u.D}\n",
    "    result_dot = sum(list(result_vec.values()))\n",
    "    return result_dot\n",
    "```"
   ]
  },
  {
   "cell_type": "code",
   "execution_count": 25,
   "metadata": {},
   "outputs": [
    {
     "data": {
      "text/plain": [
       "1.0"
      ]
     },
     "execution_count": 25,
     "metadata": {},
     "output_type": "execute_result"
    }
   ],
   "source": [
    "from vec import dot\n",
    "\n",
    "u = Vec({'A', 'B', 'C'}, {'A': 1/3, 'B': 1/3, 'C': 1/3})\n",
    "dot(u, v)"
   ]
  },
  {
   "cell_type": "markdown",
   "metadata": {},
   "source": [
    "### 3.9.2 선형방정식\n",
    "\n",
    "- **Definition** : 선형방정식(일차 방정식)으 $\\alpha \\cdot x = \\beta$의 형태를 가지는 식으로, $\\alpha$는 벡터, $\\beta$는 스칼라이며, $x$는 벡터 변수이다. "
   ]
  },
  {
   "cell_type": "markdown",
   "metadata": {},
   "source": [
    "#### Example 3.9.7\n",
    "\n",
    "*센서 노드의 에너지 사용률 :*  정의역$D$를 아래와 같이 정의 해보자.\n",
    "\n",
    "$$D = \\left\\{ meory,\\quad radio,\\quad sensor,\\quad cpu \\right\\} $$\n",
    "\n",
    "각 하드웨어 구성요소를 전력 소모에 매핑하는 함수는 벡터이며, 이것을 $rate$라 하고 아래와 같이 나타낼 수 있다."
   ]
  },
  {
   "cell_type": "code",
   "execution_count": 26,
   "metadata": {},
   "outputs": [],
   "source": [
    "from vec import Vec\n",
    "\n",
    "D = {'memory', 'radio', 'sensor', 'cpu'}  # 정의역(Domain)\n",
    "# 함수(function, vector)\n",
    "f_rate = {'memory': 0.06, 'radio': 0.1, 'sensor': 0.004, 'cpu': 0.0025}  \n",
    "f_duration = {'memory': 1.0, 'radio': 0.2, 'sensor': 0.5, 'cpu': 1.0} \n",
    "\n",
    "rate = Vec(D, f_rate)  # rate 정의\n",
    "duration = Vec(D, f_duration)"
   ]
  },
  {
   "cell_type": "code",
   "execution_count": 27,
   "metadata": {},
   "outputs": [
    {
     "name": "stdout",
     "output_type": "stream",
     "text": [
      "Joule = 0.0845\n"
     ]
    }
   ],
   "source": [
    "joule = dot(rate, duration)\n",
    "print('Joule = {:.4f}'.format(joule))"
   ]
  },
  {
   "cell_type": "markdown",
   "metadata": {},
   "source": [
    "- **Definition** : 선형방정식들의 시스템(선형시스템)은 방정식들의 컬렉션이다. \n",
    "\n",
    "$$a_1 \\cdot x = \\beta_1 \\\\ a_2 \\cdot x = \\beta_2 \\\\ \\vdots \\\\ a_m \\cdot x = \\beta_m$$"
   ]
  },
  {
   "cell_type": "markdown",
   "metadata": {},
   "source": [
    "*3.9.3 ~ 3.9.7 : 생략*"
   ]
  },
  {
   "cell_type": "markdown",
   "metadata": {},
   "source": [
    "### 3.9.8 도트곱의 대수적 성질"
   ]
  },
  {
   "cell_type": "markdown",
   "metadata": {},
   "source": [
    "#### 교환성(Commutativity)\n",
    "\n",
    "두 벡터의 도트곱을 계산할 때 벡터의 순서는 상관 없다.\n",
    "\n",
    "- **Proposition** : $u \\cdot v = v \\cdot u$\n",
    "\n",
    "$$\\begin{eqnarray} [u_{ 1 },u_{ 2 },...,u_{ n }]\\cdot [v_{ 1 },v_{ 2 },...,v_{ n }] & = & u_{ 1 }v_{ 1 }+u_{ 2 }v_{ 2 }+\\cdots +u_{ n }v_{ n } \\\\  & = & v_{ 1 }u_{ 1 }+v_{ 2 }u_{ 2 }+\\cdots +v_{ n }u_{ n } \\\\  & = & [v_{ 1 },v_{ 2 },...,v_{ n }] \\cdot [u_{ 1 },u_{ 2 },...,u_{ n }] \\end{eqnarray}$$"
   ]
  },
  {
   "cell_type": "markdown",
   "metadata": {},
   "source": [
    "#### 동질성(Homogeneity)\n",
    "\n",
    "도트곱의 벡터 중 하나에 스칼라를 곱하는 것은 도트곱의 결과값에 곱하는 것과 같다.\n",
    "\n",
    "- **Proposition** : $(\\alpha u)\\cdot v = \\alpha (u\\cdot v)$"
   ]
  },
  {
   "cell_type": "markdown",
   "metadata": {},
   "source": [
    "#### 분배성(Distributivity)\n",
    "\n",
    "벡터 덧셈에 대한 도트곱의 분배법칙\n",
    "\n",
    "- **Proposition** : $(u+v)\\cdot w = u\\cdot w + v\\cdot w$\n",
    "\n",
    "![](./images/proof3.PNG)\n",
    "\n",
    "*3.10 생략*"
   ]
  },
  {
   "cell_type": "markdown",
   "metadata": {},
   "source": [
    "## 3.11 선형방정식들의 삼각시스템에 대한 해 구하기"
   ]
  },
  {
   "cell_type": "markdown",
   "metadata": {},
   "source": [
    "### 3.11.1 상삼각시스템(Upper-triangular system)\n",
    "\n",
    "선형방정식들의 *상삼각시스템* 다음 형태를 가진다. \n",
    "\n",
    "![](./images/upper.PNG)\n",
    "\n",
    "- 첫 번쨰 벡터는 $0$을 가지지 않아도 된다.\n",
    "- 두 번째 벡터는 첫 번째 위치의 값이 $0$이다.\n",
    "- 세 번째 벡터는 첫 번쨰와 두 번째 위치의 값이 $0$이다.\n",
    "- 네 번째 벡터는 첫 번째, 두 번째, 그리고 세 번째 위치의 값이 $0$ 이다.\n",
    "\n",
    "$\\vdots$\n",
    "\n",
    "- $n-1$ 번째 벡터는 $n-1$번째와 $n$ 번째 원소를 제외한 모든 원소가 $0$이다.\n",
    "- $n$ 번째 벡터는 $n$ 번째 원소 이외에는 모두 $0$이다.\n",
    "\n",
    "*상삼각시스템(Upper-triangular system)* 이란 용어는 아래의 그림을 보면 쉽게 이해할 수 있다. 아래의 그림 처럼 $0$이 아닌 원소들은 삼각형을 형성한다.\n",
    "\n",
    "![](./images/upper2.PNG)\n",
    "\n",
    "아래의 예제는 $4$-벡터의 Upper-triangular system의 예이다.\n",
    "\n",
    "![](./images/upper3.PNG)\n",
    "\n",
    "$x=[x_1, x_2, x_3, x_4]$라 하고 도트곱의 정의를 사용하면 아래와 같이 연립 방정식으로 나타낼 수 있다.\n",
    "\n",
    "![](./images/upper4.PNG)"
   ]
  },
  {
   "cell_type": "markdown",
   "metadata": {},
   "source": [
    "### 3.11.2 후진대입법(Backward substitution)\n",
    "\n",
    "위의 4-벡터 예제를 다음과 같이 후진대입법으로 벡터 $x$를 구할 수 있다.\n",
    "\n",
    "![](./images/back.PNG)"
   ]
  }
 ],
 "metadata": {
  "kernelspec": {
   "display_name": "Python 3",
   "language": "python",
   "name": "python3"
  },
  "language_info": {
   "codemirror_mode": {
    "name": "ipython",
    "version": 3
   },
   "file_extension": ".py",
   "mimetype": "text/x-python",
   "name": "python",
   "nbconvert_exporter": "python",
   "pygments_lexer": "ipython3",
   "version": "3.5.4"
  }
 },
 "nbformat": 4,
 "nbformat_minor": 2
}
