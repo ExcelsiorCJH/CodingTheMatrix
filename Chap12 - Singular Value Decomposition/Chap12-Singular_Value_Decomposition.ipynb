{
 "cells": [
  {
   "cell_type": "markdown",
   "metadata": {},
   "source": [
    "# Chap12"
   ]
  },
  {
   "cell_type": "markdown",
   "metadata": {},
   "source": [
    "# 특이값 분해(Singular Value Decomposition)"
   ]
  },
  {
   "cell_type": "markdown",
   "metadata": {},
   "source": [
    "## 12.1 로우-랭크(Low-rank) 행렬에 의한 행렬의 근사"
   ]
  },
  {
   "cell_type": "markdown",
   "metadata": {},
   "source": [
    "### 12.1.1 로우-랭크 행렬의 이점\n",
    "\n",
    "Low-rank Assumption은 *'어떤 행렬 $M$ 을 $M$ 보다 더 작은 $rank$ 를 가지는 행렬의 곱으로 표현이 가능하다'* 라는 것을 의미한다.  예를 들어, $rank$ 가 1인 행렬을 생각해 보자. 모든 행들은 1차원 공간에 놓여 있으며, $\\{v\\}$ 는 이 공간에  대한 기저라고 하자. 행렬의 모든 행은 $v$ 의 스칼라배이다. $u$ 를 이러한 스칼라배들의 벡터라고 하면, 이러한 행렬을  $uv^{T}$ 로 나타낼 수 있다. 이러한 표현으로 작은 저장공간으로 행렬을 나타낼 수 있으므로 로우-랭크 행렬의 이점이라 할 수 있다. 즉, 아래의 식과 같이 랭크 $1$ 인 $m \\times n$ 행렬에 대해 단지 $m+n$ 개의 숫자들로 구성할 수 있다."
   ]
  },
  {
   "cell_type": "markdown",
   "metadata": {},
   "source": [
    "$$\n",
    "\\begin{bmatrix} 1 \\\\ 2 \\\\ 3 \\end{bmatrix}{ \\begin{bmatrix} 1 \\\\ 2 \\\\ 3 \\end{bmatrix} }^{ T }=\\begin{bmatrix} 1 \\\\ 2 \\\\ 3 \\end{bmatrix}\\begin{bmatrix} 1 & 2 & 3 \\end{bmatrix}=\\begin{bmatrix} 1 & 2 & 3 \\\\ 2 & 4 & 6 \\\\ 3 & 6 & 9 \\end{bmatrix}\n",
    "$$\n",
    "\n",
    "마찬가지로, 랭크가 $2$인 행렬은 다음과 같이 표현할 수 있다.\n",
    "\n",
    "$$\n",
    "\\begin{bmatrix} | & | \\\\ u_{ 1 } & u_{ 2 } \\\\ | & | \\end{bmatrix}\\begin{bmatrix} - & v_{ 1 }^{ T } & - \\\\ - & v_{ 2 }^{ T } & - \\end{bmatrix}\n",
    "$$\n",
    "\n",
    "그러나, 실제 데이터에서는 행렬 대부분은 로우-랭크가 아니다. 하지만, 종종 로우-랭크의 근사행렬이 거의 원래 행렬 만큼이나 잘 동작한다고 한다. \n",
    "\n",
    "이번 장에서는 주어진 행렬에 대한 최적의 랭크-$k$ 행렬을 찾는 방법에 대해 알아 보도록 한다. 이때의 랭크-$k$ 행렬은 주어진 행렬에 가장 가까운 행렬이다. "
   ]
  },
  {
   "cell_type": "markdown",
   "metadata": {},
   "source": [
    "### 12.1.2 행렬의 $Norm$\n",
    "\n",
    "주어진 행렬에 가장 가까운 랭크-$k$ 행렬을 찾는 문제를 정의하기 위해 행렬들에 대한 거리를 정의하는 것이 필요하다. 벡터들의 경우, 거리는 $norm$ 으로 주어지고, $norm$ 은 내적으로 정의된다. $\\mathbb{R}$ 상의 벡터들에 대한 내적은 도트곱이고, 벡터의 $norm$ 은 그 원소들의 제곱의 합의 제곱근이다. \n",
    "\n",
    "행렬의 $norm$은 행렬 $A$ 를 벡터로 해석함으로써 계산할 수 있다. $m \\times n$ 행렬은 $mn$-벡터로 표현할 수 있다. \n",
    "\n",
    "아래와 같이 행렬 $A$ 의 $norm$을 계산하는 것을 *프로베니우스(Frobenius)* $norm$ 이라고 한다.\n",
    "\n",
    "\n",
    "$$\n",
    "\\left\\| A \\right\\| _{ F }=\\sqrt { \\sum _{ i }^{  }{ \\sum _{ j }^{  }{ A\\left[ i,j \\right] ^{ 2 } }  }  }\n",
    "$$\n",
    "\n",
    "***Lemma*** : $A$의 프로베니우스 $norm$ 의 제곱은 $A$ 의 행들의 제곱의 합과 동일하다.\n",
    "\n",
    "- **Proof** : $A$ 는 $m \\times n$ 행렬이라 하고, $A$ 를 행벡터로 나타내자.  \n",
    "\n",
    "$$\n",
    "A=\\begin{bmatrix} - & a_{ 1 } & - \\\\  & \\vdots  &  \\\\ - & a_{ m } & - \\end{bmatrix}\n",
    "$$\n",
    "\n",
    "- 각각의 행-$i$ 에 대해, 다음과 같이 나타낼 수 있다.\n",
    "\n",
    "$$\n",
    "\\left\\| a_i  \\right\\| ^{ 2 } = a_i[1]^2 + a_i[2]^2 + \\cdots + a_i[n]^2\n",
    "$$\n",
    "\n",
    "- 이 식을 프로베니우스 $norm$ 의 식에 대입하면 다음과 같다.\n",
    "\n",
    "$$\n",
    "\\begin{eqnarray} \\left\\| A \\right\\| _{ F } & = & (A[1,1]^{ 2 }+A[1,2]^{ 2 }+\\cdots +A[1,n]^{ 2 })+\\cdots +(A[m,1]^{ 2 }+A[m,2]^{ 2 }+\\cdots +A[m,n]^{ 2 }) \\\\  & = & \\left\\| a_{ 1 } \\right\\| ^{ 2 }+\\cdots +\\left\\| a_{ m } \\right\\| ^{ 2 } \\end{eqnarray}\n",
    "$$\n",
    "\n",
    "\n",
    "파이썬의 [`numpy.linalg.norm()`](https://docs.scipy.org/doc/numpy-1.14.0/reference/generated/numpy.linalg.norm.html) 에서는 다양한 $norm$ 계산을 제공하는데 물론 프로베니우스 $norm$ 도 제공한다. 아래의 코드는 `numpy` 모듈을 이용한 프로베니우스 $norm$ 을 구하는 코드이다. "
   ]
  },
  {
   "cell_type": "code",
   "execution_count": 1,
   "metadata": {},
   "outputs": [],
   "source": [
    "import numpy as np"
   ]
  },
  {
   "cell_type": "code",
   "execution_count": 2,
   "metadata": {},
   "outputs": [
    {
     "data": {
      "text/plain": [
       "1.4142135623730951"
      ]
     },
     "execution_count": 2,
     "metadata": {},
     "output_type": "execute_result"
    }
   ],
   "source": [
    "A = np.matrix([[1, 0],\n",
    "               [0, 1]])\n",
    "\n",
    "fro_norm = np.linalg.norm(A, 'fro')\n",
    "fro_norm"
   ]
  },
  {
   "cell_type": "markdown",
   "metadata": {},
   "source": [
    "## 12.2 *트롤리 노선 위치 (Trolley-line-location)* 문제\n",
    "\n",
    "[9.1 소방차 문제](https://render.githubusercontent.com/view/ipynb?commit=af2d6b76f2034fb89db4a7e8ecc341384cfc48c7&enc_url=68747470733a2f2f7261772e67697468756275736572636f6e74656e742e636f6d2f457863656c73696f72434a482f436f64696e675468654d61747269782f616632643662373666323033346662383964623461376538656363333431333834636663343863372f4368617030392532302d253230546865253230496e6e657225323050726f647563742f4368617030392d5468655f496e6e65725f50726f647563742e6970796e62&nwo=ExcelsiorCJH%2FCodingTheMatrix&path=Chap09+-+The+Inner+Product%2FChap09-The_Inner_Product.ipynb&repository_id=125392345&repository_type=Repository#9.1-%EC%86%8C%EB%B0%A9%EC%B0%A8-%EB%AC%B8%EC%A0%9C) 와 비슷하게 아래의 그림과 같이 벡터 $a_1, ..., a_m​$ 으로 표현된 $m​$개의 주택의 위치에 대해, 트롤리 노선을 어디에다 위치할 것인지를 찾는 문제를 생각해보자.  \n",
    "\n",
    "![](./images/trolley.png)\n",
    "\n",
    "\n",
    "\n",
    "이 문제의 목적은 트롤리 노선을 $m$ 개의 주택에 가능한 가깝게 배치하는 것이다. \n",
    "\n",
    "각 벡터 $a_i$ 는 트롤리 노선으로 부터 자신까지의 거리 $d_i$ 를 가진다. 즉, 벡터 $[d_1, ..., d_m]$ 의 $norm$ 을 최소화 해햐한다. 이 문제는 벡터 $norm$ 의 제곱, $d_{1}^{2} + \\cdots + d_{m}^{2}$ 을 최소화하는 것과 동일하다."
   ]
  },
  {
   "cell_type": "markdown",
   "metadata": {},
   "source": [
    "### 12.2.1 트롤리 노선 위치 문제에 대한 솔루션\n",
    "\n",
    "각 벡터 $a_i$에 대해, $a_i = a_{i}^{||v} + a_{i}^{\\perp v}$ 라고 나타낼 수 있으며 ($a_{i}^{||v}$ 는 $v$ 에 따른 $a_i$의 투영, $a_{i}^{\\perp v}$ 는 $v$ 에 직교하는 투영) 다음과 같이 쓸 수 있다. 단, 여기서 $v$는 $Span\\{v\\}$를 형성하는 단위 $norm$ 벡터($norm=1$)이다.\n",
    "\n",
    "$$\n",
    "a_{1}^{\\perp v} = a_1 - a_{1}^{||v}\n",
    "$$\n",
    "\n",
    "$$\n",
    "\\vdots\n",
    "$$\n",
    "\n",
    "$$\n",
    "a_{m}^{\\perp v} = a_m - a_{m}^{||v}\n",
    "$$\n",
    "\n",
    "피타고라스 정리에 의하면, 다음이 성립한다.\n",
    "\n",
    "$$\n",
    "\\left\\| a_{1}^{\\perp v} \\right\\|^{2}=\\left\\| a_1 \\right\\|^{2} -\\left\\| a_{1}^{||v} \\right\\|^{2}\n",
    "$$\n",
    "\n",
    "$$\n",
    "\\vdots\n",
    "$$\n",
    "\n",
    "$$\n",
    "\\left\\| a_{m}^{\\perp v} \\right\\|^{2}=\\left\\| a_m \\right\\|^{2} -\\left\\| a_{m}^{||v} \\right\\|^{2}\n",
    "$$\n",
    "\n",
    "$a_{i}^{\\perp v}$ 는 $a_i$ 에서 $Span \\{v\\}$ 까지의 거리이므로, 다음과 같이 나타낼 수 있다.\n",
    "$$\n",
    "(a_1에서 Span\\{v\\}까지의 거리)^2 =\\left\\| a_1 \\right\\|^{2} -\\left\\| a_{1}^{||v} \\right\\|^{2}\n",
    "$$\n",
    "\n",
    "$$\n",
    "\\vdots\n",
    "$$\n",
    "\n",
    "$$\n",
    "(a_m에서 Span\\{v\\}까지의 거리)^2=\\left\\| a_m \\right\\|^{2} -\\left\\| a_{m}^{||v} \\right\\|^{2}\n",
    "$$\n",
    "\n",
    "위의 식을 수직으로 더하면 다음과 같다.\n",
    "\n",
    "$$\n",
    "\\begin{eqnarray} \\sum _{ i }^{  }{ (a_{ i }에서Span\\{ v\\} 까지의거리)^{ 2 } }  & = & \\left\\| a_{ 1 } \\right\\| ^{ 2 }+\\cdots +\\left\\| a_{ m } \\right\\| ^{ 2 }-\\left( \\left\\| a_{ 1 }^{ ||v } \\right\\| ^{ 2 }+\\cdots +\\left\\| a_{ m }^{ ||v } \\right\\| ^{ 2 } \\right)  \\\\  & = & \\left\\| A \\right\\|_{F} ^{2}  - \\left( \\left\\| a_{1}^{||v} \\right\\|^2 +\\cdots +  \\left\\| a_{m}^{||v} \\right\\|^2   \\right) \\end{eqnarray}\n",
    "$$\n",
    "\n",
    "\n",
    "위의 12.1.2의 *Lemma* 에 의하면 $A$는 행들이 $a_1,...,a_m$ 인 행렬이다.\n",
    "\n",
    "$v$ 는 $norm$이 1인 벡터이며,  $a_{i}^{||v} = \\left< a_i, v \\right>$ 이므로 $\\left\\| a{i}^{||v} \\right\\|^{2} = \\left< a_i, v \\right>^{2}$ 이다. 이를 이용하여 다음과 같이 나타낼 수 있다.\n",
    "\n",
    "$$\n",
    "\\sum _{ i }^{  }{ (a_{ i }에서Span\\{ v\\} 까지의거리)^{ 2 } } = \\left\\| A \\right\\|_{F} ^{2} - \\left( \\left< a_1, v \\right>^{2} +\\left< a_2, v \\right>^{2} + \\cdots + \\left< a_m, v \\right>^{2} \\right)\n",
    "$$\n",
    "\n",
    "$ \\left( \\left< a_1, v \\right>^{2} +\\left< a_2, v \\right>^{2} + \\cdots + \\left< a_m, v \\right>^{2} \\right)$ 는 아래와 같이 $\\left\\| Av \\right\\| ^{2}$ 로 나타낼 수 있다.\n",
    "\n",
    "$$\n",
    "\\begin{bmatrix} - & a_{ 1 } & - \\\\  & \\vdots  &  \\\\ - & a_{ m } & - \\end{bmatrix} \\begin{bmatrix}  \\\\  \\\\ v \\\\  \\\\  \\end{bmatrix}=\\begin{bmatrix} \\left< a_{ 1 },v \\right>  \\\\ \\vdots  \\\\ \\left< a_m, v \\right>  \\end{bmatrix}\n",
    "$$\n",
    "\n",
    "$$\n",
    "\\left\\| Av \\right\\| ^{2} = \\left( \\left< a_1, v \\right>^{2} +\\left< a_2, v \\right>^{2} + \\cdots + \\left< a_m, v \\right>^{2} \\right)\n",
    "$$\n",
    "\n",
    "최종적으로 아래와 같은 식을 구할 수 있다.\n",
    "\n",
    "$$\n",
    "\\sum _{ i }^{  }{ (a_{ i }에서Span\\{ v\\} 까지의거리)^{ 2 } } =\\left\\| A \\right\\|_{F} ^{2}  -\\left\\| Av \\right\\| ^{2}\n",
    "$$\n",
    "\n",
    "따라서, 최적의 벡터 $v$ 는 $\\left\\| Av \\right\\| ^{2}$ 를 **최대화**하는 (즉, $\\left\\| Av \\right\\|$ 를 최대화하는) 단위벡터이다.  \n",
    "\n",
    "이를 이용하여 트롤리 노선문제에 대한 솔루션은 다음과 같이 pseudo-code로 나타낼 수 있다.\n",
    "\n",
    "| 트롤리 노선 문제 솔루션                                      |\n",
    "| :----------------------------------------------------------- |\n",
    "| def trolley_line_location($A$):<br />        Given a matrix $A$, find the vector $v_1$<br />        minimizing $\\sum _{ i }^{  }{ (a_{ i }에서Span\\{ v\\} 까지의거리)^{ 2 } }$ <br />        $v_1 = \\arg \\max \\{\\left\\| Av \\right\\| : \\left\\| v \\right\\| = 1\\}$ <br />        $\\sigma_{1} = \\left\\| Av_{1} \\right\\|$ <br />        return $v_1$ |\n",
    "\n",
    "$\\arg \\max$ 표기법은 $\\left\\| Av \\right\\|$ 의 값이 최대가 되게 하는 것(이 경우 $norm$ 이 1인 벡터 $v$)을 의미한다.  이번 장에서는 솔루션을 제시하고 13장에서 $v_1$을 근사하는 방법에 대해 공부한다.\n",
    "\n",
    "\n",
    "\n",
    "***Definition*** : $\\sigma_1$ 은 $A$의 *첫 번째 특이값(singular value)* 이라 하고, $v_1$ 은 *첫 번째 오른쪽 특이벡터* 라 한다.\n",
    "\n",
    "\n",
    "\n",
    "***Example 12.2.3*** : $A=\\begin{bmatrix} 1 & 4 \\\\ 5 & 2 \\end{bmatrix}$ 라고 하면, 행렬 $A$의 행벡터 $a_1, a_2$는 $a_1 = [1, 4], a_2 = [5, 2]$ 이다. 이 경우, $\\left\\| Av \\right\\|$ 을 최대가 되게하는 단위벡터는 $v_1 \\approx \\begin{bmatrix} 0.78 \\\\ 0.63 \\end{bmatrix}$ 이다. $\\sigma_1 = \\left\\| Av \\right\\|$ 은 $6.1$ 이다.\n",
    "\n",
    "![](./images/trolley2.PNG)\n",
    "\n",
    "\n",
    "\n",
    "***Theorem*** : $A$ 는 $\\mathbb{R}$ 상의 $m \\times n$ 행렬이고, 이 행렬의 행들은 $a_1, ..., a_m$ 이라 하자. 이때 $v_1$ 은 $A$ 의 첫 번째 오른쪽 특이벡터라고 하면, $Span \\{v_1\\}$ 은 다음을 최소화하는 1차원 벡터공간 $\\mathcal{V}$ 이다.\n",
    "\n",
    "$$\n",
    "(a_1에서 \\mathcal{V}까지의 거리)^{2} + \\cdots + (a_m 에서 \\mathcal{V} 까지의 거리)^{2}\n",
    "$$\n",
    "\n",
    "\n",
    "***Lemma*** : 제곱 거리(squared distances)의 합의 최소값은 $\\left\\| A \\right\\|_{F} ^{2}  -\\left\\| Av \\right\\| ^{2}$ 이다.\n",
    "\n",
    "\n",
    "\n",
    "*12.2.3 생략*"
   ]
  },
  {
   "cell_type": "code",
   "execution_count": 27,
   "metadata": {},
   "outputs": [
    {
     "data": {
      "text/plain": [
       "(matrix([[-0.53895353, -0.8423355 ],\n",
       "         [-0.8423355 ,  0.53895353]]),\n",
       " array([ 6.1088314 ,  2.94655374]),\n",
       " matrix([[-0.77766609, -0.62867755],\n",
       "         [ 0.62867755, -0.77766609]]))"
      ]
     },
     "execution_count": 27,
     "metadata": {},
     "output_type": "execute_result"
    }
   ],
   "source": [
    "A = np.matrix([[1, 4], \n",
    "               [5, 2]])\n",
    "\n",
    "u, s, vh = np.linalg.svd(A)\n",
    "u, s, vh"
   ]
  },
  {
   "cell_type": "code",
   "execution_count": 28,
   "metadata": {},
   "outputs": [
    {
     "data": {
      "text/plain": [
       "array([[ 6.1088314 ,  0.        ],\n",
       "       [ 0.        ,  2.94655374]])"
      ]
     },
     "execution_count": 28,
     "metadata": {},
     "output_type": "execute_result"
    }
   ],
   "source": [
    "e = np.zeros((2, 2), float)\n",
    "np.fill_diagonal(e, s)\n",
    "e"
   ]
  },
  {
   "cell_type": "code",
   "execution_count": 30,
   "metadata": {},
   "outputs": [
    {
     "data": {
      "text/plain": [
       "matrix([[-3.29237627, -2.48198681],\n",
       "        [-5.14568553,  1.58805555]])"
      ]
     },
     "execution_count": 30,
     "metadata": {},
     "output_type": "execute_result"
    }
   ],
   "source": [
    "us = np.matmul(u, e)\n",
    "us"
   ]
  },
  {
   "cell_type": "code",
   "execution_count": 31,
   "metadata": {},
   "outputs": [
    {
     "data": {
      "text/plain": [
       "matrix([[ 1.,  4.],\n",
       "        [ 5.,  2.]])"
      ]
     },
     "execution_count": 31,
     "metadata": {},
     "output_type": "execute_result"
    }
   ],
   "source": [
    "np.matmul(us, vh)"
   ]
  },
  {
   "cell_type": "code",
   "execution_count": null,
   "metadata": {},
   "outputs": [],
   "source": []
  }
 ],
 "metadata": {
  "kernelspec": {
   "display_name": "Python 3",
   "language": "python",
   "name": "python3"
  },
  "language_info": {
   "codemirror_mode": {
    "name": "ipython",
    "version": 3
   },
   "file_extension": ".py",
   "mimetype": "text/x-python",
   "name": "python",
   "nbconvert_exporter": "python",
   "pygments_lexer": "ipython3",
   "version": "3.5.4"
  }
 },
 "nbformat": 4,
 "nbformat_minor": 2
}
